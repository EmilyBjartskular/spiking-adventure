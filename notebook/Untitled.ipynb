{
 "cells": [
  {
   "cell_type": "code",
   "execution_count": 1,
   "metadata": {},
   "outputs": [
    {
     "data": {
      "application/vnd.jupyter.widget-view+json": {
       "model_id": "aef1d845633e4329a9205ede779a866c",
       "version_major": 2,
       "version_minor": 0
      },
      "text/plain": [
       "MultiCanvas(height=30, width=500)"
      ]
     },
     "metadata": {},
     "output_type": "display_data"
    },
    {
     "name": "stdout",
     "output_type": "stream",
     "text": [
      "n = -0.12421, x = 187.89471"
     ]
    },
    {
     "ename": "KeyboardInterrupt",
     "evalue": "",
     "output_type": "error",
     "traceback": [
      "\u001b[0;31m---------------------------------------------------------------------------\u001b[0m",
      "\u001b[0;31mKeyboardInterrupt\u001b[0m                         Traceback (most recent call last)",
      "\u001b[0;32m<ipython-input-1-d0b14332dcdd>\u001b[0m in \u001b[0;36m<module>\u001b[0;34m\u001b[0m\n\u001b[1;32m     67\u001b[0m             \u001b[0mt\u001b[0m \u001b[0;34m+=\u001b[0m \u001b[0mdt\u001b[0m\u001b[0;34m\u001b[0m\u001b[0;34m\u001b[0m\u001b[0m\n\u001b[1;32m     68\u001b[0m \u001b[0;34m\u001b[0m\u001b[0m\n\u001b[0;32m---> 69\u001b[0;31m \u001b[0mgen_direction\u001b[0m\u001b[0;34m(\u001b[0m\u001b[0;36m5\u001b[0m\u001b[0;34m,\u001b[0m \u001b[0;36m0.01\u001b[0m\u001b[0;34m,\u001b[0m \u001b[0;36m9\u001b[0m\u001b[0;34m)\u001b[0m\u001b[0;34m\u001b[0m\u001b[0;34m\u001b[0m\u001b[0m\n\u001b[0m",
      "\u001b[0;32m<ipython-input-1-d0b14332dcdd>\u001b[0m in \u001b[0;36mgen_direction\u001b[0;34m(tmax, dt, precision)\u001b[0m\n\u001b[1;32m     38\u001b[0m         \u001b[0;31m# Loop freely and only do calculations when we exceed dt\u001b[0m\u001b[0;34m\u001b[0m\u001b[0;34m\u001b[0m\u001b[0;34m\u001b[0m\u001b[0m\n\u001b[1;32m     39\u001b[0m         \u001b[0;31m# this makes things smoother (in theory)\u001b[0m\u001b[0;34m\u001b[0m\u001b[0;34m\u001b[0m\u001b[0;34m\u001b[0m\u001b[0m\n\u001b[0;32m---> 40\u001b[0;31m         \u001b[0mt_delta\u001b[0m \u001b[0;34m=\u001b[0m \u001b[0mtime\u001b[0m\u001b[0;34m.\u001b[0m\u001b[0mperf_counter\u001b[0m\u001b[0;34m(\u001b[0m\u001b[0;34m)\u001b[0m\u001b[0;34m\u001b[0m\u001b[0;34m\u001b[0m\u001b[0m\n\u001b[0m\u001b[1;32m     41\u001b[0m         \u001b[0;32mif\u001b[0m \u001b[0mt_delta\u001b[0m \u001b[0;34m-\u001b[0m \u001b[0mt_delta_start\u001b[0m \u001b[0;34m>\u001b[0m \u001b[0mdt\u001b[0m\u001b[0;34m:\u001b[0m\u001b[0;34m\u001b[0m\u001b[0;34m\u001b[0m\u001b[0m\n\u001b[1;32m     42\u001b[0m             \u001b[0mt_delta_start\u001b[0m \u001b[0;34m=\u001b[0m \u001b[0mt_delta\u001b[0m\u001b[0;34m\u001b[0m\u001b[0;34m\u001b[0m\u001b[0m\n",
      "\u001b[0;31mKeyboardInterrupt\u001b[0m: "
     ]
    }
   ],
   "source": [
    "from ipycanvas import MultiCanvas, hold_canvas\n",
    "from perlin_noise import PerlinNoise\n",
    "import ipywidgets as ipw\n",
    "import IPython.display as ipd\n",
    "import time\n",
    "\n",
    "width = 500\n",
    "height = 30\n",
    "canvas = MultiCanvas(width=width, height=height)\n",
    "canvas[0].fill_style = '#000000'\n",
    "canvas[0].fill_rect(0, 0, width, height)\n",
    "ipd.display(canvas)\n",
    "\n",
    "LEFT = -1\n",
    "STILL = 0\n",
    "RIGHT = 1\n",
    "\n",
    "def direction(n_delta, thresh = 0.005):\n",
    "    # Left\n",
    "    if n_delta < -thresh:\n",
    "        return -1\n",
    "    # Right\n",
    "    if n_delta > thresh:\n",
    "        return 1\n",
    "    # Still\n",
    "    return 0\n",
    "\n",
    "def gen_direction(tmax, dt, precision = 1):\n",
    "    # Seed noise generator\n",
    "    noise = PerlinNoise(octaves=4, seed=1)\n",
    "    \n",
    "    i = 0\n",
    "    t = 0\n",
    "    last_n = 0\n",
    "    t_delta_start = time.perf_counter()\n",
    "    tc_start = time.perf_counter()\n",
    "    while True:\n",
    "        # Loop freely and only do calculations when we exceed dt\n",
    "        # this makes things smoother (in theory)\n",
    "        t_delta = time.perf_counter()\n",
    "        if t_delta - t_delta_start > dt:\n",
    "            t_delta_start = t_delta\n",
    "            \n",
    "            n = noise(t / precision)\n",
    "\n",
    "            n_delta = n - last_n\n",
    "            last_n = n\n",
    "            d = direction(n_delta)\n",
    "\n",
    "            # 50 fps\n",
    "            tc = time.perf_counter()\n",
    "            if tc - tc_start > 0.05:\n",
    "                tc_start = tc\n",
    "                \n",
    "                # For drawing\n",
    "                with hold_canvas(canvas):\n",
    "                    # Clear display\n",
    "                    canvas[1].clear()\n",
    "                    # Change color of circle if the output data says it's standing still\n",
    "                    if d == STILL:\n",
    "                        canvas[1].fill_style = '#ffff00'\n",
    "                    else:\n",
    "                        canvas[1].fill_style = '#ffffff'\n",
    "                    x = n * width + width / 2\n",
    "                    canvas[1].fill_circle(x, height / 2, height / 2)\n",
    "                    print('\\rn = {:8.5f}, x = {:8.5f}'.format(n, x), end='')\n",
    "            t += dt\n",
    "\n",
    "gen_direction(5, 0.01, 9)"
   ]
  },
  {
   "cell_type": "code",
   "execution_count": null,
   "metadata": {},
   "outputs": [],
   "source": [
    "import time\n",
    "\n",
    "bla_old = time.perf_counter()\n",
    "i = 0\n",
    "while True:\n",
    "    print(f'\\r{i}', end='')\n",
    "    i += 1"
   ]
  }
 ],
 "metadata": {
  "kernelspec": {
   "display_name": "Python 3",
   "language": "python",
   "name": "python3"
  },
  "language_info": {
   "codemirror_mode": {
    "name": "ipython",
    "version": 3
   },
   "file_extension": ".py",
   "mimetype": "text/x-python",
   "name": "python",
   "nbconvert_exporter": "python",
   "pygments_lexer": "ipython3",
   "version": "3.9.1"
  }
 },
 "nbformat": 4,
 "nbformat_minor": 4
}
