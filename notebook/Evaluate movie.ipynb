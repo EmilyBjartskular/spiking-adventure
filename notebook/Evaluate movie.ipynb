{
 "cells": [
  {
   "cell_type": "code",
   "execution_count": 1,
   "metadata": {},
   "outputs": [
    {
     "name": "stdout",
     "output_type": "stream",
     "text": [
      "Collecting git+https://github.com/jsh9/python-plot-utilities\n",
      "  Cloning https://github.com/jsh9/python-plot-utilities to c:\\users\\ttalp\\appdata\\local\\temp\\pip-req-build-envzjfq_\n",
      "Requirement already satisfied (use --upgrade to upgrade): plot-utils==0.6.6 from git+https://github.com/jsh9/python-plot-utilities in c:\\users\\ttalp\\anaconda3\\envs\\nnlm\\lib\\site-packages\n",
      "Requirement already satisfied: numpy>=1.11.0 in c:\\users\\ttalp\\anaconda3\\envs\\nnlm\\lib\\site-packages (from plot-utils==0.6.6) (1.19.2)\n",
      "Requirement already satisfied: scipy>=0.19.0 in c:\\users\\ttalp\\anaconda3\\envs\\nnlm\\lib\\site-packages (from plot-utils==0.6.6) (1.5.2)\n",
      "Requirement already satisfied: pandas>=0.17.1 in c:\\users\\ttalp\\anaconda3\\envs\\nnlm\\lib\\site-packages (from plot-utils==0.6.6) (1.1.3)\n",
      "Requirement already satisfied: cycler>=0.10.0 in c:\\users\\ttalp\\anaconda3\\envs\\nnlm\\lib\\site-packages (from plot-utils==0.6.6) (0.10.0)\n",
      "Requirement already satisfied: matplotlib in c:\\users\\ttalp\\anaconda3\\envs\\nnlm\\lib\\site-packages (from plot-utils==0.6.6) (3.3.2)\n",
      "Requirement already satisfied: python-dateutil>=2.7.3 in c:\\users\\ttalp\\anaconda3\\envs\\nnlm\\lib\\site-packages (from pandas>=0.17.1->plot-utils==0.6.6) (2.8.1)\n",
      "Requirement already satisfied: pytz>=2017.2 in c:\\users\\ttalp\\anaconda3\\envs\\nnlm\\lib\\site-packages (from pandas>=0.17.1->plot-utils==0.6.6) (2020.1)\n",
      "Requirement already satisfied: six in c:\\users\\ttalp\\anaconda3\\envs\\nnlm\\lib\\site-packages (from cycler>=0.10.0->plot-utils==0.6.6) (1.15.0)\n",
      "Requirement already satisfied: pyparsing!=2.0.4,!=2.1.2,!=2.1.6,>=2.0.3 in c:\\users\\ttalp\\anaconda3\\envs\\nnlm\\lib\\site-packages (from matplotlib->plot-utils==0.6.6) (2.4.7)\n",
      "Requirement already satisfied: pillow>=6.2.0 in c:\\users\\ttalp\\anaconda3\\envs\\nnlm\\lib\\site-packages (from matplotlib->plot-utils==0.6.6) (8.0.1)\n",
      "Requirement already satisfied: kiwisolver>=1.0.1 in c:\\users\\ttalp\\anaconda3\\envs\\nnlm\\lib\\site-packages (from matplotlib->plot-utils==0.6.6) (1.3.0)\n",
      "Requirement already satisfied: certifi>=2020.06.20 in c:\\users\\ttalp\\anaconda3\\envs\\nnlm\\lib\\site-packages (from matplotlib->plot-utils==0.6.6) (2020.6.20)\n",
      "Building wheels for collected packages: plot-utils\n",
      "  Building wheel for plot-utils (setup.py): started\n",
      "  Building wheel for plot-utils (setup.py): finished with status 'done'\n",
      "  Created wheel for plot-utils: filename=plot_utils-0.6.6-py3-none-any.whl size=13278151 sha256=323f65b5b4f812d403f13a1c78ad1aebf5cf7f977b9c533e8fa07903c7767099\n",
      "  Stored in directory: C:\\Users\\ttalp\\AppData\\Local\\Temp\\pip-ephem-wheel-cache-5827khn5\\wheels\\6d\\3f\\b7\\ac663da9fc0566bd2bfdbbcf98dee2f8f601abaf483b6106b9\n",
      "Successfully built plot-utils\n"
     ]
    }
   ],
   "source": [
    "!pip install git+https://github.com/jsh9/python-plot-utilities"
   ]
  },
  {
   "cell_type": "markdown",
   "metadata": {},
   "source": [
    "# Functions and imports"
   ]
  },
  {
   "cell_type": "code",
   "execution_count": 38,
   "metadata": {},
   "outputs": [
    {
     "name": "stdout",
     "output_type": "stream",
     "text": [
      "Imports done\n",
      "OK\n"
     ]
    }
   ],
   "source": [
    "# Imports\r\n",
    "from brian2 import *\r\n",
    "import sympy\r\n",
    "import plot_utils\r\n",
    "from PIL import Image\r\n",
    "import os, os.path\r\n",
    "import numpy as np\r\n",
    "import skimage\r\n",
    "\r\n",
    "import matplotlib.pyplot as plt\r\n",
    "\r\n",
    "#scikit-image ???\r\n",
    "from skimage.measure import compare_ssim\r\n",
    "from skimage.color import rgb2gray\r\n",
    "from skimage.io import imread\r\n",
    "\r\n",
    "print(\"Imports done\")\r\n",
    "\r\n",
    "#################################################\r\n",
    "\r\n",
    "'''\r\n",
    "diff_to_pos(gray1,gray2,th): movement\r\n",
    "gray1, gray2: images compared (SSIM algo)\r\n",
    "th: is the theshold of maximal likelihood (result of SSIM algo) between 0 and 1\r\n",
    "\r\n",
    "return: probable movement position (mean) and variance of this estimation\r\n",
    "'''\r\n",
    "\r\n",
    "def diff_to_pos(gray1,gray2,th,fct=\"mean\"):\r\n",
    "\r\n",
    "    # compute ssim (struc sim)\r\n",
    "    (score, sim) = compare_ssim(gray1, gray2, full=True)\r\n",
    "    sim[sim>th] = 1 #discard little changes, if sim = 1 not diff between grp of pixels, if sim = 0 totally diff\r\n",
    "\r\n",
    "    # reduce to 1D (column)\r\n",
    "    col_mean = np.array(1 - sim).sum(0) # 1 - values to inverse and compute according to max of diff\r\n",
    "\r\n",
    "    if col_mean.sum() == 0:\r\n",
    "        return {\"m\": None,\"v\": None}\r\n",
    "\r\n",
    "    else:\r\n",
    "        if fct == \"mean\":\r\n",
    "            col_mean /= max(col_mean)\r\n",
    "            values = np.array([col_mean[i]*i for i in range(len(col_mean))])\r\n",
    "            mean = values.sum() / col_mean.sum()\r\n",
    "\r\n",
    "            values = np.array([abs(i-mean)*col_mean[i] for i in range(len(col_mean))])\r\n",
    "            var = values.sum() / col_mean.sum()\r\n",
    "\r\n",
    "        return {\"m\": round(mean,0),\"v\": var}\r\n",
    "\r\n",
    "#################################################\r\n",
    "\r\n",
    "'''\r\n",
    "pos_to_move(pos1,pos2,th,width): movement\r\n",
    "th: minimal movement (% of width) as positions and width are in pixel\r\n",
    "return: -1 goes to the left, 1 to the right, 0 not enough changes (based on 2 consecutive movement positions: pos1 and pos2)\r\n",
    "'''\r\n",
    "\r\n",
    "def pos_to_move(pos1,pos2,th,width):\r\n",
    "    ret = 0\r\n",
    "    if (abs(pos1-pos2)/width > th):\r\n",
    "        if (pos1 < pos2):\r\n",
    "            ret = 1\r\n",
    "        else:\r\n",
    "            ret = -1\r\n",
    "    return ret\r\n",
    "\r\n",
    "#################################################\r\n",
    "\r\n",
    "'''\r\n",
    "vid_to_movement(frames,move_th,sim_th): movements\r\n",
    "frames: is a list of grayscaled frame (at least 3 images)\r\n",
    "move_th: is a coefficient for the threshold dection of a minimal movement (if no movement, keep first position in memory)\r\n",
    "sim_th: is a threshold for a maximal likelihood between pictures\r\n",
    "\r\n",
    "return: {\"moves\": list_of_movements, \"positions\": {\"m\": mean, \"v\" variance}}\r\n",
    "\r\n",
    "WARNING: at least 3 frames should be necessary to compute 2 frame diff and get one \"movement\"\r\n",
    "    Thus for N pictures, it return N-2 \"movement\"\r\n",
    "'''\r\n",
    "\r\n",
    "def video_processing(frames,move_th,sim_th):\r\n",
    "\r\n",
    "    if len(frames) > 3:\r\n",
    "        frame_arr = np.array(frames)\r\n",
    "        img_width = len(frames[0][0])\r\n",
    "        \r\n",
    "        pos_list = []\r\n",
    "        for i in range(len(frames)-1):\r\n",
    "            pos_list.append(diff_to_pos(frame_arr[i],frame_arr[i+1],sim_th))\r\n",
    "        \r\n",
    "        mv_list = []\r\n",
    "        prev_pos = pos_list[0]['m']\r\n",
    "\r\n",
    "        #get first pos\r\n",
    "        static_i = 1\r\n",
    "        while prev_pos == None and static_i < len(pos_list) - 1:\r\n",
    "            prev_pos = pos_list[static_i]['m']\r\n",
    "            mv_list.append(0)\r\n",
    "            static_i += 1\r\n",
    "\r\n",
    "        #compute \"movement\"\r\n",
    "        for j in range(static_i, len(pos_list)):\r\n",
    "            move = 0\r\n",
    "\r\n",
    "            if (pos_list[j]['m'] != None):\r\n",
    "                move = pos_to_move(prev_pos,pos_list[j]['m'],move_th,img_width)\r\n",
    "                \r\n",
    "                if (move != 0):\r\n",
    "                    prev_pos = pos_list[j]['m'] #keep in memory new pos if enough \"movement\" between lastest images\r\n",
    "            \r\n",
    "            mv_list.append(move)\r\n",
    "        \r\n",
    "        return {\"moves\": mv_list, \"positions\": pos_list}\r\n",
    "\r\n",
    "    else:\r\n",
    "        return None\r\n",
    "        \r\n",
    "#################################################\r\n",
    "\r\n",
    "print(\"OK\")"
   ]
  },
  {
   "cell_type": "markdown",
   "metadata": {},
   "source": [
    "# Video\r\n",
    "\r\n",
    "### Extract a list of frame from video file or several pictures"
   ]
  },
  {
   "cell_type": "code",
   "execution_count": 39,
   "metadata": {},
   "outputs": [
    {
     "data": {
      "image/png": "[encoded data removed]",
      "image/svg+xml": "<?xml version=\"1.0\" encoding=\"utf-8\" standalone=\"no\"?>\r\n<!DOCTYPE svg PUBLIC \"-//W3C//DTD SVG 1.1//EN\"\r\n  \"http://www.w3.org/Graphics/SVG/1.1/DTD/svg11.dtd\">\r\n<!-- Created with matplotlib (https://matplotlib.org/) -->\r\n<svg height=\"252.090844pt\" version=\"1.1\" viewBox=\"0 0 330.4075 252.090844\" width=\"330.4075pt\" xmlns=\"http://www.w3.org/2000/svg\" xmlns:xlink=\"http://www.w3.org/1999/xlink\">\r\n <defs>\r\n  <style type=\"text/css\">\r\n*{stroke-linecap:butt;stroke-linejoin:round;}\r\n  </style>\r\n </defs>\r\n <g id=\"figure_1\">\r\n  <g id=\"patch_1\">\r\n   <path d=\"M 0 252.090844 \r\nL 330.4075 252.090844 \r\nL 330.4075 0 \r\nL 0 0 \r\nz\r\n\" style=\"fill:none;\"/>\r\n  </g>\r\n  <g id=\"axes_1\">\r\n   <g id=\"patch_2\">\r\n    <path d=\"M 33.2875 228.212719 \r\nL 323.2075 228.212719 \r\nL 323.2075 10.772719 \r\nL 33.2875 10.772719 \r\nz\r\n\" style=\"fill:#ffffff;\"/>\r\n   </g>\r\n   <g clip-path=\"url(#p547ec36d95)\">\r\n    <image height=\"218\" id=\"imagef81edf30d1\" transform=\"scale(1 -1)translate(0 -218)\" width=\"290\" x=\"33.2875\" xlink:href=\"data:image/png;base64,\r\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\" y=\"-10.212719\"/>\r\n   </g>\r\n   <g id=\"matplotlib.axis_1\">\r\n    <g id=\"xtick_1\">\r\n     <g id=\"line2d_1\">\r\n      <defs>\r\n       <path d=\"M 0 0 \r\nL 0 3.5 \r\n\" id=\"mbab2033ef9\" style=\"stroke:#000000;stroke-width:0.8;\"/>\r\n      </defs>\r\n      <g>\r\n       <use style=\"stroke:#000000;stroke-width:0.8;\" x=\"33.514\" xlink:href=\"#mbab2033ef9\" y=\"228.212719\"/>\r\n      </g>\r\n     </g>\r\n     <g id=\"text_1\">\r\n      <!-- 0 -->\r\n      <defs>\r\n       <path d=\"M 31.78125 66.40625 \r\nQ 24.171875 66.40625 20.328125 58.90625 \r\nQ 16.5 51.421875 16.5 36.375 \r\nQ 16.5 21.390625 20.328125 13.890625 \r\nQ 24.171875 6.390625 31.78125 6.390625 \r\nQ 39.453125 6.390625 43.28125 13.890625 \r\nQ 47.125 21.390625 47.125 36.375 \r\nQ 47.125 51.421875 43.28125 58.90625 \r\nQ 39.453125 66.40625 31.78125 66.40625 \r\nz\r\nM 31.78125 74.21875 \r\nQ 44.046875 74.21875 50.515625 64.515625 \r\nQ 56.984375 54.828125 56.984375 36.375 \r\nQ 56.984375 17.96875 50.515625 8.265625 \r\nQ 44.046875 -1.421875 31.78125 -1.421875 \r\nQ 19.53125 -1.421875 13.0625 8.265625 \r\nQ 6.59375 17.96875 6.59375 36.375 \r\nQ 6.59375 54.828125 13.0625 64.515625 \r\nQ 19.53125 74.21875 31.78125 74.21875 \r\nz\r\n\" id=\"DejaVuSans-48\"/>\r\n      </defs>\r\n      <g transform=\"translate(30.33275 242.811156)scale(0.1 -0.1)\">\r\n       <use xlink:href=\"#DejaVuSans-48\"/>\r\n      </g>\r\n     </g>\r\n    </g>\r\n    <g id=\"xtick_2\">\r\n     <g id=\"line2d_2\">\r\n      <g>\r\n       <use style=\"stroke:#000000;stroke-width:0.8;\" x=\"78.814\" xlink:href=\"#mbab2033ef9\" y=\"228.212719\"/>\r\n      </g>\r\n     </g>\r\n     <g id=\"text_2\">\r\n      <!-- 100 -->\r\n      <defs>\r\n       <path d=\"M 12.40625 8.296875 \r\nL 28.515625 8.296875 \r\nL 28.515625 63.921875 \r\nL 10.984375 60.40625 \r\nL 10.984375 69.390625 \r\nL 28.421875 72.90625 \r\nL 38.28125 72.90625 \r\nL 38.28125 8.296875 \r\nL 54.390625 8.296875 \r\nL 54.390625 0 \r\nL 12.40625 0 \r\nz\r\n\" id=\"DejaVuSans-49\"/>\r\n      </defs>\r\n      <g transform=\"translate(69.27025 242.811156)scale(0.1 -0.1)\">\r\n       <use xlink:href=\"#DejaVuSans-49\"/>\r\n       <use x=\"63.623047\" xlink:href=\"#DejaVuSans-48\"/>\r\n       <use x=\"127.246094\" xlink:href=\"#DejaVuSans-48\"/>\r\n      </g>\r\n     </g>\r\n    </g>\r\n    <g id=\"xtick_3\">\r\n     <g id=\"line2d_3\">\r\n      <g>\r\n       <use style=\"stroke:#000000;stroke-width:0.8;\" x=\"124.114\" xlink:href=\"#mbab2033ef9\" y=\"228.212719\"/>\r\n      </g>\r\n     </g>\r\n     <g id=\"text_3\">\r\n      <!-- 200 -->\r\n      <defs>\r\n       <path d=\"M 19.1875 8.296875 \r\nL 53.609375 8.296875 \r\nL 53.609375 0 \r\nL 7.328125 0 \r\nL 7.328125 8.296875 \r\nQ 12.9375 14.109375 22.625 23.890625 \r\nQ 32.328125 33.6875 34.8125 36.53125 \r\nQ 39.546875 41.84375 41.421875 45.53125 \r\nQ 43.3125 49.21875 43.3125 52.78125 \r\nQ 43.3125 58.59375 39.234375 62.25 \r\nQ 35.15625 65.921875 28.609375 65.921875 \r\nQ 23.96875 65.921875 18.8125 64.3125 \r\nQ 13.671875 62.703125 7.8125 59.421875 \r\nL 7.8125 69.390625 \r\nQ 13.765625 71.78125 18.9375 73 \r\nQ 24.125 74.21875 28.421875 74.21875 \r\nQ 39.75 74.21875 46.484375 68.546875 \r\nQ 53.21875 62.890625 53.21875 53.421875 \r\nQ 53.21875 48.921875 51.53125 44.890625 \r\nQ 49.859375 40.875 45.40625 35.40625 \r\nQ 44.1875 33.984375 37.640625 27.21875 \r\nQ 31.109375 20.453125 19.1875 8.296875 \r\nz\r\n\" id=\"DejaVuSans-50\"/>\r\n      </defs>\r\n      <g transform=\"translate(114.57025 242.811156)scale(0.1 -0.1)\">\r\n       <use xlink:href=\"#DejaVuSans-50\"/>\r\n       <use x=\"63.623047\" xlink:href=\"#DejaVuSans-48\"/>\r\n       <use x=\"127.246094\" xlink:href=\"#DejaVuSans-48\"/>\r\n      </g>\r\n     </g>\r\n    </g>\r\n    <g id=\"xtick_4\">\r\n     <g id=\"line2d_4\">\r\n      <g>\r\n       <use style=\"stroke:#000000;stroke-width:0.8;\" x=\"169.414\" xlink:href=\"#mbab2033ef9\" y=\"228.212719\"/>\r\n      </g>\r\n     </g>\r\n     <g id=\"text_4\">\r\n      <!-- 300 -->\r\n      <defs>\r\n       <path d=\"M 40.578125 39.3125 \r\nQ 47.65625 37.796875 51.625 33 \r\nQ 55.609375 28.21875 55.609375 21.1875 \r\nQ 55.609375 10.40625 48.1875 4.484375 \r\nQ 40.765625 -1.421875 27.09375 -1.421875 \r\nQ 22.515625 -1.421875 17.65625 -0.515625 \r\nQ 12.796875 0.390625 7.625 2.203125 \r\nL 7.625 11.71875 \r\nQ 11.71875 9.328125 16.59375 8.109375 \r\nQ 21.484375 6.890625 26.8125 6.890625 \r\nQ 36.078125 6.890625 40.9375 10.546875 \r\nQ 45.796875 14.203125 45.796875 21.1875 \r\nQ 45.796875 27.640625 41.28125 31.265625 \r\nQ 36.765625 34.90625 28.71875 34.90625 \r\nL 20.21875 34.90625 \r\nL 20.21875 43.015625 \r\nL 29.109375 43.015625 \r\nQ 36.375 43.015625 40.234375 45.921875 \r\nQ 44.09375 48.828125 44.09375 54.296875 \r\nQ 44.09375 59.90625 40.109375 62.90625 \r\nQ 36.140625 65.921875 28.71875 65.921875 \r\nQ 24.65625 65.921875 20.015625 65.03125 \r\nQ 15.375 64.15625 9.8125 62.3125 \r\nL 9.8125 71.09375 \r\nQ 15.4375 72.65625 20.34375 73.4375 \r\nQ 25.25 74.21875 29.59375 74.21875 \r\nQ 40.828125 74.21875 47.359375 69.109375 \r\nQ 53.90625 64.015625 53.90625 55.328125 \r\nQ 53.90625 49.265625 50.4375 45.09375 \r\nQ 46.96875 40.921875 40.578125 39.3125 \r\nz\r\n\" id=\"DejaVuSans-51\"/>\r\n      </defs>\r\n      <g transform=\"translate(159.87025 242.811156)scale(0.1 -0.1)\">\r\n       <use xlink:href=\"#DejaVuSans-51\"/>\r\n       <use x=\"63.623047\" xlink:href=\"#DejaVuSans-48\"/>\r\n       <use x=\"127.246094\" xlink:href=\"#DejaVuSans-48\"/>\r\n      </g>\r\n     </g>\r\n    </g>\r\n    <g id=\"xtick_5\">\r\n     <g id=\"line2d_5\">\r\n      <g>\r\n       <use style=\"stroke:#000000;stroke-width:0.8;\" x=\"214.714\" xlink:href=\"#mbab2033ef9\" y=\"228.212719\"/>\r\n      </g>\r\n     </g>\r\n     <g id=\"text_5\">\r\n      <!-- 400 -->\r\n      <defs>\r\n       <path d=\"M 37.796875 64.3125 \r\nL 12.890625 25.390625 \r\nL 37.796875 25.390625 \r\nz\r\nM 35.203125 72.90625 \r\nL 47.609375 72.90625 \r\nL 47.609375 25.390625 \r\nL 58.015625 25.390625 \r\nL 58.015625 17.1875 \r\nL 47.609375 17.1875 \r\nL 47.609375 0 \r\nL 37.796875 0 \r\nL 37.796875 17.1875 \r\nL 4.890625 17.1875 \r\nL 4.890625 26.703125 \r\nz\r\n\" id=\"DejaVuSans-52\"/>\r\n      </defs>\r\n      <g transform=\"translate(205.17025 242.811156)scale(0.1 -0.1)\">\r\n       <use xlink:href=\"#DejaVuSans-52\"/>\r\n       <use x=\"63.623047\" xlink:href=\"#DejaVuSans-48\"/>\r\n       <use x=\"127.246094\" xlink:href=\"#DejaVuSans-48\"/>\r\n      </g>\r\n     </g>\r\n    </g>\r\n    <g id=\"xtick_6\">\r\n     <g id=\"line2d_6\">\r\n      <g>\r\n       <use style=\"stroke:#000000;stroke-width:0.8;\" x=\"260.014\" xlink:href=\"#mbab2033ef9\" y=\"228.212719\"/>\r\n      </g>\r\n     </g>\r\n     <g id=\"text_6\">\r\n      <!-- 500 -->\r\n      <defs>\r\n       <path d=\"M 10.796875 72.90625 \r\nL 49.515625 72.90625 \r\nL 49.515625 64.59375 \r\nL 19.828125 64.59375 \r\nL 19.828125 46.734375 \r\nQ 21.96875 47.46875 24.109375 47.828125 \r\nQ 26.265625 48.1875 28.421875 48.1875 \r\nQ 40.625 48.1875 47.75 41.5 \r\nQ 54.890625 34.8125 54.890625 23.390625 \r\nQ 54.890625 11.625 47.5625 5.09375 \r\nQ 40.234375 -1.421875 26.90625 -1.421875 \r\nQ 22.3125 -1.421875 17.546875 -0.640625 \r\nQ 12.796875 0.140625 7.71875 1.703125 \r\nL 7.71875 11.625 \r\nQ 12.109375 9.234375 16.796875 8.0625 \r\nQ 21.484375 6.890625 26.703125 6.890625 \r\nQ 35.15625 6.890625 40.078125 11.328125 \r\nQ 45.015625 15.765625 45.015625 23.390625 \r\nQ 45.015625 31 40.078125 35.4375 \r\nQ 35.15625 39.890625 26.703125 39.890625 \r\nQ 22.75 39.890625 18.8125 39.015625 \r\nQ 14.890625 38.140625 10.796875 36.28125 \r\nz\r\n\" id=\"DejaVuSans-53\"/>\r\n      </defs>\r\n      <g transform=\"translate(250.47025 242.811156)scale(0.1 -0.1)\">\r\n       <use xlink:href=\"#DejaVuSans-53\"/>\r\n       <use x=\"63.623047\" xlink:href=\"#DejaVuSans-48\"/>\r\n       <use x=\"127.246094\" xlink:href=\"#DejaVuSans-48\"/>\r\n      </g>\r\n     </g>\r\n    </g>\r\n    <g id=\"xtick_7\">\r\n     <g id=\"line2d_7\">\r\n      <g>\r\n       <use style=\"stroke:#000000;stroke-width:0.8;\" x=\"305.314\" xlink:href=\"#mbab2033ef9\" y=\"228.212719\"/>\r\n      </g>\r\n     </g>\r\n     <g id=\"text_7\">\r\n      <!-- 600 -->\r\n      <defs>\r\n       <path d=\"M 33.015625 40.375 \r\nQ 26.375 40.375 22.484375 35.828125 \r\nQ 18.609375 31.296875 18.609375 23.390625 \r\nQ 18.609375 15.53125 22.484375 10.953125 \r\nQ 26.375 6.390625 33.015625 6.390625 \r\nQ 39.65625 6.390625 43.53125 10.953125 \r\nQ 47.40625 15.53125 47.40625 23.390625 \r\nQ 47.40625 31.296875 43.53125 35.828125 \r\nQ 39.65625 40.375 33.015625 40.375 \r\nz\r\nM 52.59375 71.296875 \r\nL 52.59375 62.3125 \r\nQ 48.875 64.0625 45.09375 64.984375 \r\nQ 41.3125 65.921875 37.59375 65.921875 \r\nQ 27.828125 65.921875 22.671875 59.328125 \r\nQ 17.53125 52.734375 16.796875 39.40625 \r\nQ 19.671875 43.65625 24.015625 45.921875 \r\nQ 28.375 48.1875 33.59375 48.1875 \r\nQ 44.578125 48.1875 50.953125 41.515625 \r\nQ 57.328125 34.859375 57.328125 23.390625 \r\nQ 57.328125 12.15625 50.6875 5.359375 \r\nQ 44.046875 -1.421875 33.015625 -1.421875 \r\nQ 20.359375 -1.421875 13.671875 8.265625 \r\nQ 6.984375 17.96875 6.984375 36.375 \r\nQ 6.984375 53.65625 15.1875 63.9375 \r\nQ 23.390625 74.21875 37.203125 74.21875 \r\nQ 40.921875 74.21875 44.703125 73.484375 \r\nQ 48.484375 72.75 52.59375 71.296875 \r\nz\r\n\" id=\"DejaVuSans-54\"/>\r\n      </defs>\r\n      <g transform=\"translate(295.77025 242.811156)scale(0.1 -0.1)\">\r\n       <use xlink:href=\"#DejaVuSans-54\"/>\r\n       <use x=\"63.623047\" xlink:href=\"#DejaVuSans-48\"/>\r\n       <use x=\"127.246094\" xlink:href=\"#DejaVuSans-48\"/>\r\n      </g>\r\n     </g>\r\n    </g>\r\n   </g>\r\n   <g id=\"matplotlib.axis_2\">\r\n    <g id=\"ytick_1\">\r\n     <g id=\"line2d_8\">\r\n      <defs>\r\n       <path d=\"M 0 0 \r\nL -3.5 0 \r\n\" id=\"mf6b886a811\" style=\"stroke:#000000;stroke-width:0.8;\"/>\r\n      </defs>\r\n      <g>\r\n       <use style=\"stroke:#000000;stroke-width:0.8;\" x=\"33.2875\" xlink:href=\"#mf6b886a811\" y=\"10.999219\"/>\r\n      </g>\r\n     </g>\r\n     <g id=\"text_8\">\r\n      <!-- 0 -->\r\n      <g transform=\"translate(19.925 14.798437)scale(0.1 -0.1)\">\r\n       <use xlink:href=\"#DejaVuSans-48\"/>\r\n      </g>\r\n     </g>\r\n    </g>\r\n    <g id=\"ytick_2\">\r\n     <g id=\"line2d_9\">\r\n      <g>\r\n       <use style=\"stroke:#000000;stroke-width:0.8;\" x=\"33.2875\" xlink:href=\"#mf6b886a811\" y=\"56.299219\"/>\r\n      </g>\r\n     </g>\r\n     <g id=\"text_9\">\r\n      <!-- 100 -->\r\n      <g transform=\"translate(7.2 60.098437)scale(0.1 -0.1)\">\r\n       <use xlink:href=\"#DejaVuSans-49\"/>\r\n       <use x=\"63.623047\" xlink:href=\"#DejaVuSans-48\"/>\r\n       <use x=\"127.246094\" xlink:href=\"#DejaVuSans-48\"/>\r\n      </g>\r\n     </g>\r\n    </g>\r\n    <g id=\"ytick_3\">\r\n     <g id=\"line2d_10\">\r\n      <g>\r\n       <use style=\"stroke:#000000;stroke-width:0.8;\" x=\"33.2875\" xlink:href=\"#mf6b886a811\" y=\"101.599219\"/>\r\n      </g>\r\n     </g>\r\n     <g id=\"text_10\">\r\n      <!-- 200 -->\r\n      <g transform=\"translate(7.2 105.398437)scale(0.1 -0.1)\">\r\n       <use xlink:href=\"#DejaVuSans-50\"/>\r\n       <use x=\"63.623047\" xlink:href=\"#DejaVuSans-48\"/>\r\n       <use x=\"127.246094\" xlink:href=\"#DejaVuSans-48\"/>\r\n      </g>\r\n     </g>\r\n    </g>\r\n    <g id=\"ytick_4\">\r\n     <g id=\"line2d_11\">\r\n      <g>\r\n       <use style=\"stroke:#000000;stroke-width:0.8;\" x=\"33.2875\" xlink:href=\"#mf6b886a811\" y=\"146.899219\"/>\r\n      </g>\r\n     </g>\r\n     <g id=\"text_11\">\r\n      <!-- 300 -->\r\n      <g transform=\"translate(7.2 150.698437)scale(0.1 -0.1)\">\r\n       <use xlink:href=\"#DejaVuSans-51\"/>\r\n       <use x=\"63.623047\" xlink:href=\"#DejaVuSans-48\"/>\r\n       <use x=\"127.246094\" xlink:href=\"#DejaVuSans-48\"/>\r\n      </g>\r\n     </g>\r\n    </g>\r\n    <g id=\"ytick_5\">\r\n     <g id=\"line2d_12\">\r\n      <g>\r\n       <use style=\"stroke:#000000;stroke-width:0.8;\" x=\"33.2875\" xlink:href=\"#mf6b886a811\" y=\"192.199219\"/>\r\n      </g>\r\n     </g>\r\n     <g id=\"text_12\">\r\n      <!-- 400 -->\r\n      <g transform=\"translate(7.2 195.998437)scale(0.1 -0.1)\">\r\n       <use xlink:href=\"#DejaVuSans-52\"/>\r\n       <use x=\"63.623047\" xlink:href=\"#DejaVuSans-48\"/>\r\n       <use x=\"127.246094\" xlink:href=\"#DejaVuSans-48\"/>\r\n      </g>\r\n     </g>\r\n    </g>\r\n   </g>\r\n   <g id=\"patch_3\">\r\n    <path d=\"M 33.2875 228.212719 \r\nL 33.2875 10.772719 \r\n\" style=\"fill:none;stroke:#000000;stroke-linecap:square;stroke-linejoin:miter;stroke-width:0.8;\"/>\r\n   </g>\r\n   <g id=\"patch_4\">\r\n    <path d=\"M 323.2075 228.212719 \r\nL 323.2075 10.772719 \r\n\" style=\"fill:none;stroke:#000000;stroke-linecap:square;stroke-linejoin:miter;stroke-width:0.8;\"/>\r\n   </g>\r\n   <g id=\"patch_5\">\r\n    <path d=\"M 33.2875 228.212719 \r\nL 323.2075 228.212719 \r\n\" style=\"fill:none;stroke:#000000;stroke-linecap:square;stroke-linejoin:miter;stroke-width:0.8;\"/>\r\n   </g>\r\n   <g id=\"patch_6\">\r\n    <path d=\"M 33.2875 10.772719 \r\nL 323.2075 10.772719 \r\n\" style=\"fill:none;stroke:#000000;stroke-linecap:square;stroke-linejoin:miter;stroke-width:0.8;\"/>\r\n   </g>\r\n  </g>\r\n </g>\r\n <defs>\r\n  <clipPath id=\"p547ec36d95\">\r\n   <rect height=\"217.44\" width=\"289.92\" x=\"33.2875\" y=\"10.772719\"/>\r\n  </clipPath>\r\n </defs>\r\n</svg>\r\n",
      "text/plain": "<Figure size 432x288 with 1 Axes>"
     },
     "metadata": {
      "needs_background": "light",
      "transient": {}
     },
     "output_type": "display_data"
    },
    {
     "name": "stdout",
     "output_type": "stream",
     "text": [
      "275 frames\n",
      " 640.0 x 480.0 \n",
      "FPS: 24.0\n",
      "Settings saved\n"
     ]
    }
   ],
   "source": [
    "# Settings\r\n",
    "\r\n",
    "video_format = True     #video should be mp4 format\r\n",
    "# video_format = False    #pictures must be grayscaled\r\n",
    "import pathlib\r\n",
    "path = pathlib.Path().absolute().parent.parent\r\n",
    "\r\n",
    "\r\n",
    "path= str(path)\r\n",
    "\r\n",
    "frames = []\r\n",
    "\r\n",
    "if video_format: #case we use video file\r\n",
    "\r\n",
    "    import cv2\r\n",
    "\r\n",
    "\r\n",
    "\r\n",
    "    #path = \"C:/Users/Benjamin/Documents/LTU/Neural Net. and Learn. Machines/101 - Retina Project/records/\"\r\n",
    "    video_name = \"/test.mp4\"\r\n",
    "    #video_name = \"/recorded.mp4\"\r\n",
    "    full_path = path + video_name\r\n",
    "\r\n",
    "\r\n",
    "    vidcap = cv2.VideoCapture(path + video_name) # open video\r\n",
    "\r\n",
    "    # convert to list of frames\r\n",
    "    success,image = vidcap.read()\r\n",
    "    nbr_frame = 0\r\n",
    "    while success:\r\n",
    "        frames.append(cv2.cvtColor(image, cv2.COLOR_BGR2GRAY))\r\n",
    "        success,image = vidcap.read()\r\n",
    "        nbr_frame += 1\r\n",
    "\r\n",
    "    if nbr_frame == 0:\r\n",
    "        print(\"Cannot read video\")\r\n",
    "        print(\"To get it to work. Put your file in this foler:\")\r\n",
    "        print(path)\r\n",
    "        print(\"Name it \\\"test.mp4\\\"\")\r\n",
    "    else:\r\n",
    "        framerate = vidcap.get(cv2.CAP_PROP_FPS)\r\n",
    "        f_width = vidcap.get(cv2.CAP_PROP_FRAME_WIDTH)\r\n",
    "        f_high = vidcap.get(cv2.CAP_PROP_FRAME_HEIGHT)\r\n",
    "\r\n",
    "        plt.imshow(frames[0], cmap='gray', vmin=0, vmax=255)\r\n",
    "        plt.show()\r\n",
    "\r\n",
    "        print(nbr_frame,\"frames\\n\",f_width,\"x\",f_high,\"\\nFPS:\",framerate)\r\n",
    "\r\n",
    "else: #case we use multiple picture files\r\n",
    "    path = \"C:/Users/Benjamin/Documents/LTU/Neural Net. and Learn. Machines/101 - Retina Project/peipa/\" #already PGM format for first video\r\n",
    "    img_name = \"hand-\"\r\n",
    "    img_format = \".pgm\"\r\n",
    "    full_path = path + img_name\r\n",
    "\r\n",
    "    framerate = 24 #manual set(FPS)\r\n",
    "\r\n",
    "    nbr_frame = len([name for name in os.listdir(path)]) #in case it's not a video file\r\n",
    "\r\n",
    "    # Simulate video\r\n",
    "    for i in range(nbr_frame-1):\r\n",
    "        # WARNING should be greyscaled pictures\r\n",
    "        #to grayscale : (may be diff between gray cv2 format and gray scikit format)\r\n",
    "            #img_gray = cv2.cvtColor(img, cv2.COLOR_BGR2GRAY)       #opencv\r\n",
    "            #img_gray = rgb2gray(img)                               #scikit\r\n",
    "\r\n",
    "        frames.append(imread(path + img_name + str(i+1) + img_format))\r\n",
    "\r\n",
    "    f_width = len(frames[0][0])\r\n",
    "    f_high = len(frames[0])\r\n",
    "\r\n",
    "    plt.imshow(frames[0], cmap='gray', vmin=0, vmax=255)\r\n",
    "    plt.show()\r\n",
    "\r\n",
    "    print(nbr_frame,\"frames\\n\",f_width,\"x\",f_high,\"\\nFPS:\",framerate)\r\n",
    "\r\n",
    "print(\"Settings saved\")\r\n"
   ]
  },
  {
   "cell_type": "code",
   "execution_count": 45,
   "metadata": {},
   "outputs": [
    {
     "name": "stdout",
     "output_type": "stream",
     "text": [
      "[None, None, None, None, None, None, None, None, None, None, None, None, None, None, None, None, None, None, None, None, None, None, None, None, None, None, None, None, None, None, None, None, None, None, None, None, None, None, None, None, None, None, None, None, None, None, None, None, None, None, None, None, None, None, None, None, None, None, None, None, None, None, None, None, None, None, None, None, None, None, 9.0, 13.0, 18.0, 24.0, 35.0, 51.0, 67.0, 83.0, 102.0, 121.0, 145.0, 166.0, 187.0, 208.0, 231.0, 255.0, 276.0, 297.0, 319.0, 340.0, 361.0, 384.0, 405.0, 425.0, 446.0, 468.0, 491.0, 510.0, 524.0, 541.0, 553.0, 559.0, 567.0, 576.0, 583.0, 592.0, 587.0, 575.0, 570.0, 550.0, 529.0, 542.0, 558.0, 574.0, 585.0, 598.0, 612.0, 625.0, 634.0, 622.0, 631.0, None, None, None, None, None, None, None, None, None, None, None, None, None, None, None, None, None, None, None, None, None, None, None, 635.0, 626.0, 607.0, 590.0, 569.0, 547.0, 525.0, 533.0, 580.0, 594.0, 591.0, 598.0, 592.0, 584.0, 573.0, 559.0, 532.0, 505.0, 480.0, 461.0, 438.0, 419.0, 398.0, 384.0, 366.0, 352.0, 336.0, 324.0, 310.0, 291.0, 274.0, 263.0, 247.0, 225.0, 204.0, 181.0, 163.0, 145.0, 124.0, 105.0, 90.0, 76.0, 65.0, 58.0, 44.0, 33.0, 22.0, 16.0, 13.0, 5.0, None, 12.0, 10.0, 14.0, 10.0, None, None, None, None, None, None, None, None, None, None, None, None, None, None, None, None, None, None, None, None, None, None, None, None, None, None, None, None, None, None, None, None, None, None, None, None, None, None, None, None, None, 323.0, 11.0, 15.0, 3.0, None, None, None, None, None, None, None, None, None, None, None, None, None, None, 10.0, 11.0, 12.0, None, None, None, None, None, 309.0, None, None, None, None, None, 324.0, None] \n",
      " 114\n"
     ]
    }
   ],
   "source": [
    "# processing on pictures included in the list \"frames\"\r\n",
    "\r\n",
    "move_th = 0.001     # % of total width of the image (below this no mvt is detected)\r\n",
    "sim_th = 0.4        #above this threshold, no changes are detected\r\n",
    "\r\n",
    "results = video_processing(frames,move_th,sim_th)\r\n",
    "list_pos = [r[\"m\"] for r in results[\"positions\"]]\r\n",
    "\r\n",
    "time_video = []\r\n",
    "dt = 1/framerate\r\n",
    "for f in range(len(list_pos)):\r\n",
    "    time_video.append(round(f*dt,3))\r\n",
    "\r\n",
    "print(list_pos,\"\\n\",time)"
   ]
  },
  {
   "cell_type": "markdown",
   "metadata": {},
   "source": [
    "## Rescale the picure data and removes None values"
   ]
  },
  {
   "cell_type": "code",
   "execution_count": 46,
   "metadata": {},
   "outputs": [
    {
     "name": "stdout",
     "output_type": "stream",
     "text": [
      "[None, None, None, None, None, None, None, None, None, None, None, None, None, None, None, None, None, None, None, None, None, None, None, None, None, None, None, None, None, None, None, None, None, None, None, None, None, None, None, None, None, None, None, None, None, None, None, None, None, None, None, None, None, None, None, None, None, None, None, None, None, None, None, None, None, None, None, None, None, None, 9.0, 13.0, 18.0, 24.0, 35.0, 51.0, 67.0, 83.0, 102.0, 121.0, 145.0, 166.0, 187.0, 208.0, 231.0, 255.0, 276.0, 297.0, 319.0, 340.0, 361.0, 384.0, 405.0, 425.0, 446.0, 468.0, 491.0, 510.0, 524.0, 541.0, 553.0, 559.0, 567.0, 576.0, 583.0, 592.0, 587.0, 575.0, 570.0, 550.0, 529.0, 542.0, 558.0, 574.0, 585.0, 598.0, 612.0, 625.0, 634.0, 622.0, 631.0, None, None, None, None, None, None, None, None, None, None, None, None, None, None, None, None, None, None, None, None, None, None, None, 635.0, 626.0, 607.0, 590.0, 569.0, 547.0, 525.0, 533.0, 580.0, 594.0, 591.0, 598.0, 592.0, 584.0, 573.0, 559.0, 532.0, 505.0, 480.0, 461.0, 438.0, 419.0, 398.0, 384.0, 366.0, 352.0, 336.0, 324.0, 310.0, 291.0, 274.0, 263.0, 247.0, 225.0, 204.0, 181.0, 163.0, 145.0, 124.0, 105.0, 90.0, 76.0, 65.0, 58.0, 44.0, 33.0, 22.0, 16.0, 13.0, 5.0, None, 12.0, 10.0, 14.0, 10.0, None, None, None, None, None, None, None, None, None, None, None, None, None, None, None, None, None, None, None, None, None, None, None, None, None, None, None, None, None, None, None, None, None, None, None, None, None, None, None, None, None, 323.0, 11.0, 15.0, 3.0, None, None, None, None, None, None, None, None, None, None, None, None, None, None, 10.0, 11.0, 12.0, None, None, None, None, None, 309.0, None, None, None, None, None, 324.0, None] \n",
      " 114\n",
      "[1, 1, 1, 1, 2, 3, 4, 5, 6, 7, 9, 10, 11, 13, 14, 16, 17, 18, 19, 21, 22, 23, 25, 26, 27, 29, 30, 31, 32, 33, 34, 34, 35, 35, 36, 36, 36, 35, 35, 34, 32, 33, 34, 35, 36, 36, 37, 38, 39, 38, 38, 39, 38, 37, 36, 35, 33, 32, 32, 35, 36, 36, 36, 36, 36, 35, 34, 32, 31, 29, 28, 27, 26, 24, 23, 22, 21, 20, 20, 19, 18, 17, 16, 15, 14, 12, 11, 10, 9, 8, 6, 5, 5, 4, 4, 3, 2, 1, 1, 1, 0, 1, 1, 1, 1, 20, 1, 1, 0, 1, 1, 1, 19, 20]\n",
      "[2.917, 2.958, 3.0, 3.042, 3.083, 3.125, 3.167, 3.208, 3.25, 3.292, 3.333, 3.375, 3.417, 3.458, 3.5, 3.542, 3.583, 3.625, 3.667, 3.708, 3.75, 3.792, 3.833, 3.875, 3.917, 3.958, 4.0, 4.042, 4.083, 4.125, 4.167, 4.208, 4.25, 4.292, 4.333, 4.375, 4.417, 4.458, 4.5, 4.542, 4.583, 4.625, 4.667, 4.708, 4.75, 4.792, 4.833, 4.875, 4.917, 4.958, 5.0, 6.0, 6.042, 6.083, 6.125, 6.167, 6.208, 6.25, 6.292, 6.333, 6.375, 6.417, 6.458, 6.5, 6.542, 6.583, 6.625, 6.667, 6.708, 6.75, 6.792, 6.833, 6.875, 6.917, 6.958, 7.0, 7.042, 7.083, 7.125, 7.167, 7.208, 7.25, 7.292, 7.333, 7.375, 7.417, 7.458, 7.5, 7.542, 7.583, 7.625, 7.667, 7.708, 7.75, 7.792, 7.833, 7.875, 7.917, 7.958, 8.0, 8.042, 8.125, 8.167, 8.208, 8.25, 10.0, 10.042, 10.083, 10.125, 10.75, 10.792, 10.833, 11.083, 11.333]\n"
     ]
    }
   ],
   "source": [
    "print(list_pos,\"\\n\",time)\r\n",
    "spikes = []\r\n",
    "time_for_spikes = []\r\n",
    "input_neurons = 40 ### insert no of input neurons here ###\r\n",
    "rescale = 640/(input_neurons-1)\r\n",
    "\r\n",
    "for i,n in enumerate(list_pos):\r\n",
    "    if (n != None):\r\n",
    "        spikes.append(int(np.round(n/(rescale))))\r\n",
    "        time_for_spikes.append(time_video[i])\r\n",
    "\r\n",
    "time = (len(time_for_spikes))\r\n",
    "\r\n",
    "print(spikes)\r\n",
    "print(time_for_spikes)\r\n",
    "\r\n",
    "\r\n",
    "\r\n",
    "#labels = data_without_zeros['labels']\r\n",
    "# = data_without_zeros['spikes']\r\n",
    "# = data_without_zeros['times']*ms\r\n",
    "\r\n"
   ]
  },
  {
   "cell_type": "markdown",
   "metadata": {},
   "source": [
    "## Creates the network"
   ]
  },
  {
   "cell_type": "code",
   "execution_count": 51,
   "metadata": {},
   "outputs": [
    {
     "name": "stdout",
     "output_type": "stream",
     "text": [
      "Halfway there\n"
     ]
    }
   ],
   "source": [
    "#https://brian2.readthedocs.io/en/stable/examples/frompapers.Stimberg_et_al_2018.example_1_COBA.html\r\n",
    "start_scope()\r\n",
    "\r\n",
    "seed(11922)  # to get identical figures for repeated runs\r\n",
    "\r\n",
    "\r\n",
    "################################################################################\r\n",
    "# Model parameters\r\n",
    "################################################################################\r\n",
    "### General parameters\r\n",
    "\r\n",
    "\r\n",
    "\r\n",
    "duration = time_for_spikes[-1]*ms    # Total simulation time\r\n",
    "sim_dt = 0.01*ms        # Integrator/sampling step\r\n",
    "\r\n",
    "\r\n",
    "### Neuron parameters\r\n",
    "tau_m = 30*ms         # Excitatory synaptic time constant\r\n",
    "V_th = 50e-3         # Firing threshold\r\n",
    "V_r = 35e-3          # Reset potential       \r\n",
    "R = 90e6\r\n",
    "\r\n",
    "\r\n",
    "\r\n",
    "\r\n",
    "### Synapse parameters\r\n",
    "we = 1          # Excitatory synaptic weight\r\n",
    "wi = -1           # Inhibitory synaptic weight\r\n",
    "\r\n",
    "#indices = [3,4,5,6,5,4,3,3,4,5,6,5,4,3] #np.linspace(0, 50, num=2)\r\n",
    "#times = [10,11,12,13,14,15,16,30,31,32,33,34,35,36]*ms #np.linspace(10, 90, num=2)*ms\r\n",
    "\r\n",
    "\r\n",
    "\r\n",
    "\r\n",
    "################################################################################\r\n",
    "# Model definition\r\n",
    "################################################################################\r\n",
    "# Set the integration time (in this case not strictly necessary, since we are\r\n",
    "# using the default value)\r\n",
    "defaultclock.dt = sim_dt\r\n",
    "\r\n",
    "### Neurons\r\n",
    "neuron_eqs = '''\r\n",
    "dv/dt = ((V_r-v)+R*I)/tau_m : 1\r\n",
    "I : 1\r\n",
    "'''\r\n",
    "input_group = NeuronGroup(input_neurons, model=neuron_eqs,threshold='v>V_th', reset='v=V_r', method='euler')\r\n",
    "\r\n",
    "neurons = NeuronGroup(3*input_neurons-2, model=neuron_eqs,threshold='v>V_th', reset='v=V_r', method='euler')\r\n",
    "\r\n",
    "left = NeuronGroup(1, model=neuron_eqs,threshold='v>V_th',reset='v=V_r', method='euler')\r\n",
    "\r\n",
    "right = NeuronGroup(1, model=neuron_eqs,threshold='v>V_th',reset='v=V_r', method='euler')\r\n",
    "\r\n",
    "neurons.I  = 50e-12\r\n",
    "neurons.v = input_group.v = left.v = right.v = 'V_r'\r\n",
    "\r\n",
    "input_layer = SpikeGeneratorGroup(input_neurons, spikes, time_for_spikes*ms, dt=sim_dt) # assigs 1/4 of the neurons to the input layer\r\n",
    "#input_layer = input_group[:input_neurons]\r\n",
    "inh_neurons = neurons[:input_neurons] # assigs 1/4 of the neurons to the inhibitory layer\r\n",
    "left_layer  = neurons[1*input_neurons:2*input_neurons-1] # assigs 1/4 -1 of the neurons to the left exitatory layer\r\n",
    "right_layer = neurons[2*input_neurons-1:3*input_neurons-2] # assigs 1/4 -1 of the neurons to the right exitatory layer\r\n",
    "left_neuron = left[0] # assigns 1 of the neurons to the final left layer\r\n",
    "right_neuron= right[0] # assigns 1 of the neurons to the final right layer\r\n",
    "\r\n",
    "### Synapses\r\n",
    "exc_syn = Synapses(input_layer, inh_neurons, model = 'w : 1', on_pre = 'v += w') # Connects the input layer to the inhibitory layer\r\n",
    "exc_syn_left = Synapses(input_layer, left_layer, model = 'w : 1', on_pre = 'v += w') # Connects the input layer to the left exitatory layer\r\n",
    "exc_syn_right = Synapses(input_layer, right_layer, model = 'w :1', on_pre = 'v += w') # Connects the input layer to the right exitatory layer\r\n",
    "inh_syn_right = Synapses(inh_neurons, right_layer, model = 'w : 1', on_pre = 'v += w') # Connects the inhibitory layer to the right exitatory layer\r\n",
    "inh_syn_left = Synapses(inh_neurons, left_layer, model = 'w : 1', on_pre = 'v += w') # Connects the inhibitory layer to the left exitatory layer\r\n",
    "final_left = Synapses(left_layer, left_neuron, model = 'w : 1', on_pre = 'v += w') # Connects the left exitatory layer to the final left neuron\r\n",
    "final_right = Synapses(right_layer, right_neuron, model = 'w : 1', on_pre = 'v += w') # Connects the right exitatory layer to the final right neuron\r\n",
    "\r\n",
    "exc_syn.connect(i=[*range(0,input_neurons)],j=[*range(0,input_neurons)])\r\n",
    "exc_syn_left.connect(i=[*range(1,input_neurons)],j=[*range(0,input_neurons-1)])\r\n",
    "exc_syn_right.connect(i=[*range(0,input_neurons-1)],j=[*range(0,input_neurons-1)])\r\n",
    "inh_syn_right.connect(i=[*range(1,input_neurons)],j=[*range(0,input_neurons-1)])\r\n",
    "inh_syn_left.connect(i=[*range(0,input_neurons-1)],j=[*range(0,input_neurons-1)])\r\n",
    "final_left.connect(i=[*range(0,input_neurons-1)],j=0)\r\n",
    "final_right.connect(i=[*range(0,input_neurons-1)],j=0)\r\n",
    "\r\n",
    "exc_syn.w = 60e-3\r\n",
    "exc_syn_left.w = 60e-3\r\n",
    "exc_syn_right.w = 60e-3\r\n",
    "inh_syn_right.w = -100e-3\r\n",
    "inh_syn_left.w = -100e-3\r\n",
    "final_left.w = 60e-3\r\n",
    "final_right.w = 60e-3\r\n",
    "\r\n",
    "\r\n",
    "#visualise_connectivity(exc_syn)\r\n",
    "#visualise_connectivity(exc_syn_left)\r\n",
    "#visualise_connectivity(exc_syn_right)\r\n",
    "#visualise_connectivity(inh_syn_left)\r\n",
    "#visualise_connectivity(inh_syn_right)\r\n",
    "#visualise_connectivity(final_left)\r\n",
    "#visualise_connectivity(final_right)\r\n",
    "\r\n",
    "\r\n",
    "# ##############################################################################\r\n",
    "# # Monitors\r\n",
    "# ##############################################################################\r\n",
    "# Note that we could use a single monitor for all neurons instead, but in this\r\n",
    "# way plotting is a bit easier in the end\r\n",
    "#exc_mon = SpikeMonitor(input_layer)\r\n",
    "#inh_mon = SpikeMonitor(inh_neurons)\r\n",
    "\r\n",
    "### We record some additional data from a single excitatory neuron\r\n",
    "\r\n",
    "left_monitor = StateMonitor(left_neuron, 'v', record=0)\r\n",
    "left_event = EventMonitor(left, event='spike', variables='v')\r\n",
    "right_monitor = StateMonitor(right_neuron, 'v', record=0)\r\n",
    "right_event = EventMonitor(right, event='spike', variables='v')\r\n",
    "#L_right = StateMonitor(inh_neurons, 'v', record=0)\r\n",
    "\r\n",
    "print('Halfway there')\r\n",
    "\r\n",
    "\r\n",
    "\r\n"
   ]
  },
  {
   "cell_type": "markdown",
   "metadata": {},
   "source": [
    "## Run the network"
   ]
  },
  {
   "cell_type": "code",
   "execution_count": 52,
   "metadata": {},
   "outputs": [
    {
     "name": "stdout",
     "output_type": "stream",
     "text": [
      "Starting simulation at t=0. s for a duration of 11.333 ms\n",
      "11.333 ms (100%) simulated in < 1s\n"
     ]
    }
   ],
   "source": [
    "run(duration, report='text')"
   ]
  },
  {
   "cell_type": "markdown",
   "metadata": {},
   "source": [
    "## Evaluate the result"
   ]
  },
  {
   "cell_type": "code",
   "execution_count": 53,
   "metadata": {},
   "outputs": [
    {
     "data": {
      "image/png": "[encoded data removed]",
      "image/svg+xml": "<?xml version=\"1.0\" encoding=\"utf-8\" standalone=\"no\"?>\r\n<!DOCTYPE svg PUBLIC \"-//W3C//DTD SVG 1.1//EN\"\r\n  \"http://www.w3.org/Graphics/SVG/1.1/DTD/svg11.dtd\">\r\n<!-- Created with matplotlib (https://matplotlib.org/) -->\r\n<svg height=\"262.19625pt\" version=\"1.1\" viewBox=\"0 0 392.14375 262.19625\" width=\"392.14375pt\" xmlns=\"http://www.w3.org/2000/svg\" xmlns:xlink=\"http://www.w3.org/1999/xlink\">\r\n <defs>\r\n  <style type=\"text/css\">\r\n*{stroke-linecap:butt;stroke-linejoin:round;}\r\n  </style>\r\n </defs>\r\n <g id=\"figure_1\">\r\n  <g id=\"patch_1\">\r\n   <path d=\"M 0 262.19625 \r\nL 392.14375 262.19625 \r\nL 392.14375 -0 \r\nL 0 -0 \r\nz\r\n\" style=\"fill:none;\"/>\r\n  </g>\r\n  <g id=\"axes_1\">\r\n   <g id=\"patch_2\">\r\n    <path d=\"M 50.14375 106.036364 \r\nL 384.94375 106.036364 \r\nL 384.94375 7.2 \r\nL 50.14375 7.2 \r\nz\r\n\" style=\"fill:#ffffff;\"/>\r\n   </g>\r\n   <g id=\"matplotlib.axis_1\">\r\n    <g id=\"xtick_1\">\r\n     <g id=\"line2d_1\">\r\n      <defs>\r\n       <path d=\"M 0 0 \r\nL 0 3.5 \r\n\" id=\"m8e427916be\" style=\"stroke:#000000;stroke-width:0.8;\"/>\r\n      </defs>\r\n      <g>\r\n       <use style=\"stroke:#000000;stroke-width:0.8;\" x=\"65.361932\" xlink:href=\"#m8e427916be\" y=\"106.036364\"/>\r\n      </g>\r\n     </g>\r\n     <g id=\"text_1\">\r\n      <!-- 0 -->\r\n      <defs>\r\n       <path d=\"M 31.78125 66.40625 \r\nQ 24.171875 66.40625 20.328125 58.90625 \r\nQ 16.5 51.421875 16.5 36.375 \r\nQ 16.5 21.390625 20.328125 13.890625 \r\nQ 24.171875 6.390625 31.78125 6.390625 \r\nQ 39.453125 6.390625 43.28125 13.890625 \r\nQ 47.125 21.390625 47.125 36.375 \r\nQ 47.125 51.421875 43.28125 58.90625 \r\nQ 39.453125 66.40625 31.78125 66.40625 \r\nz\r\nM 31.78125 74.21875 \r\nQ 44.046875 74.21875 50.515625 64.515625 \r\nQ 56.984375 54.828125 56.984375 36.375 \r\nQ 56.984375 17.96875 50.515625 8.265625 \r\nQ 44.046875 -1.421875 31.78125 -1.421875 \r\nQ 19.53125 -1.421875 13.0625 8.265625 \r\nQ 6.59375 17.96875 6.59375 36.375 \r\nQ 6.59375 54.828125 13.0625 64.515625 \r\nQ 19.53125 74.21875 31.78125 74.21875 \r\nz\r\n\" id=\"DejaVuSans-48\"/>\r\n      </defs>\r\n      <g transform=\"translate(62.180682 120.634801)scale(0.1 -0.1)\">\r\n       <use xlink:href=\"#DejaVuSans-48\"/>\r\n      </g>\r\n     </g>\r\n    </g>\r\n    <g id=\"xtick_2\">\r\n     <g id=\"line2d_2\">\r\n      <g>\r\n       <use style=\"stroke:#000000;stroke-width:0.8;\" x=\"119.088964\" xlink:href=\"#m8e427916be\" y=\"106.036364\"/>\r\n      </g>\r\n     </g>\r\n     <g id=\"text_2\">\r\n      <!-- 2 -->\r\n      <defs>\r\n       <path d=\"M 19.1875 8.296875 \r\nL 53.609375 8.296875 \r\nL 53.609375 0 \r\nL 7.328125 0 \r\nL 7.328125 8.296875 \r\nQ 12.9375 14.109375 22.625 23.890625 \r\nQ 32.328125 33.6875 34.8125 36.53125 \r\nQ 39.546875 41.84375 41.421875 45.53125 \r\nQ 43.3125 49.21875 43.3125 52.78125 \r\nQ 43.3125 58.59375 39.234375 62.25 \r\nQ 35.15625 65.921875 28.609375 65.921875 \r\nQ 23.96875 65.921875 18.8125 64.3125 \r\nQ 13.671875 62.703125 7.8125 59.421875 \r\nL 7.8125 69.390625 \r\nQ 13.765625 71.78125 18.9375 73 \r\nQ 24.125 74.21875 28.421875 74.21875 \r\nQ 39.75 74.21875 46.484375 68.546875 \r\nQ 53.21875 62.890625 53.21875 53.421875 \r\nQ 53.21875 48.921875 51.53125 44.890625 \r\nQ 49.859375 40.875 45.40625 35.40625 \r\nQ 44.1875 33.984375 37.640625 27.21875 \r\nQ 31.109375 20.453125 19.1875 8.296875 \r\nz\r\n\" id=\"DejaVuSans-50\"/>\r\n      </defs>\r\n      <g transform=\"translate(115.907714 120.634801)scale(0.1 -0.1)\">\r\n       <use xlink:href=\"#DejaVuSans-50\"/>\r\n      </g>\r\n     </g>\r\n    </g>\r\n    <g id=\"xtick_3\">\r\n     <g id=\"line2d_3\">\r\n      <g>\r\n       <use style=\"stroke:#000000;stroke-width:0.8;\" x=\"172.815996\" xlink:href=\"#m8e427916be\" y=\"106.036364\"/>\r\n      </g>\r\n     </g>\r\n     <g id=\"text_3\">\r\n      <!-- 4 -->\r\n      <defs>\r\n       <path d=\"M 37.796875 64.3125 \r\nL 12.890625 25.390625 \r\nL 37.796875 25.390625 \r\nz\r\nM 35.203125 72.90625 \r\nL 47.609375 72.90625 \r\nL 47.609375 25.390625 \r\nL 58.015625 25.390625 \r\nL 58.015625 17.1875 \r\nL 47.609375 17.1875 \r\nL 47.609375 0 \r\nL 37.796875 0 \r\nL 37.796875 17.1875 \r\nL 4.890625 17.1875 \r\nL 4.890625 26.703125 \r\nz\r\n\" id=\"DejaVuSans-52\"/>\r\n      </defs>\r\n      <g transform=\"translate(169.634746 120.634801)scale(0.1 -0.1)\">\r\n       <use xlink:href=\"#DejaVuSans-52\"/>\r\n      </g>\r\n     </g>\r\n    </g>\r\n    <g id=\"xtick_4\">\r\n     <g id=\"line2d_4\">\r\n      <g>\r\n       <use style=\"stroke:#000000;stroke-width:0.8;\" x=\"226.543028\" xlink:href=\"#m8e427916be\" y=\"106.036364\"/>\r\n      </g>\r\n     </g>\r\n     <g id=\"text_4\">\r\n      <!-- 6 -->\r\n      <defs>\r\n       <path d=\"M 33.015625 40.375 \r\nQ 26.375 40.375 22.484375 35.828125 \r\nQ 18.609375 31.296875 18.609375 23.390625 \r\nQ 18.609375 15.53125 22.484375 10.953125 \r\nQ 26.375 6.390625 33.015625 6.390625 \r\nQ 39.65625 6.390625 43.53125 10.953125 \r\nQ 47.40625 15.53125 47.40625 23.390625 \r\nQ 47.40625 31.296875 43.53125 35.828125 \r\nQ 39.65625 40.375 33.015625 40.375 \r\nz\r\nM 52.59375 71.296875 \r\nL 52.59375 62.3125 \r\nQ 48.875 64.0625 45.09375 64.984375 \r\nQ 41.3125 65.921875 37.59375 65.921875 \r\nQ 27.828125 65.921875 22.671875 59.328125 \r\nQ 17.53125 52.734375 16.796875 39.40625 \r\nQ 19.671875 43.65625 24.015625 45.921875 \r\nQ 28.375 48.1875 33.59375 48.1875 \r\nQ 44.578125 48.1875 50.953125 41.515625 \r\nQ 57.328125 34.859375 57.328125 23.390625 \r\nQ 57.328125 12.15625 50.6875 5.359375 \r\nQ 44.046875 -1.421875 33.015625 -1.421875 \r\nQ 20.359375 -1.421875 13.671875 8.265625 \r\nQ 6.984375 17.96875 6.984375 36.375 \r\nQ 6.984375 53.65625 15.1875 63.9375 \r\nQ 23.390625 74.21875 37.203125 74.21875 \r\nQ 40.921875 74.21875 44.703125 73.484375 \r\nQ 48.484375 72.75 52.59375 71.296875 \r\nz\r\n\" id=\"DejaVuSans-54\"/>\r\n      </defs>\r\n      <g transform=\"translate(223.361778 120.634801)scale(0.1 -0.1)\">\r\n       <use xlink:href=\"#DejaVuSans-54\"/>\r\n      </g>\r\n     </g>\r\n    </g>\r\n    <g id=\"xtick_5\">\r\n     <g id=\"line2d_5\">\r\n      <g>\r\n       <use style=\"stroke:#000000;stroke-width:0.8;\" x=\"280.27006\" xlink:href=\"#m8e427916be\" y=\"106.036364\"/>\r\n      </g>\r\n     </g>\r\n     <g id=\"text_5\">\r\n      <!-- 8 -->\r\n      <defs>\r\n       <path d=\"M 31.78125 34.625 \r\nQ 24.75 34.625 20.71875 30.859375 \r\nQ 16.703125 27.09375 16.703125 20.515625 \r\nQ 16.703125 13.921875 20.71875 10.15625 \r\nQ 24.75 6.390625 31.78125 6.390625 \r\nQ 38.8125 6.390625 42.859375 10.171875 \r\nQ 46.921875 13.96875 46.921875 20.515625 \r\nQ 46.921875 27.09375 42.890625 30.859375 \r\nQ 38.875 34.625 31.78125 34.625 \r\nz\r\nM 21.921875 38.8125 \r\nQ 15.578125 40.375 12.03125 44.71875 \r\nQ 8.5 49.078125 8.5 55.328125 \r\nQ 8.5 64.0625 14.71875 69.140625 \r\nQ 20.953125 74.21875 31.78125 74.21875 \r\nQ 42.671875 74.21875 48.875 69.140625 \r\nQ 55.078125 64.0625 55.078125 55.328125 \r\nQ 55.078125 49.078125 51.53125 44.71875 \r\nQ 48 40.375 41.703125 38.8125 \r\nQ 48.828125 37.15625 52.796875 32.3125 \r\nQ 56.78125 27.484375 56.78125 20.515625 \r\nQ 56.78125 9.90625 50.3125 4.234375 \r\nQ 43.84375 -1.421875 31.78125 -1.421875 \r\nQ 19.734375 -1.421875 13.25 4.234375 \r\nQ 6.78125 9.90625 6.78125 20.515625 \r\nQ 6.78125 27.484375 10.78125 32.3125 \r\nQ 14.796875 37.15625 21.921875 38.8125 \r\nz\r\nM 18.3125 54.390625 \r\nQ 18.3125 48.734375 21.84375 45.5625 \r\nQ 25.390625 42.390625 31.78125 42.390625 \r\nQ 38.140625 42.390625 41.71875 45.5625 \r\nQ 45.3125 48.734375 45.3125 54.390625 \r\nQ 45.3125 60.0625 41.71875 63.234375 \r\nQ 38.140625 66.40625 31.78125 66.40625 \r\nQ 25.390625 66.40625 21.84375 63.234375 \r\nQ 18.3125 60.0625 18.3125 54.390625 \r\nz\r\n\" id=\"DejaVuSans-56\"/>\r\n      </defs>\r\n      <g transform=\"translate(277.08881 120.634801)scale(0.1 -0.1)\">\r\n       <use xlink:href=\"#DejaVuSans-56\"/>\r\n      </g>\r\n     </g>\r\n    </g>\r\n    <g id=\"xtick_6\">\r\n     <g id=\"line2d_6\">\r\n      <g>\r\n       <use style=\"stroke:#000000;stroke-width:0.8;\" x=\"333.997092\" xlink:href=\"#m8e427916be\" y=\"106.036364\"/>\r\n      </g>\r\n     </g>\r\n     <g id=\"text_6\">\r\n      <!-- 10 -->\r\n      <defs>\r\n       <path d=\"M 12.40625 8.296875 \r\nL 28.515625 8.296875 \r\nL 28.515625 63.921875 \r\nL 10.984375 60.40625 \r\nL 10.984375 69.390625 \r\nL 28.421875 72.90625 \r\nL 38.28125 72.90625 \r\nL 38.28125 8.296875 \r\nL 54.390625 8.296875 \r\nL 54.390625 0 \r\nL 12.40625 0 \r\nz\r\n\" id=\"DejaVuSans-49\"/>\r\n      </defs>\r\n      <g transform=\"translate(327.634592 120.634801)scale(0.1 -0.1)\">\r\n       <use xlink:href=\"#DejaVuSans-49\"/>\r\n       <use x=\"63.623047\" xlink:href=\"#DejaVuSans-48\"/>\r\n      </g>\r\n     </g>\r\n    </g>\r\n    <g id=\"text_7\">\r\n     <!-- Time (ms) -->\r\n     <defs>\r\n      <path d=\"M -0.296875 72.90625 \r\nL 61.375 72.90625 \r\nL 61.375 64.59375 \r\nL 35.5 64.59375 \r\nL 35.5 0 \r\nL 25.59375 0 \r\nL 25.59375 64.59375 \r\nL -0.296875 64.59375 \r\nz\r\n\" id=\"DejaVuSans-84\"/>\r\n      <path d=\"M 9.421875 54.6875 \r\nL 18.40625 54.6875 \r\nL 18.40625 0 \r\nL 9.421875 0 \r\nz\r\nM 9.421875 75.984375 \r\nL 18.40625 75.984375 \r\nL 18.40625 64.59375 \r\nL 9.421875 64.59375 \r\nz\r\n\" id=\"DejaVuSans-105\"/>\r\n      <path d=\"M 52 44.1875 \r\nQ 55.375 50.25 60.0625 53.125 \r\nQ 64.75 56 71.09375 56 \r\nQ 79.640625 56 84.28125 50.015625 \r\nQ 88.921875 44.046875 88.921875 33.015625 \r\nL 88.921875 0 \r\nL 79.890625 0 \r\nL 79.890625 32.71875 \r\nQ 79.890625 40.578125 77.09375 44.375 \r\nQ 74.3125 48.1875 68.609375 48.1875 \r\nQ 61.625 48.1875 57.5625 43.546875 \r\nQ 53.515625 38.921875 53.515625 30.90625 \r\nL 53.515625 0 \r\nL 44.484375 0 \r\nL 44.484375 32.71875 \r\nQ 44.484375 40.625 41.703125 44.40625 \r\nQ 38.921875 48.1875 33.109375 48.1875 \r\nQ 26.21875 48.1875 22.15625 43.53125 \r\nQ 18.109375 38.875 18.109375 30.90625 \r\nL 18.109375 0 \r\nL 9.078125 0 \r\nL 9.078125 54.6875 \r\nL 18.109375 54.6875 \r\nL 18.109375 46.1875 \r\nQ 21.1875 51.21875 25.484375 53.609375 \r\nQ 29.78125 56 35.6875 56 \r\nQ 41.65625 56 45.828125 52.96875 \r\nQ 50 49.953125 52 44.1875 \r\nz\r\n\" id=\"DejaVuSans-109\"/>\r\n      <path d=\"M 56.203125 29.59375 \r\nL 56.203125 25.203125 \r\nL 14.890625 25.203125 \r\nQ 15.484375 15.921875 20.484375 11.0625 \r\nQ 25.484375 6.203125 34.421875 6.203125 \r\nQ 39.59375 6.203125 44.453125 7.46875 \r\nQ 49.3125 8.734375 54.109375 11.28125 \r\nL 54.109375 2.78125 \r\nQ 49.265625 0.734375 44.1875 -0.34375 \r\nQ 39.109375 -1.421875 33.890625 -1.421875 \r\nQ 20.796875 -1.421875 13.15625 6.1875 \r\nQ 5.515625 13.8125 5.515625 26.8125 \r\nQ 5.515625 40.234375 12.765625 48.109375 \r\nQ 20.015625 56 32.328125 56 \r\nQ 43.359375 56 49.78125 48.890625 \r\nQ 56.203125 41.796875 56.203125 29.59375 \r\nz\r\nM 47.21875 32.234375 \r\nQ 47.125 39.59375 43.09375 43.984375 \r\nQ 39.0625 48.390625 32.421875 48.390625 \r\nQ 24.90625 48.390625 20.390625 44.140625 \r\nQ 15.875 39.890625 15.1875 32.171875 \r\nz\r\n\" id=\"DejaVuSans-101\"/>\r\n      <path id=\"DejaVuSans-32\"/>\r\n      <path d=\"M 31 75.875 \r\nQ 24.46875 64.65625 21.28125 53.65625 \r\nQ 18.109375 42.671875 18.109375 31.390625 \r\nQ 18.109375 20.125 21.3125 9.0625 \r\nQ 24.515625 -2 31 -13.1875 \r\nL 23.1875 -13.1875 \r\nQ 15.875 -1.703125 12.234375 9.375 \r\nQ 8.59375 20.453125 8.59375 31.390625 \r\nQ 8.59375 42.28125 12.203125 53.3125 \r\nQ 15.828125 64.359375 23.1875 75.875 \r\nz\r\n\" id=\"DejaVuSans-40\"/>\r\n      <path d=\"M 44.28125 53.078125 \r\nL 44.28125 44.578125 \r\nQ 40.484375 46.53125 36.375 47.5 \r\nQ 32.28125 48.484375 27.875 48.484375 \r\nQ 21.1875 48.484375 17.84375 46.4375 \r\nQ 14.5 44.390625 14.5 40.28125 \r\nQ 14.5 37.15625 16.890625 35.375 \r\nQ 19.28125 33.59375 26.515625 31.984375 \r\nL 29.59375 31.296875 \r\nQ 39.15625 29.25 43.1875 25.515625 \r\nQ 47.21875 21.78125 47.21875 15.09375 \r\nQ 47.21875 7.46875 41.1875 3.015625 \r\nQ 35.15625 -1.421875 24.609375 -1.421875 \r\nQ 20.21875 -1.421875 15.453125 -0.5625 \r\nQ 10.6875 0.296875 5.421875 2 \r\nL 5.421875 11.28125 \r\nQ 10.40625 8.6875 15.234375 7.390625 \r\nQ 20.0625 6.109375 24.8125 6.109375 \r\nQ 31.15625 6.109375 34.5625 8.28125 \r\nQ 37.984375 10.453125 37.984375 14.40625 \r\nQ 37.984375 18.0625 35.515625 20.015625 \r\nQ 33.0625 21.96875 24.703125 23.78125 \r\nL 21.578125 24.515625 \r\nQ 13.234375 26.265625 9.515625 29.90625 \r\nQ 5.8125 33.546875 5.8125 39.890625 \r\nQ 5.8125 47.609375 11.28125 51.796875 \r\nQ 16.75 56 26.8125 56 \r\nQ 31.78125 56 36.171875 55.265625 \r\nQ 40.578125 54.546875 44.28125 53.078125 \r\nz\r\n\" id=\"DejaVuSans-115\"/>\r\n      <path d=\"M 8.015625 75.875 \r\nL 15.828125 75.875 \r\nQ 23.140625 64.359375 26.78125 53.3125 \r\nQ 30.421875 42.28125 30.421875 31.390625 \r\nQ 30.421875 20.453125 26.78125 9.375 \r\nQ 23.140625 -1.703125 15.828125 -13.1875 \r\nL 8.015625 -13.1875 \r\nQ 14.5 -2 17.703125 9.0625 \r\nQ 20.90625 20.125 20.90625 31.390625 \r\nQ 20.90625 42.671875 17.703125 53.65625 \r\nQ 14.5 64.65625 8.015625 75.875 \r\nz\r\n\" id=\"DejaVuSans-41\"/>\r\n     </defs>\r\n     <g transform=\"translate(192.344531 134.312926)scale(0.1 -0.1)\">\r\n      <use xlink:href=\"#DejaVuSans-84\"/>\r\n      <use x=\"57.958984\" xlink:href=\"#DejaVuSans-105\"/>\r\n      <use x=\"85.742188\" xlink:href=\"#DejaVuSans-109\"/>\r\n      <use x=\"183.154297\" xlink:href=\"#DejaVuSans-101\"/>\r\n      <use x=\"244.677734\" xlink:href=\"#DejaVuSans-32\"/>\r\n      <use x=\"276.464844\" xlink:href=\"#DejaVuSans-40\"/>\r\n      <use x=\"315.478516\" xlink:href=\"#DejaVuSans-109\"/>\r\n      <use x=\"412.890625\" xlink:href=\"#DejaVuSans-115\"/>\r\n      <use x=\"464.990234\" xlink:href=\"#DejaVuSans-41\"/>\r\n     </g>\r\n    </g>\r\n   </g>\r\n   <g id=\"matplotlib.axis_2\">\r\n    <g id=\"ytick_1\">\r\n     <g id=\"line2d_7\">\r\n      <defs>\r\n       <path d=\"M 0 0 \r\nL -3.5 0 \r\n\" id=\"m500c6c0eff\" style=\"stroke:#000000;stroke-width:0.8;\"/>\r\n      </defs>\r\n      <g>\r\n       <use style=\"stroke:#000000;stroke-width:0.8;\" x=\"50.14375\" xlink:href=\"#m500c6c0eff\" y=\"94.056198\"/>\r\n      </g>\r\n     </g>\r\n     <g id=\"text_8\">\r\n      <!-- 0.04 -->\r\n      <defs>\r\n       <path d=\"M 10.6875 12.40625 \r\nL 21 12.40625 \r\nL 21 0 \r\nL 10.6875 0 \r\nz\r\n\" id=\"DejaVuSans-46\"/>\r\n      </defs>\r\n      <g transform=\"translate(20.878125 97.855417)scale(0.1 -0.1)\">\r\n       <use xlink:href=\"#DejaVuSans-48\"/>\r\n       <use x=\"63.623047\" xlink:href=\"#DejaVuSans-46\"/>\r\n       <use x=\"95.410156\" xlink:href=\"#DejaVuSans-48\"/>\r\n       <use x=\"159.033203\" xlink:href=\"#DejaVuSans-52\"/>\r\n      </g>\r\n     </g>\r\n    </g>\r\n    <g id=\"ytick_2\">\r\n     <g id=\"line2d_8\">\r\n      <g>\r\n       <use style=\"stroke:#000000;stroke-width:0.8;\" x=\"50.14375\" xlink:href=\"#m500c6c0eff\" y=\"64.105785\"/>\r\n      </g>\r\n     </g>\r\n     <g id=\"text_9\">\r\n      <!-- 0.06 -->\r\n      <g transform=\"translate(20.878125 67.905004)scale(0.1 -0.1)\">\r\n       <use xlink:href=\"#DejaVuSans-48\"/>\r\n       <use x=\"63.623047\" xlink:href=\"#DejaVuSans-46\"/>\r\n       <use x=\"95.410156\" xlink:href=\"#DejaVuSans-48\"/>\r\n       <use x=\"159.033203\" xlink:href=\"#DejaVuSans-54\"/>\r\n      </g>\r\n     </g>\r\n    </g>\r\n    <g id=\"ytick_3\">\r\n     <g id=\"line2d_9\">\r\n      <g>\r\n       <use style=\"stroke:#000000;stroke-width:0.8;\" x=\"50.14375\" xlink:href=\"#m500c6c0eff\" y=\"34.155372\"/>\r\n      </g>\r\n     </g>\r\n     <g id=\"text_10\">\r\n      <!-- 0.08 -->\r\n      <g transform=\"translate(20.878125 37.954591)scale(0.1 -0.1)\">\r\n       <use xlink:href=\"#DejaVuSans-48\"/>\r\n       <use x=\"63.623047\" xlink:href=\"#DejaVuSans-46\"/>\r\n       <use x=\"95.410156\" xlink:href=\"#DejaVuSans-48\"/>\r\n       <use x=\"159.033203\" xlink:href=\"#DejaVuSans-56\"/>\r\n      </g>\r\n     </g>\r\n    </g>\r\n    <g id=\"text_11\">\r\n     <!-- v -->\r\n     <defs>\r\n      <path d=\"M 2.984375 54.6875 \r\nL 12.5 54.6875 \r\nL 29.59375 8.796875 \r\nL 46.6875 54.6875 \r\nL 56.203125 54.6875 \r\nL 35.6875 0 \r\nL 23.484375 0 \r\nz\r\n\" id=\"DejaVuSans-118\"/>\r\n     </defs>\r\n     <g transform=\"translate(14.798438 59.577557)rotate(-90)scale(0.1 -0.1)\">\r\n      <use xlink:href=\"#DejaVuSans-118\"/>\r\n     </g>\r\n    </g>\r\n   </g>\r\n   <g id=\"line2d_10\">\r\n    <path clip-path=\"url(#pd72c5be2b9)\" d=\"M 65.361932 101.543802 \r\nL 143.803399 101.543802 \r\nL 144.072034 11.692562 \r\nL 144.340669 101.543802 \r\nL 144.877939 101.543802 \r\nL 145.146574 11.692562 \r\nL 145.41521 101.543802 \r\nL 146.221115 101.543802 \r\nL 146.48975 11.692562 \r\nL 146.758385 101.543802 \r\nL 147.295656 101.543802 \r\nL 147.564291 11.692562 \r\nL 147.832926 101.543802 \r\nL 155.086075 101.543802 \r\nL 155.35471 11.692562 \r\nL 155.623346 101.543802 \r\nL 158.309697 101.543802 \r\nL 158.578332 11.692562 \r\nL 158.846968 101.543802 \r\nL 160.727414 101.543802 \r\nL 160.996049 11.692562 \r\nL 161.264684 101.543802 \r\nL 165.025576 101.543802 \r\nL 165.294211 11.692562 \r\nL 165.562847 101.543802 \r\nL 168.517833 101.543802 \r\nL 168.786468 11.692562 \r\nL 169.055104 101.543802 \r\nL 171.741455 101.543802 \r\nL 172.01009 11.692562 \r\nL 172.278726 101.543802 \r\nL 178.457334 101.543802 \r\nL 178.725969 11.692562 \r\nL 178.994605 101.543802 \r\nL 186.516389 101.543802 \r\nL 186.785024 11.692562 \r\nL 187.053659 101.543802 \r\nL 187.59093 101.543802 \r\nL 187.859565 11.692562 \r\nL 188.1282 101.543802 \r\nL 188.66547 101.543802 \r\nL 188.934105 11.692562 \r\nL 189.202741 101.543802 \r\nL 198.604971 101.543802 \r\nL 198.873606 11.692562 \r\nL 199.142242 101.543802 \r\nL 199.948147 101.543802 \r\nL 200.216782 11.692562 \r\nL 200.485417 101.543802 \r\nL 227.886204 101.543802 \r\nL 228.154839 11.692562 \r\nL 228.423474 101.543802 \r\nL 233.527542 101.543802 \r\nL 233.796177 11.692562 \r\nL 234.064812 101.543802 \r\nL 234.602083 101.543802 \r\nL 234.870718 11.692562 \r\nL 235.139353 101.543802 \r\nL 242.392502 101.543802 \r\nL 242.661137 11.692562 \r\nL 242.929773 101.543802 \r\nL 244.541584 101.543802 \r\nL 244.810219 11.692562 \r\nL 245.078854 101.543802 \r\nL 245.616124 101.543802 \r\nL 245.884759 11.692562 \r\nL 246.153395 101.543802 \r\nL 246.9593 101.543802 \r\nL 247.227935 11.692562 \r\nL 247.49657 101.543802 \r\nL 249.108381 101.543802 \r\nL 249.377016 11.692562 \r\nL 249.645652 101.543802 \r\nL 250.182922 101.543802 \r\nL 250.451557 11.692562 \r\nL 250.720192 101.543802 \r\nL 252.332003 101.543802 \r\nL 252.600638 11.692562 \r\nL 252.869274 101.543802 \r\nL 253.675179 101.543802 \r\nL 253.943814 11.692562 \r\nL 254.212449 101.543802 \r\nL 254.74972 101.543802 \r\nL 255.018355 11.692562 \r\nL 255.28699 101.543802 \r\nL 256.898801 101.543802 \r\nL 257.167436 11.692562 \r\nL 257.436071 101.543802 \r\nL 257.973342 101.543802 \r\nL 258.241977 11.692562 \r\nL 258.510612 101.543802 \r\nL 259.047882 101.543802 \r\nL 259.316517 11.692562 \r\nL 259.585153 101.543802 \r\nL 260.391058 101.543802 \r\nL 260.659693 11.692562 \r\nL 260.928328 101.543802 \r\nL 261.465599 101.543802 \r\nL 261.734234 11.692562 \r\nL 262.002869 101.543802 \r\nL 263.61468 101.543802 \r\nL 263.883315 11.692562 \r\nL 264.15195 101.543802 \r\nL 265.763761 101.543802 \r\nL 266.032396 11.692562 \r\nL 266.301032 101.543802 \r\nL 267.106937 101.543802 \r\nL 267.375572 11.692562 \r\nL 267.644207 101.543802 \r\nL 268.181478 101.543802 \r\nL 268.450113 11.692562 \r\nL 268.718748 101.543802 \r\nL 270.330559 101.543802 \r\nL 270.599194 11.692562 \r\nL 270.867829 101.543802 \r\nL 271.4051 101.543802 \r\nL 271.673735 11.692562 \r\nL 271.94237 101.543802 \r\nL 272.47964 101.543802 \r\nL 272.748275 11.692562 \r\nL 273.016911 101.543802 \r\nL 273.822816 101.543802 \r\nL 274.091451 11.692562 \r\nL 274.360086 101.543802 \r\nL 274.897357 101.543802 \r\nL 275.165992 11.692562 \r\nL 275.434627 101.543802 \r\nL 275.971897 101.543802 \r\nL 276.240532 11.692562 \r\nL 276.509168 101.543802 \r\nL 278.120979 101.543802 \r\nL 278.389614 11.692562 \r\nL 278.658249 101.543802 \r\nL 279.195519 101.543802 \r\nL 279.464154 11.692562 \r\nL 279.73279 101.543802 \r\nL 280.538695 101.543802 \r\nL 280.80733 11.692562 \r\nL 281.075965 101.543802 \r\nL 284.836858 101.543802 \r\nL 285.105493 11.692562 \r\nL 285.374128 101.543802 \r\nL 285.911398 101.543802 \r\nL 286.180033 11.692562 \r\nL 286.448669 101.543802 \r\nL 287.254574 101.543802 \r\nL 287.523209 11.692562 \r\nL 287.791844 101.543802 \r\nL 335.340268 101.543802 \r\nL 335.608903 11.692562 \r\nL 335.877538 101.543802 \r\nL 336.414808 101.543802 \r\nL 336.683443 11.692562 \r\nL 336.952079 101.543802 \r\nL 355.487905 101.543802 \r\nL 355.75654 11.692562 \r\nL 356.025175 101.543802 \r\nL 356.562445 101.543802 \r\nL 356.83108 11.692562 \r\nL 357.099716 101.543802 \r\nL 369.725568 101.543802 \r\nL 369.725568 101.543802 \r\n\" style=\"fill:none;stroke:#1f77b4;stroke-linecap:square;stroke-width:1.5;\"/>\r\n   </g>\r\n   <g id=\"patch_3\">\r\n    <path d=\"M 50.14375 106.036364 \r\nL 50.14375 7.2 \r\n\" style=\"fill:none;stroke:#000000;stroke-linecap:square;stroke-linejoin:miter;stroke-width:0.8;\"/>\r\n   </g>\r\n   <g id=\"patch_4\">\r\n    <path d=\"M 384.94375 106.036364 \r\nL 384.94375 7.2 \r\n\" style=\"fill:none;stroke:#000000;stroke-linecap:square;stroke-linejoin:miter;stroke-width:0.8;\"/>\r\n   </g>\r\n   <g id=\"patch_5\">\r\n    <path d=\"M 50.14375 106.036364 \r\nL 384.94375 106.036364 \r\n\" style=\"fill:none;stroke:#000000;stroke-linecap:square;stroke-linejoin:miter;stroke-width:0.8;\"/>\r\n   </g>\r\n   <g id=\"patch_6\">\r\n    <path d=\"M 50.14375 7.2 \r\nL 384.94375 7.2 \r\n\" style=\"fill:none;stroke:#000000;stroke-linecap:square;stroke-linejoin:miter;stroke-width:0.8;\"/>\r\n   </g>\r\n  </g>\r\n  <g id=\"axes_2\">\r\n   <g id=\"patch_7\">\r\n    <path d=\"M 50.14375 224.64 \r\nL 384.94375 224.64 \r\nL 384.94375 125.803636 \r\nL 50.14375 125.803636 \r\nz\r\n\" style=\"fill:#ffffff;\"/>\r\n   </g>\r\n   <g id=\"matplotlib.axis_3\">\r\n    <g id=\"xtick_7\">\r\n     <g id=\"line2d_11\">\r\n      <g>\r\n       <use style=\"stroke:#000000;stroke-width:0.8;\" x=\"65.361932\" xlink:href=\"#m8e427916be\" y=\"224.64\"/>\r\n      </g>\r\n     </g>\r\n     <g id=\"text_12\">\r\n      <!-- 0 -->\r\n      <g transform=\"translate(62.180682 239.238437)scale(0.1 -0.1)\">\r\n       <use xlink:href=\"#DejaVuSans-48\"/>\r\n      </g>\r\n     </g>\r\n    </g>\r\n    <g id=\"xtick_8\">\r\n     <g id=\"line2d_12\">\r\n      <g>\r\n       <use style=\"stroke:#000000;stroke-width:0.8;\" x=\"119.088964\" xlink:href=\"#m8e427916be\" y=\"224.64\"/>\r\n      </g>\r\n     </g>\r\n     <g id=\"text_13\">\r\n      <!-- 2 -->\r\n      <g transform=\"translate(115.907714 239.238437)scale(0.1 -0.1)\">\r\n       <use xlink:href=\"#DejaVuSans-50\"/>\r\n      </g>\r\n     </g>\r\n    </g>\r\n    <g id=\"xtick_9\">\r\n     <g id=\"line2d_13\">\r\n      <g>\r\n       <use style=\"stroke:#000000;stroke-width:0.8;\" x=\"172.815996\" xlink:href=\"#m8e427916be\" y=\"224.64\"/>\r\n      </g>\r\n     </g>\r\n     <g id=\"text_14\">\r\n      <!-- 4 -->\r\n      <g transform=\"translate(169.634746 239.238437)scale(0.1 -0.1)\">\r\n       <use xlink:href=\"#DejaVuSans-52\"/>\r\n      </g>\r\n     </g>\r\n    </g>\r\n    <g id=\"xtick_10\">\r\n     <g id=\"line2d_14\">\r\n      <g>\r\n       <use style=\"stroke:#000000;stroke-width:0.8;\" x=\"226.543028\" xlink:href=\"#m8e427916be\" y=\"224.64\"/>\r\n      </g>\r\n     </g>\r\n     <g id=\"text_15\">\r\n      <!-- 6 -->\r\n      <g transform=\"translate(223.361778 239.238437)scale(0.1 -0.1)\">\r\n       <use xlink:href=\"#DejaVuSans-54\"/>\r\n      </g>\r\n     </g>\r\n    </g>\r\n    <g id=\"xtick_11\">\r\n     <g id=\"line2d_15\">\r\n      <g>\r\n       <use style=\"stroke:#000000;stroke-width:0.8;\" x=\"280.27006\" xlink:href=\"#m8e427916be\" y=\"224.64\"/>\r\n      </g>\r\n     </g>\r\n     <g id=\"text_16\">\r\n      <!-- 8 -->\r\n      <g transform=\"translate(277.08881 239.238437)scale(0.1 -0.1)\">\r\n       <use xlink:href=\"#DejaVuSans-56\"/>\r\n      </g>\r\n     </g>\r\n    </g>\r\n    <g id=\"xtick_12\">\r\n     <g id=\"line2d_16\">\r\n      <g>\r\n       <use style=\"stroke:#000000;stroke-width:0.8;\" x=\"333.997092\" xlink:href=\"#m8e427916be\" y=\"224.64\"/>\r\n      </g>\r\n     </g>\r\n     <g id=\"text_17\">\r\n      <!-- 10 -->\r\n      <g transform=\"translate(327.634592 239.238437)scale(0.1 -0.1)\">\r\n       <use xlink:href=\"#DejaVuSans-49\"/>\r\n       <use x=\"63.623047\" xlink:href=\"#DejaVuSans-48\"/>\r\n      </g>\r\n     </g>\r\n    </g>\r\n    <g id=\"text_18\">\r\n     <!-- Time (ms) -->\r\n     <g transform=\"translate(192.344531 252.916562)scale(0.1 -0.1)\">\r\n      <use xlink:href=\"#DejaVuSans-84\"/>\r\n      <use x=\"57.958984\" xlink:href=\"#DejaVuSans-105\"/>\r\n      <use x=\"85.742188\" xlink:href=\"#DejaVuSans-109\"/>\r\n      <use x=\"183.154297\" xlink:href=\"#DejaVuSans-101\"/>\r\n      <use x=\"244.677734\" xlink:href=\"#DejaVuSans-32\"/>\r\n      <use x=\"276.464844\" xlink:href=\"#DejaVuSans-40\"/>\r\n      <use x=\"315.478516\" xlink:href=\"#DejaVuSans-109\"/>\r\n      <use x=\"412.890625\" xlink:href=\"#DejaVuSans-115\"/>\r\n      <use x=\"464.990234\" xlink:href=\"#DejaVuSans-41\"/>\r\n     </g>\r\n    </g>\r\n   </g>\r\n   <g id=\"matplotlib.axis_4\">\r\n    <g id=\"ytick_4\">\r\n     <g id=\"line2d_17\">\r\n      <g>\r\n       <use style=\"stroke:#000000;stroke-width:0.8;\" x=\"50.14375\" xlink:href=\"#m500c6c0eff\" y=\"212.659835\"/>\r\n      </g>\r\n     </g>\r\n     <g id=\"text_19\">\r\n      <!-- 0.04 -->\r\n      <g transform=\"translate(20.878125 216.459053)scale(0.1 -0.1)\">\r\n       <use xlink:href=\"#DejaVuSans-48\"/>\r\n       <use x=\"63.623047\" xlink:href=\"#DejaVuSans-46\"/>\r\n       <use x=\"95.410156\" xlink:href=\"#DejaVuSans-48\"/>\r\n       <use x=\"159.033203\" xlink:href=\"#DejaVuSans-52\"/>\r\n      </g>\r\n     </g>\r\n    </g>\r\n    <g id=\"ytick_5\">\r\n     <g id=\"line2d_18\">\r\n      <g>\r\n       <use style=\"stroke:#000000;stroke-width:0.8;\" x=\"50.14375\" xlink:href=\"#m500c6c0eff\" y=\"182.709421\"/>\r\n      </g>\r\n     </g>\r\n     <g id=\"text_20\">\r\n      <!-- 0.06 -->\r\n      <g transform=\"translate(20.878125 186.50864)scale(0.1 -0.1)\">\r\n       <use xlink:href=\"#DejaVuSans-48\"/>\r\n       <use x=\"63.623047\" xlink:href=\"#DejaVuSans-46\"/>\r\n       <use x=\"95.410156\" xlink:href=\"#DejaVuSans-48\"/>\r\n       <use x=\"159.033203\" xlink:href=\"#DejaVuSans-54\"/>\r\n      </g>\r\n     </g>\r\n    </g>\r\n    <g id=\"ytick_6\">\r\n     <g id=\"line2d_19\">\r\n      <g>\r\n       <use style=\"stroke:#000000;stroke-width:0.8;\" x=\"50.14375\" xlink:href=\"#m500c6c0eff\" y=\"152.759008\"/>\r\n      </g>\r\n     </g>\r\n     <g id=\"text_21\">\r\n      <!-- 0.08 -->\r\n      <g transform=\"translate(20.878125 156.558227)scale(0.1 -0.1)\">\r\n       <use xlink:href=\"#DejaVuSans-48\"/>\r\n       <use x=\"63.623047\" xlink:href=\"#DejaVuSans-46\"/>\r\n       <use x=\"95.410156\" xlink:href=\"#DejaVuSans-48\"/>\r\n       <use x=\"159.033203\" xlink:href=\"#DejaVuSans-56\"/>\r\n      </g>\r\n     </g>\r\n    </g>\r\n    <g id=\"text_22\">\r\n     <!-- v -->\r\n     <g transform=\"translate(14.798438 178.181193)rotate(-90)scale(0.1 -0.1)\">\r\n      <use xlink:href=\"#DejaVuSans-118\"/>\r\n     </g>\r\n    </g>\r\n   </g>\r\n   <g id=\"line2d_20\">\r\n    <path clip-path=\"url(#p5bb601f4e0)\" d=\"M 65.361932 220.147438 \r\nL 143.803399 220.147438 \r\nL 144.072034 130.296198 \r\nL 144.340669 220.147438 \r\nL 144.877939 220.147438 \r\nL 145.146574 130.296198 \r\nL 145.41521 220.147438 \r\nL 146.221115 220.147438 \r\nL 146.48975 130.296198 \r\nL 146.758385 220.147438 \r\nL 147.295656 220.147438 \r\nL 147.564291 130.296198 \r\nL 147.832926 220.147438 \r\nL 148.370196 220.147438 \r\nL 148.638831 130.296198 \r\nL 148.907467 220.147438 \r\nL 149.444737 220.147438 \r\nL 149.713372 130.296198 \r\nL 149.982007 220.147438 \r\nL 150.519278 220.147438 \r\nL 150.787913 130.296198 \r\nL 151.056548 220.147438 \r\nL 151.593818 220.147438 \r\nL 151.862453 130.296198 \r\nL 152.131089 220.147438 \r\nL 152.936994 220.147438 \r\nL 153.205629 130.296198 \r\nL 153.474264 220.147438 \r\nL 154.011535 220.147438 \r\nL 154.28017 130.296198 \r\nL 154.548805 220.147438 \r\nL 155.086075 220.147438 \r\nL 155.35471 130.296198 \r\nL 155.623346 220.147438 \r\nL 156.160616 220.147438 \r\nL 156.429251 130.296198 \r\nL 156.697886 220.147438 \r\nL 157.235157 220.147438 \r\nL 157.503792 130.296198 \r\nL 157.772427 220.147438 \r\nL 158.309697 220.147438 \r\nL 158.578332 130.296198 \r\nL 158.846968 220.147438 \r\nL 159.652873 220.147438 \r\nL 159.921508 130.296198 \r\nL 160.190143 220.147438 \r\nL 160.727414 220.147438 \r\nL 160.996049 130.296198 \r\nL 161.264684 220.147438 \r\nL 161.801954 220.147438 \r\nL 162.070589 130.296198 \r\nL 162.339225 220.147438 \r\nL 162.876495 220.147438 \r\nL 163.14513 130.296198 \r\nL 163.413765 220.147438 \r\nL 163.951036 220.147438 \r\nL 164.219671 130.296198 \r\nL 164.488306 220.147438 \r\nL 165.025576 220.147438 \r\nL 165.294211 130.296198 \r\nL 165.562847 220.147438 \r\nL 166.368752 220.147438 \r\nL 166.637387 130.296198 \r\nL 166.906022 220.147438 \r\nL 167.443293 220.147438 \r\nL 167.711928 130.296198 \r\nL 167.980563 220.147438 \r\nL 168.517833 220.147438 \r\nL 168.786468 130.296198 \r\nL 169.055104 220.147438 \r\nL 169.592374 220.147438 \r\nL 169.861009 130.296198 \r\nL 170.129644 220.147438 \r\nL 170.666915 220.147438 \r\nL 170.93555 130.296198 \r\nL 171.204185 220.147438 \r\nL 171.741455 220.147438 \r\nL 172.01009 130.296198 \r\nL 172.278726 220.147438 \r\nL 173.084631 220.147438 \r\nL 173.353266 130.296198 \r\nL 173.621901 220.147438 \r\nL 174.159172 220.147438 \r\nL 174.427807 130.296198 \r\nL 174.696442 220.147438 \r\nL 175.233712 220.147438 \r\nL 175.502347 130.296198 \r\nL 175.770983 220.147438 \r\nL 176.308253 220.147438 \r\nL 176.576888 130.296198 \r\nL 176.845523 220.147438 \r\nL 177.382794 220.147438 \r\nL 177.651429 130.296198 \r\nL 177.920064 220.147438 \r\nL 178.457334 220.147438 \r\nL 178.725969 130.296198 \r\nL 178.994605 220.147438 \r\nL 179.80051 220.147438 \r\nL 180.069145 130.296198 \r\nL 180.33778 220.147438 \r\nL 180.875051 220.147438 \r\nL 181.143686 130.296198 \r\nL 181.412321 220.147438 \r\nL 181.949591 220.147438 \r\nL 182.218226 130.296198 \r\nL 182.486862 220.147438 \r\nL 183.024132 220.147438 \r\nL 183.292767 130.296198 \r\nL 183.561402 220.147438 \r\nL 184.098673 220.147438 \r\nL 184.367308 130.296198 \r\nL 184.635943 220.147438 \r\nL 193.232268 220.147438 \r\nL 193.500903 130.296198 \r\nL 193.769538 220.147438 \r\nL 194.306809 220.147438 \r\nL 194.575444 130.296198 \r\nL 194.844079 220.147438 \r\nL 195.381349 220.147438 \r\nL 195.649984 130.296198 \r\nL 195.91862 220.147438 \r\nL 196.45589 220.147438 \r\nL 196.724525 130.296198 \r\nL 196.99316 220.147438 \r\nL 199.948147 220.147438 \r\nL 200.216782 130.296198 \r\nL 200.485417 220.147438 \r\nL 238.900245 220.147438 \r\nL 239.16888 130.296198 \r\nL 239.437516 220.147438 \r\nL 240.243421 220.147438 \r\nL 240.512056 130.296198 \r\nL 240.780691 220.147438 \r\nL 241.317962 220.147438 \r\nL 241.586597 130.296198 \r\nL 241.855232 220.147438 \r\nL 283.762317 220.147438 \r\nL 284.030952 130.296198 \r\nL 284.299587 220.147438 \r\nL 284.836858 220.147438 \r\nL 285.105493 130.296198 \r\nL 285.374128 220.147438 \r\nL 285.911398 220.147438 \r\nL 286.180033 130.296198 \r\nL 286.448669 220.147438 \r\nL 287.254574 220.147438 \r\nL 287.523209 130.296198 \r\nL 287.791844 220.147438 \r\nL 335.340268 220.147438 \r\nL 335.608903 130.296198 \r\nL 335.877538 220.147438 \r\nL 336.414808 220.147438 \r\nL 336.683443 130.296198 \r\nL 336.952079 220.147438 \r\nL 354.413364 220.147438 \r\nL 354.681999 130.296198 \r\nL 354.950634 220.147438 \r\nL 355.487905 220.147438 \r\nL 355.75654 130.296198 \r\nL 356.025175 220.147438 \r\nL 356.562445 220.147438 \r\nL 356.83108 130.296198 \r\nL 357.099716 220.147438 \r\nL 369.725568 220.147438 \r\nL 369.725568 220.147438 \r\n\" style=\"fill:none;stroke:#1f77b4;stroke-linecap:square;stroke-width:1.5;\"/>\r\n   </g>\r\n   <g id=\"patch_8\">\r\n    <path d=\"M 50.14375 224.64 \r\nL 50.14375 125.803636 \r\n\" style=\"fill:none;stroke:#000000;stroke-linecap:square;stroke-linejoin:miter;stroke-width:0.8;\"/>\r\n   </g>\r\n   <g id=\"patch_9\">\r\n    <path d=\"M 384.94375 224.64 \r\nL 384.94375 125.803636 \r\n\" style=\"fill:none;stroke:#000000;stroke-linecap:square;stroke-linejoin:miter;stroke-width:0.8;\"/>\r\n   </g>\r\n   <g id=\"patch_10\">\r\n    <path d=\"M 50.14375 224.64 \r\nL 384.94375 224.64 \r\n\" style=\"fill:none;stroke:#000000;stroke-linecap:square;stroke-linejoin:miter;stroke-width:0.8;\"/>\r\n   </g>\r\n   <g id=\"patch_11\">\r\n    <path d=\"M 50.14375 125.803636 \r\nL 384.94375 125.803636 \r\n\" style=\"fill:none;stroke:#000000;stroke-linecap:square;stroke-linejoin:miter;stroke-width:0.8;\"/>\r\n   </g>\r\n  </g>\r\n </g>\r\n <defs>\r\n  <clipPath id=\"pd72c5be2b9\">\r\n   <rect height=\"98.836364\" width=\"334.8\" x=\"50.14375\" y=\"7.2\"/>\r\n  </clipPath>\r\n  <clipPath id=\"p5bb601f4e0\">\r\n   <rect height=\"98.836364\" width=\"334.8\" x=\"50.14375\" y=\"125.803636\"/>\r\n  </clipPath>\r\n </defs>\r\n</svg>\r\n",
      "text/plain": "<Figure size 432x288 with 2 Axes>"
     },
     "metadata": {
      "needs_background": "light",
      "transient": {}
     },
     "output_type": "display_data"
    }
   ],
   "source": [
    "import copy\r\n",
    "\r\n",
    "figure()\r\n",
    "subplot(211)\r\n",
    "plot(left_monitor.t/ms, left_monitor.v[0])\r\n",
    "xlabel('Time (ms)')\r\n",
    "ylabel('v');\r\n",
    "subplot(212)\r\n",
    "plot(right_monitor.t/ms, right_monitor.v[0])\r\n",
    "xlabel('Time (ms)')\r\n",
    "ylabel('v');\r\n",
    "\r\n",
    "#print(left_event.it[1].__getitem__(0))\r\n",
    "#left_array = left_event.it[1].__array__()\r\n",
    "#right_array = right_event.it[1].__array__()\r\n",
    "#result = network_guess(left_array,right_array)\r\n",
    "\r\n",
    "#final_result = copy.deepcopy(result)\r\n",
    "#for i in range(0, len(result)):\r\n",
    "#    final_result[i] = (result[i] == labels[i])\r\n",
    "\r\n",
    "#print(final_result)\r\n",
    "\r\n"
   ]
  }
 ],
 "metadata": {
  "kernelspec": {
   "display_name": "Python 3",
   "language": "python",
   "name": "python3"
  },
  "language_info": {
   "codemirror_mode": {
    "name": "ipython",
    "version": 3
   },
   "file_extension": ".py",
   "mimetype": "text/x-python",
   "name": "python",
   "nbconvert_exporter": "python",
   "pygments_lexer": "ipython3",
   "version": "3.6.12"
  }
 },
 "nbformat": 4,
 "nbformat_minor": 4
}