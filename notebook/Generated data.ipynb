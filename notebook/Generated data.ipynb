{
 "cells": [
  {
   "cell_type": "code",
   "execution_count": 10,
   "metadata": {},
   "outputs": [
    {
     "name": "stdout",
     "output_type": "stream",
     "text": [
      "Collecting git+https://github.com/jsh9/python-plot-utilities\n",
      "  Cloning https://github.com/jsh9/python-plot-utilities to c:\\users\\erika\\appdata\\local\\temp\\pip-req-build-uc2ycj6q\n",
      "Requirement already satisfied (use --upgrade to upgrade): plot-utils==0.6.6 from git+https://github.com/jsh9/python-plot-utilities in c:\\users\\erika\\anaconda3\\envs\\nnml\\lib\\site-packages\n",
      "Requirement already satisfied: numpy>=1.11.0 in c:\\users\\erika\\anaconda3\\envs\\nnml\\lib\\site-packages (from plot-utils==0.6.6) (1.19.2)\n",
      "Requirement already satisfied: scipy>=0.19.0 in c:\\users\\erika\\anaconda3\\envs\\nnml\\lib\\site-packages (from plot-utils==0.6.6) (1.5.2)\n",
      "Requirement already satisfied: pandas>=0.17.1 in c:\\users\\erika\\anaconda3\\envs\\nnml\\lib\\site-packages (from plot-utils==0.6.6) (1.2.0)\n",
      "Requirement already satisfied: cycler>=0.10.0 in c:\\users\\erika\\anaconda3\\envs\\nnml\\lib\\site-packages (from plot-utils==0.6.6) (0.10.0)\n",
      "Requirement already satisfied: matplotlib in c:\\users\\erika\\anaconda3\\envs\\nnml\\lib\\site-packages (from plot-utils==0.6.6) (3.3.2)\n",
      "Requirement already satisfied: pytz>=2017.3 in c:\\users\\erika\\anaconda3\\envs\\nnml\\lib\\site-packages (from pandas>=0.17.1->plot-utils==0.6.6) (2020.5)\n",
      "Requirement already satisfied: python-dateutil>=2.7.3 in c:\\users\\erika\\anaconda3\\envs\\nnml\\lib\\site-packages (from pandas>=0.17.1->plot-utils==0.6.6) (2.8.1)\n",
      "Requirement already satisfied: six in c:\\users\\erika\\anaconda3\\envs\\nnml\\lib\\site-packages (from cycler>=0.10.0->plot-utils==0.6.6) (1.15.0)\n",
      "Requirement already satisfied: pillow>=6.2.0 in c:\\users\\erika\\anaconda3\\envs\\nnml\\lib\\site-packages (from matplotlib->plot-utils==0.6.6) (8.0.1)\n",
      "Requirement already satisfied: pyparsing!=2.0.4,!=2.1.2,!=2.1.6,>=2.0.3 in c:\\users\\erika\\anaconda3\\envs\\nnml\\lib\\site-packages (from matplotlib->plot-utils==0.6.6) (2.4.7)\n",
      "Requirement already satisfied: certifi>=2020.06.20 in c:\\users\\erika\\anaconda3\\envs\\nnml\\lib\\site-packages (from matplotlib->plot-utils==0.6.6) (2020.12.5)\n",
      "Requirement already satisfied: kiwisolver>=1.0.1 in c:\\users\\erika\\anaconda3\\envs\\nnml\\lib\\site-packages (from matplotlib->plot-utils==0.6.6) (1.3.0)\n",
      "Building wheels for collected packages: plot-utils\n",
      "  Building wheel for plot-utils (setup.py): started\n",
      "  Building wheel for plot-utils (setup.py): finished with status 'done'\n",
      "  Created wheel for plot-utils: filename=plot_utils-0.6.6-py3-none-any.whl size=13278151 sha256=340945e89e009354b79dfb0188c25b318c5f1c8f2864a438c2025ee0a5843dd8\n",
      "  Stored in directory: C:\\Users\\erika\\AppData\\Local\\Temp\\pip-ephem-wheel-cache-6zff0_0x\\wheels\\d0\\99\\78\\05b2d3be85d4e5d1f5fec6dcb8ac2b5866bbed0a86fd1756b0\n",
      "Successfully built plot-utils\n"
     ]
    }
   ],
   "source": [
    "!pip install git+https://github.com/jsh9/python-plot-utilities"
   ]
  },
  {
   "cell_type": "code",
   "execution_count": 11,
   "metadata": {},
   "outputs": [],
   "source": [
    "from brian2 import *\n",
    "import sympy\n",
    "import plot_utils\n",
    "\n",
    "import matplotlib\n",
    "import matplotlib.pyplot as plt\n",
    "import numpy as np"
   ]
  },
  {
   "cell_type": "code",
   "execution_count": 12,
   "metadata": {},
   "outputs": [],
   "source": [
    "# Functions that are used in the notebook\n",
    "from random import random, randrange\n",
    "\n",
    "# Fetched from the brian2 totoruial\n",
    "def visualise_connectivity(S):\n",
    "    Ns = len(S.source)\n",
    "    Nt = len(S.target)\n",
    "    figure(figsize=(10, 4))\n",
    "    subplot(121)\n",
    "    plot(zeros(Ns), arange(Ns), 'ok', ms=10)\n",
    "    plot(ones(Nt), arange(Nt), 'ok', ms=10)\n",
    "    for i, j in zip(S.i, S.j):\n",
    "        plot([0, 1], [i, j], '-k')\n",
    "    xticks([0, 1], ['Source', 'Target'])\n",
    "    ylabel('Neuron index')\n",
    "    xlim(-0.1, 1.1) \n",
    "    ylim(-1, max(Ns, Nt))\n",
    "    subplot(122)\n",
    "    plot(S.i, S.j, 'ok')\n",
    "    xlim(-1, Ns)\n",
    "    ylim(-1, Nt)\n",
    "    xlabel('Source neuron index')\n",
    "    ylabel('Target neuron index')\n",
    "\n",
    "# Generates data that we can test the network on.\n",
    "def spikegen(N: int, end_time: int, star_time: int =  0, random_start: bool = False):\n",
    "  delta_time = (end_time - star_time)\n",
    "  # Initialize a direction list\n",
    "  labels = [None] * delta_time\n",
    "  spikes = [None] * delta_time\n",
    "  times = [None] * delta_time\n",
    "\n",
    "  if random_start:\n",
    "    start_place = randrange(0, N)\n",
    "  else:\n",
    "    start_place = round(N/2)\n",
    "\n",
    "  # Set first spike manually\n",
    "  labels[0] = 0\n",
    "  spikes[0] = start_place\n",
    "  times[0] = 0\n",
    "  \n",
    "  t = 1\n",
    "  id = start_place\n",
    "  cooldown = 0\n",
    "  target = id\n",
    "  dir = 0\n",
    "\n",
    "  while t < delta_time:\n",
    "    # Get a target\n",
    "    if id == target:\n",
    "      while id == target:\n",
    "        target = randrange(0, N)\n",
    "      dir = round((target - id) / abs(target - id))\n",
    "      #print(dir)\n",
    "\n",
    "    # Check whether to move to stand still\n",
    "    still = True\n",
    "    if cooldown == 0:\n",
    "      # 10% chance of standing still\n",
    "      if randrange(0, 20) == 0:\n",
    "        cooldown = 3\n",
    "      else:\n",
    "        still = False\n",
    "    else:\n",
    "      cooldown -= 1\n",
    "\n",
    "    d = 0 if still == True else dir\n",
    "    # Do movement\n",
    "    id += d\n",
    "\n",
    "    # Set output data\n",
    "    labels[t] = d\n",
    "    spikes[t] = id\n",
    "    times[t] = t\n",
    "\n",
    "    #print('t: {:1d}\\tid: {:1d}\\td: {:1d}\\ttarget: {:1d}'.format(t, id, d, target), end='\\n')\n",
    "    t += 1\n",
    "\n",
    "  return {\n",
    "    'labels': labels,\n",
    "    'spikes': spikes,\n",
    "    'times': times\n",
    "  }\n",
    "\n",
    "\n",
    "def filter_spikes(data):\n",
    "  ## Removes zeros so it dose not spike on them.\n",
    "  z = list(zip(*[data[k] for k in data]))\n",
    "  f = [r for r in z if r[0] != 0]\n",
    "  v = [list(t) for t in zip(*f)]\n",
    "\n",
    "  o = dict()\n",
    "  for i, k in enumerate(data):\n",
    "    o[k] = v[i]\n",
    "  return o\n",
    "\n",
    "\n",
    "\n",
    "def network_guess(left_spikes,right_spikes):\n",
    "    ## Will return a list that display the movments\n",
    "    left_i = 0\n",
    "    left_last = len(left_spikes)\n",
    "    right_i = 0\n",
    "    right_last = len(right_spikes)\n",
    "    total_lenght = left_last + right_last\n",
    "    movments = []\n",
    "    movments_i = 0\n",
    "    \n",
    "    while left_i + right_i < total_lenght:\n",
    "        if left_spikes[left_i] == right_spikes[right_i]:\n",
    "            right_i +=1\n",
    "            left_i +=1\n",
    "            movments.append(0)\n",
    "        elif left_spikes[left_i] > right_spikes[right_i]:\n",
    "            movments.append(1)\n",
    "            right_i +=1\n",
    "        else:\n",
    "            movments.append(-1)\n",
    "            left_i +=1\n",
    "        if left_i == left_last:\n",
    "            while right_i < right_last:\n",
    "                movments.append(1)\n",
    "                right_i +=1\n",
    "        if right_i == right_last:\n",
    "            while left_i < left_last:\n",
    "                movments.append(-1)\n",
    "                left_i +=1\n",
    "    return movments"
   ]
  },
  {
   "cell_type": "markdown",
   "metadata": {},
   "source": [
    "## Generate movment data"
   ]
  },
  {
   "cell_type": "code",
   "execution_count": 13,
   "metadata": {},
   "outputs": [
    {
     "name": "stdout",
     "output_type": "stream",
     "text": [
      "[50, 51, 52, 53, 54, 55, 56, 57, 58, 59, 60, 61, 62, 63, 64, 65, 66, 67, 67, 67, 67, 67, 68, 69, 70, 71, 72, 73, 74, 74, 74, 74, 74, 75, 76, 77, 78, 79, 80, 81, 82, 83, 84, 85, 86, 87, 88, 89, 90, 91, 92, 93, 92, 91, 90, 89, 88, 87, 86, 85, 84, 83, 82, 81, 80, 79, 78, 77, 76, 75, 74, 73, 72, 71, 70, 69, 68, 67, 66, 65, 64, 63, 62, 61, 60, 59, 58, 57, 56, 56, 56, 56, 56, 55, 54, 55, 56, 56, 56, 56, 56, 57, 58, 59, 60, 61, 62, 63, 64, 65, 66, 67, 68, 69, 70, 69, 68, 67, 66, 65, 64, 63, 63, 63, 63, 63, 62, 61, 60, 59, 58, 57, 56, 55, 54, 53, 52, 51, 50, 49, 48, 47, 46, 46, 46, 46, 46, 46, 46, 46, 46, 45, 44, 43, 42, 41, 40, 39, 38, 37, 36, 35, 34, 33, 32, 31, 30, 31, 32, 33, 34, 34, 34, 34, 34, 35, 36, 37, 38, 39]\n",
      "[0, 1, 2, 3, 4, 5, 6, 7, 8, 9, 10, 11, 12, 13, 14, 15, 16, 17, 18, 19, 20, 21, 22, 23, 24, 25, 26, 27, 28, 29, 30, 31, 32, 33, 34, 35, 36, 37, 38, 39, 40, 41, 42, 43, 44, 45, 46, 47, 48, 49, 50, 51, 52, 53, 54, 55, 56, 57, 58, 59, 60, 61, 62, 63, 64, 65, 66, 67, 68, 69, 70, 71, 72, 73, 74, 75, 76, 77, 78, 79, 80, 81, 82, 83, 84, 85, 86, 87, 88, 89, 90, 91, 92, 93, 94, 95, 96, 97, 98, 99, 100, 101, 102, 103, 104, 105, 106, 107, 108, 109, 110, 111, 112, 113, 114, 115, 116, 117, 118, 119, 120, 121, 122, 123, 124, 125, 126, 127, 128, 129, 130, 131, 132, 133, 134, 135, 136, 137, 138, 139, 140, 141, 142, 143, 144, 145, 146, 147, 148, 149, 150, 151, 152, 153, 154, 155, 156, 157, 158, 159, 160, 161, 162, 163, 164, 165, 166, 167, 168, 169, 170, 171, 172, 173, 174, 175, 176, 177, 178, 179]\n"
     ]
    }
   ],
   "source": [
    "input_neurons = 100 ### insert no of input neurons here ###\n",
    "time = 180\n",
    "\n",
    "data = spikegen(input_neurons, time)\n",
    "data_without_zeros = filter_spikes(data)\n",
    "print(data['spikes'])\n",
    "print(data['times'])"
   ]
  },
  {
   "cell_type": "markdown",
   "metadata": {},
   "source": [
    "## Creates the network"
   ]
  },
  {
   "cell_type": "code",
   "execution_count": 14,
   "metadata": {},
   "outputs": [
    {
     "name": "stdout",
     "output_type": "stream",
     "text": [
      "Halfway there\n"
     ]
    }
   ],
   "source": [
    "#https://brian2.readthedocs.io/en/stable/examples/frompapers.Stimberg_et_al_2018.example_1_COBA.html\n",
    "start_scope()\n",
    "\n",
    "seed(11922)  # to get identical figures for repeated runs\n",
    "\n",
    "\n",
    "################################################################################\n",
    "# Model parameters\n",
    "################################################################################\n",
    "### General parameters\n",
    "\n",
    "labels = data_without_zeros['labels']\n",
    "spikes = data_without_zeros['spikes']\n",
    "time_for_spikes = data_without_zeros['times']*ms\n",
    "\n",
    "duration = time*ms    # Total simulation time\n",
    "sim_dt = 0.01*ms        # Integrator/sampling step\n",
    "\n",
    "\n",
    "### Neuron parameters\n",
    "tau_m = 30*ms         # Excitatory synaptic time constant\n",
    "V_th = 50e-3         # Firing threshold\n",
    "V_r = 35e-3          # Reset potential       \n",
    "R = 90e6\n",
    "\n",
    "\n",
    "\n",
    "\n",
    "### Synapse parameters\n",
    "we = 1          # Excitatory synaptic weight\n",
    "wi = -1           # Inhibitory synaptic weight\n",
    "\n",
    "#indices = [3,4,5,6,5,4,3,3,4,5,6,5,4,3] #np.linspace(0, 50, num=2)\n",
    "#times = [10,11,12,13,14,15,16,30,31,32,33,34,35,36]*ms #np.linspace(10, 90, num=2)*ms\n",
    "\n",
    "\n",
    "\n",
    "\n",
    "################################################################################\n",
    "# Model definition\n",
    "################################################################################\n",
    "# Set the integration time (in this case not strictly necessary, since we are\n",
    "# using the default value)\n",
    "defaultclock.dt = sim_dt\n",
    "\n",
    "### Neurons\n",
    "neuron_eqs = '''\n",
    "dv/dt = ((V_r-v)+R*I)/tau_m : 1\n",
    "I : 1\n",
    "'''\n",
    "input_group = NeuronGroup(input_neurons, model=neuron_eqs,threshold='v>V_th', reset='v=V_r', method='euler')\n",
    "\n",
    "neurons = NeuronGroup(3*input_neurons-2, model=neuron_eqs,threshold='v>V_th', reset='v=V_r', method='euler')\n",
    "\n",
    "left = NeuronGroup(1, model=neuron_eqs,threshold='v>V_th',reset='v=V_r', method='euler')\n",
    "\n",
    "right = NeuronGroup(1, model=neuron_eqs,threshold='v>V_th',reset='v=V_r', method='euler')\n",
    "\n",
    "neurons.I  = 50e-12\n",
    "neurons.v = input_group.v = left.v = right.v = 'V_r'\n",
    "\n",
    "input_layer = SpikeGeneratorGroup(input_neurons, spikes, time_for_spikes, dt=sim_dt) # assigs 1/4 of the neurons to the input layer\n",
    "#input_layer = input_group[:input_neurons]\n",
    "inh_neurons = neurons[:input_neurons] # assigs 1/4 of the neurons to the inhibitory layer\n",
    "left_layer  = neurons[1*input_neurons:2*input_neurons-1] # assigs 1/4 -1 of the neurons to the left exitatory layer\n",
    "right_layer = neurons[2*input_neurons-1:3*input_neurons-2] # assigs 1/4 -1 of the neurons to the right exitatory layer\n",
    "left_neuron = left[0] # assigns 1 of the neurons to the final left layer\n",
    "right_neuron= right[0] # assigns 1 of the neurons to the final right layer\n",
    "\n",
    "### Synapses\n",
    "exc_syn = Synapses(input_layer, inh_neurons, model = 'w : 1', on_pre = 'v += w') # Connects the input layer to the inhibitory layer\n",
    "exc_syn_left = Synapses(input_layer, left_layer, model = 'w : 1', on_pre = 'v += w') # Connects the input layer to the left exitatory layer\n",
    "exc_syn_right = Synapses(input_layer, right_layer, model = 'w :1', on_pre = 'v += w') # Connects the input layer to the right exitatory layer\n",
    "inh_syn_right = Synapses(inh_neurons, right_layer, model = 'w : 1', on_pre = 'v += w') # Connects the inhibitory layer to the right exitatory layer\n",
    "inh_syn_left = Synapses(inh_neurons, left_layer, model = 'w : 1', on_pre = 'v += w') # Connects the inhibitory layer to the left exitatory layer\n",
    "final_left = Synapses(left_layer, left_neuron, model = 'w : 1', on_pre = 'v += w') # Connects the left exitatory layer to the final left neuron\n",
    "final_right = Synapses(right_layer, right_neuron, model = 'w : 1', on_pre = 'v += w') # Connects the right exitatory layer to the final right neuron\n",
    "\n",
    "exc_syn.connect(i=[*range(0,input_neurons)],j=[*range(0,input_neurons)])\n",
    "exc_syn_left.connect(i=[*range(1,input_neurons)],j=[*range(0,input_neurons-1)])\n",
    "exc_syn_right.connect(i=[*range(0,input_neurons-1)],j=[*range(0,input_neurons-1)])\n",
    "inh_syn_right.connect(i=[*range(1,input_neurons)],j=[*range(0,input_neurons-1)])\n",
    "inh_syn_left.connect(i=[*range(0,input_neurons-1)],j=[*range(0,input_neurons-1)])\n",
    "final_left.connect(i=[*range(0,input_neurons-1)],j=0)\n",
    "final_right.connect(i=[*range(0,input_neurons-1)],j=0)\n",
    "\n",
    "exc_syn.w = 60e-3\n",
    "exc_syn_left.w = 60e-3\n",
    "exc_syn_right.w = 60e-3\n",
    "inh_syn_right.w = -100e-3\n",
    "inh_syn_left.w = -100e-3\n",
    "final_left.w = 60e-3\n",
    "final_right.w = 60e-3\n",
    "\n",
    "\n",
    "#visualise_connectivity(exc_syn)\n",
    "#visualise_connectivity(exc_syn_left)\n",
    "#visualise_connectivity(exc_syn_right)\n",
    "#visualise_connectivity(inh_syn_left)\n",
    "#visualise_connectivity(inh_syn_right)\n",
    "#visualise_connectivity(final_left)\n",
    "#visualise_connectivity(final_right)\n",
    "\n",
    "\n",
    "# ##############################################################################\n",
    "# # Monitors\n",
    "# ##############################################################################\n",
    "# Note that we could use a single monitor for all neurons instead, but in this\n",
    "# way plotting is a bit easier in the end\n",
    "#exc_mon = SpikeMonitor(input_layer)\n",
    "#inh_mon = SpikeMonitor(inh_neurons)\n",
    "\n",
    "### We record some additional data from a single excitatory neuron\n",
    "\n",
    "left_monitor = StateMonitor(left_neuron, 'v', record=0)\n",
    "left_event = EventMonitor(left, event='spike', variables='v')\n",
    "right_monitor = StateMonitor(right_neuron, 'v', record=0)\n",
    "right_event = EventMonitor(right, event='spike', variables='v')\n",
    "#L_right = StateMonitor(inh_neurons, 'v', record=0)\n",
    "\n",
    "print('Halfway there')\n",
    "\n",
    "\n",
    "\n"
   ]
  },
  {
   "cell_type": "markdown",
   "metadata": {},
   "source": [
    "## Run the network"
   ]
  },
  {
   "cell_type": "code",
   "execution_count": 15,
   "metadata": {},
   "outputs": [
    {
     "name": "stdout",
     "output_type": "stream",
     "text": [
      "Starting simulation at t=0. s for a duration of 180. ms\n",
      "180. ms (100%) simulated in 3s\n"
     ]
    }
   ],
   "source": [
    "run(duration, report='text')"
   ]
  },
  {
   "cell_type": "markdown",
   "metadata": {},
   "source": [
    "## Evaluate the result"
   ]
  },
  {
   "cell_type": "code",
   "execution_count": 20,
   "metadata": {},
   "outputs": [
    {
     "data": {
      "image/png": "[encoded data removed]",
      "text/plain": [
       "<Figure size 432x288 with 1 Axes>"
      ]
     },
     "metadata": {
      "needs_background": "light"
     },
     "output_type": "display_data"
    },
    {
     "data": {
      "image/png": "[encoded data removed]",
      "text/plain": [
       "<Figure size 432x288 with 2 Axes>"
      ]
     },
     "metadata": {
      "needs_background": "light"
     },
     "output_type": "display_data"
    }
   ],
   "source": [
    "import copy\n",
    "fig, ax = plt.subplots()\n",
    "ax.plot(data['times'], data['spikes'])\n",
    "\n",
    "ax.set(xlabel='time (ms)', ylabel='Neuron index',\n",
    "       title='Spikegen')\n",
    "ax.grid()\n",
    "\n",
    "plt.show()\n",
    "\n",
    "\n",
    "figure()\n",
    "subplot(211)\n",
    "plot(left_monitor.t/ms, left_monitor.v[0])\n",
    "xlabel('Time (ms)')\n",
    "ylabel('Left spiking neuron');\n",
    "subplot(212)\n",
    "plot(right_monitor.t/ms, right_monitor.v[0])\n",
    "xlabel('Time (ms)')\n",
    "ylabel('Right spiking neuron');\n",
    "\n",
    "#print(left_event.it[1].__getitem__(0))\n",
    "left_array = left_event.it[1].__array__()\n",
    "right_array = right_event.it[1].__array__()\n",
    "result = network_guess(left_array,right_array)\n",
    "\n",
    "final_result = copy.deepcopy(result)\n",
    "for i in range(0, len(result)):\n",
    "    final_result[i] = (result[i] == labels[i])\n",
    "\n",
    "#rint(final_result)\n",
    "\n",
    "#print(left_array)\n",
    "#print(right_array)\n",
    "\n",
    "\n"
   ]
  },
  {
   "cell_type": "code",
   "execution_count": null,
   "metadata": {},
   "outputs": [],
   "source": []
  }
 ],
 "metadata": {
  "kernelspec": {
   "display_name": "Python 3",
   "language": "python",
   "name": "python3"
  },
  "language_info": {
   "codemirror_mode": {
    "name": "ipython",
    "version": 3
   },
   "file_extension": ".py",
   "mimetype": "text/x-python",
   "name": "python",
   "nbconvert_exporter": "python",
   "pygments_lexer": "ipython3",
   "version": "3.8.5"
  }
 },
 "nbformat": 4,
 "nbformat_minor": 4
}
