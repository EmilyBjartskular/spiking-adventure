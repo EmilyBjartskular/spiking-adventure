{
 "cells": [
  {
   "cell_type": "code",
   "execution_count": 21,
   "metadata": {},
   "outputs": [
    {
     "name": "stdout",
     "output_type": "stream",
     "text": [
      "Collecting git+https://github.com/jsh9/python-plot-utilities\n",
      "  Cloning https://github.com/jsh9/python-plot-utilities to c:\\users\\01joja\\appdata\\local\\temp\\pip-req-build-_bcj5p8x\n",
      "Requirement already satisfied (use --upgrade to upgrade): plot-utils==0.6.6 from git+https://github.com/jsh9/python-plot-utilities in c:\\programdata\\anaconda3\\lib\\site-packages\n",
      "Requirement already satisfied: numpy>=1.11.0 in c:\\programdata\\anaconda3\\lib\\site-packages (from plot-utils==0.6.6) (1.18.5)\n",
      "Requirement already satisfied: scipy>=0.19.0 in c:\\programdata\\anaconda3\\lib\\site-packages (from plot-utils==0.6.6) (1.5.0)\n",
      "Requirement already satisfied: pandas>=0.17.1 in c:\\programdata\\anaconda3\\lib\\site-packages (from plot-utils==0.6.6) (1.0.5)\n",
      "Requirement already satisfied: cycler>=0.10.0 in c:\\programdata\\anaconda3\\lib\\site-packages (from plot-utils==0.6.6) (0.10.0)\n",
      "Requirement already satisfied: matplotlib in c:\\programdata\\anaconda3\\lib\\site-packages (from plot-utils==0.6.6) (3.2.2)\n",
      "Requirement already satisfied: python-dateutil>=2.6.1 in c:\\users\\01joja\\appdata\\roaming\\python\\python38\\site-packages (from pandas>=0.17.1->plot-utils==0.6.6) (2.8.1)\n",
      "Requirement already satisfied: pytz>=2017.2 in c:\\programdata\\anaconda3\\lib\\site-packages (from pandas>=0.17.1->plot-utils==0.6.6) (2020.1)\n",
      "Requirement already satisfied: six in c:\\users\\01joja\\appdata\\roaming\\python\\python38\\site-packages (from cycler>=0.10.0->plot-utils==0.6.6) (1.15.0)\n",
      "Requirement already satisfied: kiwisolver>=1.0.1 in c:\\programdata\\anaconda3\\lib\\site-packages (from matplotlib->plot-utils==0.6.6) (1.2.0)\n",
      "Requirement already satisfied: pyparsing!=2.0.4,!=2.1.2,!=2.1.6,>=2.0.1 in c:\\programdata\\anaconda3\\lib\\site-packages (from matplotlib->plot-utils==0.6.6) (2.4.7)\n",
      "Building wheels for collected packages: plot-utils\n",
      "  Building wheel for plot-utils (setup.py): started\n",
      "  Building wheel for plot-utils (setup.py): finished with status 'done'\n",
      "  Created wheel for plot-utils: filename=plot_utils-0.6.6-py3-none-any.whl size=13278151 sha256=f3e80f287467a762de78769a87115053006911888e57569b5447a61643b6e195\n",
      "  Stored in directory: C:\\Users\\01joja\\AppData\\Local\\Temp\\pip-ephem-wheel-cache-jylwto26\\wheels\\d0\\99\\78\\05b2d3be85d4e5d1f5fec6dcb8ac2b5866bbed0a86fd1756b0\n",
      "Successfully built plot-utils\n"
     ]
    },
    {
     "name": "stderr",
     "output_type": "stream",
     "text": [
      "Running command git clone -q https://github.com/jsh9/python-plot-utilities 'C:\\Users\\01joja\\AppData\\Local\\Temp\\pip-req-build-_bcj5p8x'\n"
     ]
    }
   ],
   "source": [
    "!pip install git+https://github.com/jsh9/python-plot-utilities\r\n",
    "from brian2 import *\r\n",
    "import sympy\r\n",
    "import plot_utils"
   ]
  },
  {
   "cell_type": "code",
   "execution_count": 14,
   "metadata": {},
   "outputs": [],
   "source": [
    " \r\n",
    "def neuron_define(input_neurons):\r\n",
    "    input_layer=[*range(0,input_neurons)]\r\n",
    "    inhib_layer=[*range(input_neurons,2*input_neurons)]\r\n",
    "    left_layer=[*range(2*input_neurons,3*input_neurons-1)]\r\n",
    "    right_layer=[*range(3*input_neurons-1,4*input_neurons-2)]\r\n",
    "    left_neuron=[4*input_neurons-1]\r\n",
    "    right_neuron=[4*input_neurons]\r\n",
    "    no_excitatory_neurons= len(input_layer+left_layer+right_layer+left_neuron+right_neuron)\r\n",
    "    no_inhibitory_neurons= len(inhib_layer)\r\n",
    "    return input_layer, inhib_layer, left_layer, right_layer, left_neuron, right_neuron, no_excitatory_neurons, no_inhibitory_neurons\r\n",
    "\r\n",
    "def synapse_generator(input_neurons):\r\n",
    "    i = [] #pre synaptic\r\n",
    "    j = [] #post synaptic\r\n",
    "    a = neuron_define(input_neurons)\r\n",
    "    for index in a[0]:\r\n",
    "        #connect the layer between input layer and the inhib layer, a[1] is inhib layer.\r\n",
    "        i.append(a[0][index])\r\n",
    "        j.append(a[1][index])\r\n",
    "        if index != a[0][0]:\r\n",
    "            #connect the layer between input layer and the left layer, a[2] is left layer.\r\n",
    "            i.append(a[0][index])\r\n",
    "            j.append(a[2][index-1])\r\n",
    "            #connect the layer between inhib layer and the right layer.\r\n",
    "            i.append(a[1][index])\r\n",
    "            j.append(a[3][index-1])\r\n",
    "        #connect the layer between input layer and the right layer, a[3] is right layer.\r\n",
    "        if index != a[0][-1]:\r\n",
    "            i.append(a[0][index])\r\n",
    "            j.append(a[3][index])\r\n",
    "            #connect the layer between inhib layer and the left layer.\r\n",
    "            i.append(a[1][index])\r\n",
    "            j.append(a[2][index])\r\n",
    "            #connect the left layer to the left neuron\r\n",
    "            i.append(a[2][index])\r\n",
    "            j.append(a[4][0])\r\n",
    "            #connect the right layer to the right neuron\r\n",
    "            i.append(a[2][index])\r\n",
    "            j.append(a[5][0])\r\n",
    "        \r\n",
    "    return i,j,a[6],a[7]\r\n",
    "\r\n",
    "def visualise_connectivity(S):\r\n",
    "    Ns = len(S.source)\r\n",
    "    Nt = len(S.target)\r\n",
    "    figure(figsize=(10, 4))\r\n",
    "    subplot(121)\r\n",
    "    plot(zeros(Ns), arange(Ns), 'ok', ms=10)\r\n",
    "    plot(ones(Nt), arange(Nt), 'ok', ms=10)\r\n",
    "    for i, j in zip(S.i, S.j):\r\n",
    "        plot([0, 1], [i, j], '-k')\r\n",
    "    xticks([0, 1], ['Source', 'Target'])\r\n",
    "    ylabel('Neuron index')\r\n",
    "    xlim(-0.1, 1.1) \r\n",
    "    ylim(-1, max(Ns, Nt))\r\n",
    "    subplot(122)\r\n",
    "    plot(S.i, S.j, 'ok')\r\n",
    "    xlim(-1, Ns)\r\n",
    "    ylim(-1, Nt)\r\n",
    "    xlabel('Source neuron index')\r\n",
    "    ylabel('Target neuron index')\r\n",
    "    "
   ]
  },
  {
   "cell_type": "code",
   "execution_count": 23,
   "metadata": {},
   "outputs": [
    {
     "ename": "TypeError",
     "evalue": "len() of unsized object",
     "output_type": "error",
     "traceback": [
      "\u001b[1;31m---------------------------------------------------------------------------\u001b[0m",
      "\u001b[1;31mTypeError\u001b[0m                                 Traceback (most recent call last)",
      "\u001b[1;32m<ipython-input-23-42eacd4627f8>\u001b[0m in \u001b[0;36m<module>\u001b[1;34m\u001b[0m\n\u001b[0;32m      9\u001b[0m \u001b[0mindices\u001b[0m \u001b[1;33m=\u001b[0m \u001b[1;33m[\u001b[0m\u001b[1;36m0\u001b[0m\u001b[1;33m,\u001b[0m\u001b[1;36m0\u001b[0m\u001b[1;33m]\u001b[0m\u001b[1;33m\u001b[0m\u001b[1;33m\u001b[0m\u001b[0m\n\u001b[0;32m     10\u001b[0m \u001b[1;33m\u001b[0m\u001b[0m\n\u001b[1;32m---> 11\u001b[1;33m \u001b[0minput_layer\u001b[0m \u001b[1;33m=\u001b[0m \u001b[0mSpikeGeneratorGroup\u001b[0m\u001b[1;33m(\u001b[0m\u001b[1;36m1\u001b[0m\u001b[1;33m,\u001b[0m \u001b[0mindices\u001b[0m\u001b[1;33m,\u001b[0m \u001b[1;36m10\u001b[0m\u001b[1;33m*\u001b[0m\u001b[0mms\u001b[0m\u001b[1;33m,\u001b[0m \u001b[0mdt\u001b[0m\u001b[1;33m=\u001b[0m\u001b[0msim_dt\u001b[0m\u001b[1;33m)\u001b[0m \u001b[1;31m# assigs 1/4 of the neurons to the input layer\u001b[0m\u001b[1;33m\u001b[0m\u001b[1;33m\u001b[0m\u001b[0m\n\u001b[0m\u001b[0;32m     12\u001b[0m \u001b[1;33m\u001b[0m\u001b[0m\n\u001b[0;32m     13\u001b[0m \u001b[0mG\u001b[0m \u001b[1;33m=\u001b[0m \u001b[0mNeuronGroup\u001b[0m\u001b[1;33m(\u001b[0m\u001b[1;36m2\u001b[0m\u001b[1;33m,\u001b[0m \u001b[0meqs\u001b[0m\u001b[1;33m,\u001b[0m \u001b[0mthreshold\u001b[0m\u001b[1;33m=\u001b[0m\u001b[1;34m'v>1'\u001b[0m\u001b[1;33m,\u001b[0m \u001b[0mreset\u001b[0m\u001b[1;33m=\u001b[0m\u001b[1;34m'v = 0'\u001b[0m\u001b[1;33m,\u001b[0m \u001b[0mmethod\u001b[0m\u001b[1;33m=\u001b[0m\u001b[1;34m'exact'\u001b[0m\u001b[1;33m)\u001b[0m\u001b[1;33m\u001b[0m\u001b[1;33m\u001b[0m\u001b[0m\n",
      "\u001b[1;32mC:\\ProgramData\\Anaconda3\\lib\\site-packages\\brian2\\units\\fundamentalunits.py\u001b[0m in \u001b[0;36mnew_f\u001b[1;34m(*args, **kwds)\u001b[0m\n\u001b[0;32m   2432\u001b[0m                                                      get_dimensions(newkeyset[k]))\n\u001b[0;32m   2433\u001b[0m \u001b[1;33m\u001b[0m\u001b[0m\n\u001b[1;32m-> 2434\u001b[1;33m             \u001b[0mresult\u001b[0m \u001b[1;33m=\u001b[0m \u001b[0mf\u001b[0m\u001b[1;33m(\u001b[0m\u001b[1;33m*\u001b[0m\u001b[0margs\u001b[0m\u001b[1;33m,\u001b[0m \u001b[1;33m**\u001b[0m\u001b[0mkwds\u001b[0m\u001b[1;33m)\u001b[0m\u001b[1;33m\u001b[0m\u001b[1;33m\u001b[0m\u001b[0m\n\u001b[0m\u001b[0;32m   2435\u001b[0m             \u001b[1;32mif\u001b[0m \u001b[1;34m'result'\u001b[0m \u001b[1;32min\u001b[0m \u001b[0mau\u001b[0m\u001b[1;33m:\u001b[0m\u001b[1;33m\u001b[0m\u001b[1;33m\u001b[0m\u001b[0m\n\u001b[0;32m   2436\u001b[0m                 \u001b[1;32mif\u001b[0m \u001b[0misinstance\u001b[0m\u001b[1;33m(\u001b[0m\u001b[0mau\u001b[0m\u001b[1;33m[\u001b[0m\u001b[1;34m'result'\u001b[0m\u001b[1;33m]\u001b[0m\u001b[1;33m,\u001b[0m \u001b[0mCallable\u001b[0m\u001b[1;33m)\u001b[0m \u001b[1;32mand\u001b[0m \u001b[0mau\u001b[0m\u001b[1;33m[\u001b[0m\u001b[1;34m'result'\u001b[0m\u001b[1;33m]\u001b[0m \u001b[1;33m!=\u001b[0m \u001b[0mbool\u001b[0m\u001b[1;33m:\u001b[0m\u001b[1;33m\u001b[0m\u001b[1;33m\u001b[0m\u001b[0m\n",
      "\u001b[1;32mC:\\ProgramData\\Anaconda3\\lib\\site-packages\\brian2\\input\\spikegeneratorgroup.py\u001b[0m in \u001b[0;36m__init__\u001b[1;34m(self, N, indices, times, dt, clock, period, when, order, sorted, name, codeobj_class)\u001b[0m\n\u001b[0;32m     95\u001b[0m         \u001b[0mself\u001b[0m\u001b[1;33m.\u001b[0m\u001b[0mvariables\u001b[0m\u001b[1;33m.\u001b[0m\u001b[0mcreate_clock_variables\u001b[0m\u001b[1;33m(\u001b[0m\u001b[0mself\u001b[0m\u001b[1;33m.\u001b[0m\u001b[0m_clock\u001b[0m\u001b[1;33m)\u001b[0m\u001b[1;33m\u001b[0m\u001b[1;33m\u001b[0m\u001b[0m\n\u001b[0;32m     96\u001b[0m \u001b[1;33m\u001b[0m\u001b[0m\n\u001b[1;32m---> 97\u001b[1;33m         indices, times = self._check_args(indices, times, period, N, sorted,\n\u001b[0m\u001b[0;32m     98\u001b[0m                                           self._clock.dt)\n\u001b[0;32m     99\u001b[0m \u001b[1;33m\u001b[0m\u001b[0m\n",
      "\u001b[1;32mC:\\ProgramData\\Anaconda3\\lib\\site-packages\\brian2\\input\\spikegeneratorgroup.py\u001b[0m in \u001b[0;36m_check_args\u001b[1;34m(self, indices, times, period, N, sorted, dt)\u001b[0m\n\u001b[0;32m    272\u001b[0m     \u001b[1;32mdef\u001b[0m \u001b[0m_check_args\u001b[0m\u001b[1;33m(\u001b[0m\u001b[0mself\u001b[0m\u001b[1;33m,\u001b[0m \u001b[0mindices\u001b[0m\u001b[1;33m,\u001b[0m \u001b[0mtimes\u001b[0m\u001b[1;33m,\u001b[0m \u001b[0mperiod\u001b[0m\u001b[1;33m,\u001b[0m \u001b[0mN\u001b[0m\u001b[1;33m,\u001b[0m \u001b[0msorted\u001b[0m\u001b[1;33m,\u001b[0m \u001b[0mdt\u001b[0m\u001b[1;33m)\u001b[0m\u001b[1;33m:\u001b[0m\u001b[1;33m\u001b[0m\u001b[1;33m\u001b[0m\u001b[0m\n\u001b[0;32m    273\u001b[0m         \u001b[0mtimes\u001b[0m \u001b[1;33m=\u001b[0m \u001b[0mQuantity\u001b[0m\u001b[1;33m(\u001b[0m\u001b[0mtimes\u001b[0m\u001b[1;33m)\u001b[0m\u001b[1;33m\u001b[0m\u001b[1;33m\u001b[0m\u001b[0m\n\u001b[1;32m--> 274\u001b[1;33m         \u001b[1;32mif\u001b[0m \u001b[0mlen\u001b[0m\u001b[1;33m(\u001b[0m\u001b[0mindices\u001b[0m\u001b[1;33m)\u001b[0m \u001b[1;33m!=\u001b[0m \u001b[0mlen\u001b[0m\u001b[1;33m(\u001b[0m\u001b[0mtimes\u001b[0m\u001b[1;33m)\u001b[0m\u001b[1;33m:\u001b[0m\u001b[1;33m\u001b[0m\u001b[1;33m\u001b[0m\u001b[0m\n\u001b[0m\u001b[0;32m    275\u001b[0m             raise ValueError(('Length of the indices and times array must '\n\u001b[0;32m    276\u001b[0m                               \u001b[1;34m'match, but %d != %d'\u001b[0m\u001b[1;33m)\u001b[0m \u001b[1;33m%\u001b[0m \u001b[1;33m(\u001b[0m\u001b[0mlen\u001b[0m\u001b[1;33m(\u001b[0m\u001b[0mindices\u001b[0m\u001b[1;33m)\u001b[0m\u001b[1;33m,\u001b[0m\u001b[1;33m\u001b[0m\u001b[1;33m\u001b[0m\u001b[0m\n",
      "\u001b[1;31mTypeError\u001b[0m: len() of unsized object"
     ]
    }
   ],
   "source": [
    "start_scope()\r\n",
    "\r\n",
    "eqs = '''\r\n",
    "dv/dt = (I-v)/tau : 1\r\n",
    "I : 1\r\n",
    "tau : second\r\n",
    "'''\r\n",
    "\r\n",
    "indices = [0,0]\r\n",
    "\r\n",
    "input_layer = SpikeGeneratorGroup(1, indices, [2,10]*ms, dt=sim_dt) # assigs 1/4 of the neurons to the input layer\r\n",
    "\r\n",
    "G = NeuronGroup(2, eqs, threshold='v>1', reset='v = 0', method='exact')\r\n",
    "G.I = [2, 1]\r\n",
    "G.tau = [10, 30]*ms\r\n",
    "\r\n",
    "# Comment these two lines out to see what happens without Synapses\r\n",
    "S = Synapses(G, G, on_pre='v_post += 0.5')\r\n",
    "S.connect(i=0, j=1)\r\n",
    "\r\n",
    "M = StateMonitor(G, 'v', record=True)\r\n",
    "\r\n",
    "run(100*ms)\r\n",
    "\r\n",
    "plot(M.t/ms, M.v[0], label='Neuron 0')\r\n",
    "plot(M.t/ms, M.v[1], label='Neuron 1')\r\n",
    "xlabel('Time (ms)')\r\n",
    "ylabel('v')\r\n",
    "legend();"
   ]
  }
 ],
 "metadata": {
  "kernelspec": {
   "display_name": "Python 3",
   "name": "python3"
  },
  "language_info": {
   "codemirror_mode": {
    "name": "ipython",
    "version": 3
   },
   "file_extension": ".py",
   "mimetype": "text/x-python",
   "name": "python",
   "nbconvert_exporter": "python",
   "pygments_lexer": "ipython3",
   "version": "3.8.3"
  },
  "orig_nbformat": 2
 },
 "nbformat": 4,
 "nbformat_minor": 2
}