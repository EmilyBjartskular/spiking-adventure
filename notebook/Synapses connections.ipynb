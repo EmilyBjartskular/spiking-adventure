{
 "cells": [
  {
   "cell_type": "markdown",
   "metadata": {},
   "source": [
    "![NN](neuron.gif)"
   ]
  },
  {
   "cell_type": "code",
   "execution_count": 2,
   "metadata": {},
   "outputs": [
    {
     "name": "stdout",
     "output_type": "stream",
     "text": [
      "Collecting git+https://github.com/jsh9/python-plot-utilities\n",
      "  Cloning https://github.com/jsh9/python-plot-utilities to c:\\users\\01joja\\appdata\\local\\temp\\pip-req-build-4xdc2uzp\n",
      "Requirement already satisfied (use --upgrade to upgrade): plot-utils==0.6.6 from git+https://github.com/jsh9/python-plot-utilities in c:\\programdata\\anaconda3\\lib\\site-packages\n",
      "Requirement already satisfied: numpy>=1.11.0 in c:\\programdata\\anaconda3\\lib\\site-packages (from plot-utils==0.6.6) (1.18.5)\n",
      "Requirement already satisfied: scipy>=0.19.0 in c:\\programdata\\anaconda3\\lib\\site-packages (from plot-utils==0.6.6) (1.5.0)\n",
      "Requirement already satisfied: pandas>=0.17.1 in c:\\programdata\\anaconda3\\lib\\site-packages (from plot-utils==0.6.6) (1.0.5)\n",
      "Requirement already satisfied: cycler>=0.10.0 in c:\\programdata\\anaconda3\\lib\\site-packages (from plot-utils==0.6.6) (0.10.0)\n",
      "Requirement already satisfied: matplotlib in c:\\programdata\\anaconda3\\lib\\site-packages (from plot-utils==0.6.6) (3.2.2)\n",
      "Requirement already satisfied: pytz>=2017.2 in c:\\programdata\\anaconda3\\lib\\site-packages (from pandas>=0.17.1->plot-utils==0.6.6) (2020.1)\n",
      "Requirement already satisfied: python-dateutil>=2.6.1 in c:\\users\\01joja\\appdata\\roaming\\python\\python38\\site-packages (from pandas>=0.17.1->plot-utils==0.6.6) (2.8.1)\n",
      "Requirement already satisfied: six in c:\\users\\01joja\\appdata\\roaming\\python\\python38\\site-packages (from cycler>=0.10.0->plot-utils==0.6.6) (1.15.0)\n",
      "Requirement already satisfied: pyparsing!=2.0.4,!=2.1.2,!=2.1.6,>=2.0.1 in c:\\programdata\\anaconda3\\lib\\site-packages (from matplotlib->plot-utils==0.6.6) (2.4.7)\n",
      "Requirement already satisfied: kiwisolver>=1.0.1 in c:\\programdata\\anaconda3\\lib\\site-packages (from matplotlib->plot-utils==0.6.6) (1.2.0)\n",
      "Building wheels for collected packages: plot-utils\n",
      "  Building wheel for plot-utils (setup.py): started\n",
      "  Building wheel for plot-utils (setup.py): finished with status 'done'\n",
      "  Created wheel for plot-utils: filename=plot_utils-0.6.6-py3-none-any.whl size=13278151 sha256=9e97151ca8c52aafbcc018eb2ccab4c344f690dd8e1858bf2f2b6af42ccd536b\n",
      "  Stored in directory: C:\\Users\\01joja\\AppData\\Local\\Temp\\pip-ephem-wheel-cache-sfhymaef\\wheels\\d0\\99\\78\\05b2d3be85d4e5d1f5fec6dcb8ac2b5866bbed0a86fd1756b0\n",
      "Successfully built plot-utils\n"
     ]
    },
    {
     "name": "stderr",
     "output_type": "stream",
     "text": [
      "Running command git clone -q https://github.com/jsh9/python-plot-utilities 'C:\\Users\\01joja\\AppData\\Local\\Temp\\pip-req-build-4xdc2uzp'\n"
     ]
    }
   ],
   "source": [
    "!pip install git+https://github.com/jsh9/python-plot-utilities\n",
    "from brian2 import *\n",
    "import sympy\n",
    "\n",
    "import plot_utils as pu"
   ]
  },
  {
   "cell_type": "code",
   "execution_count": 9,
   "metadata": {},
   "outputs": [],
   "source": [
    " \r\n",
    "def neuron_define(input_neurons):\r\n",
    "    input_layer=[*range(0,input_neurons)]\r\n",
    "    inhib_layer=[*range(input_neurons,2*input_neurons)]\r\n",
    "    left_layer=[*range(2*input_neurons,3*input_neurons-1)]\r\n",
    "    right_layer=[*range(3*input_neurons-1,4*input_neurons-2)]\r\n",
    "    left_neuron=[4*input_neurons-1]\r\n",
    "    right_neuron=[4*input_neurons]\r\n",
    "    no_excitatory_neurons= len(input_layer+left_layer+right_layer+left_neuron+right_neuron)\r\n",
    "    no_inhibitory_neurons= len(inhib_layer)\r\n",
    "    return input_layer, inhib_layer, left_layer, right_layer, left_neuron, right_neuron, no_excitatory_neurons, no_inhibitory_neurons\r\n",
    "\r\n",
    "def synapse_generator(input_neurons):\r\n",
    "    i = [] #pre synaptic\r\n",
    "    j = [] #post synaptic\r\n",
    "    a = neuron_define(input_neurons)\r\n",
    "    for index in a[0]:\r\n",
    "        #connect the layer between input layer and the inhib layer, a[1] is inhib layer.\r\n",
    "        i.append(a[0][index])\r\n",
    "        j.append(a[1][index])\r\n",
    "        if index != a[0][0]:\r\n",
    "            #connect the layer between input layer and the left layer, a[2] is left layer.\r\n",
    "            i.append(a[0][index])\r\n",
    "            j.append(a[2][index-1])\r\n",
    "            #connect the layer between inhib layer and the right layer.\r\n",
    "            i.append(a[1][index])\r\n",
    "            j.append(a[3][index-1])\r\n",
    "        #connect the layer between input layer and the right layer, a[3] is right layer.\r\n",
    "        if index != a[0][-1]:\r\n",
    "            i.append(a[0][index])\r\n",
    "            j.append(a[3][index])\r\n",
    "            #connect the layer between inhib layer and the left layer.\r\n",
    "            i.append(a[1][index])\r\n",
    "            j.append(a[2][index])\r\n",
    "            #connect the left layer to the left neuron\r\n",
    "            i.append(a[2][index])\r\n",
    "            j.append(a[4][0])\r\n",
    "            #connect the right layer to the right neuron\r\n",
    "            i.append(a[2][index])\r\n",
    "            j.append(a[5][0])\r\n",
    "        \r\n",
    "    return i,j,a[6],a[7]\r\n",
    "\r\n",
    "def visualise_connectivity(S):\r\n",
    "    Ns = len(S.source)\r\n",
    "    Nt = len(S.target)\r\n",
    "    figure(figsize=(10, 4))\r\n",
    "    subplot(121)\r\n",
    "    plot(zeros(Ns), arange(Ns), 'ok', ms=10)\r\n",
    "    plot(ones(Nt), arange(Nt), 'ok', ms=10)\r\n",
    "    for i, j in zip(S.i, S.j):\r\n",
    "        plot([0, 1], [i, j], '-k')\r\n",
    "    xticks([0, 1], ['Source', 'Target'])\r\n",
    "    ylabel('Neuron index')\r\n",
    "    xlim(-0.1, 1.1) \r\n",
    "    ylim(-1, max(Ns, Nt))\r\n",
    "    subplot(122)\r\n",
    "    plot(S.i, S.j, 'ok')\r\n",
    "    xlim(-1, Ns)\r\n",
    "    ylim(-1, Nt)\r\n",
    "    xlabel('Source neuron index')\r\n",
    "    ylabel('Target neuron index')\r\n",
    "    "
   ]
  },
  {
   "cell_type": "code",
   "execution_count": 29,
   "metadata": {},
   "outputs": [
    {
     "name": "stdout",
     "output_type": "stream",
     "text": [
      "done\n",
      "Starting simulation at t=0. s for a duration of 0.5 ms\n",
      "0.5 ms (100%) simulated in < 1s\n"
     ]
    }
   ],
   "source": [
    "#https://brian2.readthedocs.io/en/stable/examples/frompapers.Stimberg_et_al_2018.example_1_COBA.html\r\n",
    "start_scope()\r\n",
    "\r\n",
    "seed(11922)  # to get identical figures for repeated runs\r\n",
    "\r\n",
    "################################################################################\r\n",
    "# Model parameters\r\n",
    "################################################################################\r\n",
    "### General parameters\r\n",
    "\r\n",
    "\r\n",
    "input_neurons = 10 ### insert no of input neurons here ###\r\n",
    "i,j,N_e,N_i = synapse_generator(input_neurons) # Calls the function with connections\r\n",
    "\r\n",
    "duration = 0.5*ms      # Total simulation time\r\n",
    "sim_dt = 0.1*ms        # Integrator/sampling step\r\n",
    "\r\n",
    "\r\n",
    "### Neuron parameters\r\n",
    "E_l = -60*mV           # Leak reversal potential\r\n",
    "g_l = 9.99*nS          # Leak conductance\r\n",
    "E_e = 0*mV             # Excitatory synaptic reversal potential\r\n",
    "E_i = -80*mV           # Inhibitory synaptic reversal potential\r\n",
    "C_m = 198*pF           # Membrane capacitance\r\n",
    "tau_e = 5*ms           # Excitatory synaptic time constant\r\n",
    "tau_i = 10*ms          # Inhibitory synaptic time constant\r\n",
    "tau_r = 5*ms           # Refractory period\r\n",
    "I_ex = 150*pA          # External current\r\n",
    "V_th = -50*mV          # Firing threshold\r\n",
    "V_r = E_l              # Reset potential\r\n",
    "\r\n",
    "### Synapse parameters\r\n",
    "w_e = 0.05*nS          # Excitatory synaptic conductance\r\n",
    "w_i = 1.0*nS           # Inhibitory synaptic conductance\r\n",
    "U_0 = 0.6              # Synaptic release probability at rest\r\n",
    "Omega_d = 2.0/second   # Synaptic depression rate\r\n",
    "Omega_f = 3.33/second  # Synaptic facilitation rate\r\n",
    "\r\n",
    "################################################################################\r\n",
    "# Model definition\r\n",
    "################################################################################\r\n",
    "# Set the integration time (in this case not strictly necessary, since we are\r\n",
    "# using the default value)\r\n",
    "defaultclock.dt = sim_dt\r\n",
    "\r\n",
    "### Neurons\r\n",
    "neuron_eqs = '''\r\n",
    "dv/dt = (g_l*(E_l-v) + g_e*(E_e-v) + g_i*(E_i-v) +\r\n",
    "         I_ex)/C_m    : volt (unless refractory)\r\n",
    "dg_e/dt = -g_e/tau_e  : siemens  # post-synaptic exc. conductance\r\n",
    "dg_i/dt = -g_i/tau_i  : siemens  # post-synaptic inh. conductance\r\n",
    "'''\r\n",
    "neurons = NeuronGroup(4*input_neurons, model=neuron_eqs,\r\n",
    "                      threshold='v>V_th', reset='v=V_r',\r\n",
    "                      refractory='tau_r', method='euler')\r\n",
    "# Random initial membrane potential values and conductances\r\n",
    "neurons.v = 'E_l + rand()*(V_th-E_l)'\r\n",
    "neurons.g_e = 'rand()*w_e'\r\n",
    "neurons.g_i = 'rand()*w_i'\r\n",
    "input_layer = neurons[:input_neurons] # assigs 1/4 of the neurons to the input layer\r\n",
    "inh_neurons = neurons[input_neurons:2*input_neurons] # assigs 1/4 of the neurons to the inhibitory layer\r\n",
    "left_layer  = neurons[2*input_neurons:3*input_neurons-1] # assigs 1/4 -1 of the neurons to the left exitatory layer\r\n",
    "right_layer = neurons[3*input_neurons-1:4*input_neurons-2] # assigs 1/4 -1 of the neurons to the right exitatory layer\r\n",
    "left_neuron = neurons[4*input_neurons-2] # assigs 1 of the neurons to the final left layer\r\n",
    "right_neuron= neurons[4*input_neurons-1] # assigs 1 of the neurons to the final right layer\r\n",
    "### Synapses\r\n",
    "synapses_eqs = '''\r\n",
    "# Usage of releasable neurotransmitter per single action potential:\r\n",
    "du_S/dt = -Omega_f * u_S     : 1 (event-driven)\r\n",
    "# Fraction of synaptic neurotransmitter resources available:\r\n",
    "dx_S/dt = Omega_d *(1 - x_S) : 1 (event-driven)\r\n",
    "'''\r\n",
    "synapses_action = '''\r\n",
    "u_S += U_0 * (1 - u_S)\r\n",
    "r_S = u_S * x_S\r\n",
    "x_S -= r_S\r\n",
    "'''\r\n",
    "exc_syn = Synapses(input_layer, inh_neurons, model=synapses_eqs,\r\n",
    "                   on_pre=synapses_action+'g_e_post += w_e*r_S') # Connects the input layer to the inhibitory layer\r\n",
    "exc_syn_left = Synapses(input_layer, left_layer, model=synapses_eqs,\r\n",
    "                   on_pre=synapses_action+'g_e_post += w_e*r_S') # Connects the input layer to the left exitatory layer\r\n",
    "exc_syn_right = Synapses(input_layer, right_layer, model=synapses_eqs,\r\n",
    "                   on_pre=synapses_action+'g_e_post += w_e*r_S') # Connects the input layer to the right exitatory layer\r\n",
    "inh_syn_right = Synapses(inh_neurons, right_layer, model=synapses_eqs,\r\n",
    "                   on_pre=synapses_action+'g_i_post += w_i*r_S') # Connects the inhibitory layer to the right exitatory layer\r\n",
    "inh_syn_left = Synapses(inh_neurons, left_layer, model=synapses_eqs,\r\n",
    "                   on_pre=synapses_action+'g_i_post += w_i*r_S') # Connects the inhibitory layer to the left exitatory layer\r\n",
    "final_left = Synapses(left_layer, left_neuron, model=synapses_eqs,\r\n",
    "                   on_pre=synapses_action+'g_e_post += w_e*r_S') # Connects the left exitatory layer to the final left neuron\r\n",
    "final_right = Synapses(right_layer, right_neuron, model=synapses_eqs,\r\n",
    "                   on_pre=synapses_action+'g_e_post += w_e*r_S') # Connects the right exitatory layer to the final right neuron\r\n",
    "\r\n",
    "\r\n",
    "exc_syn.connect(i=[*range(0,input_neurons)],j=[*range(0,input_neurons)])\r\n",
    "exc_syn_left.connect(i=[*range(1,input_neurons)],j=[*range(0,input_neurons-1)])\r\n",
    "exc_syn_right.connect(i=[*range(0,input_neurons-1)],j=[*range(0,input_neurons-1)])\r\n",
    "inh_syn_right.connect(i=[*range(1,input_neurons)],j=[*range(0,input_neurons-1)])\r\n",
    "inh_syn_left.connect(i=[*range(0,input_neurons-1)],j=[*range(0,input_neurons-1)])\r\n",
    "final_left.connect(i=[*range(0,input_neurons-1)],j=0) #may need to change 0 to a 1 on J\r\n",
    "final_right.connect(i=[*range(0,input_neurons-1)],j=0)\r\n",
    "\r\n",
    "# Start from \"resting\" condition: all synapses have fully-replenished\r\n",
    "# neurotransmitter resources\r\n",
    "exc_syn.x_S = 1\r\n",
    "exc_syn_left.x_S = 1\r\n",
    "exc_syn_right.x_S = 1\r\n",
    "inh_syn_right.x_S = 1\r\n",
    "inh_syn_left.x_S = 1\r\n",
    "final_left.x_S = 1\r\n",
    "final_right.x_S = 1\r\n",
    "\r\n",
    "\r\n",
    "# ##############################################################################\r\n",
    "# # Monitors\r\n",
    "# ##############################################################################\r\n",
    "# Note that we could use a single monitor for all neurons instead, but in this\r\n",
    "# way plotting is a bit easier in the end\r\n",
    "exc_mon = SpikeMonitor(input_layer)\r\n",
    "inh_mon = SpikeMonitor(inh_neurons)\r\n",
    "\r\n",
    "### We record some additional data from a single excitatory neuron\r\n",
    "ni = 50\r\n",
    "# Record conductances and membrane potential of neuron ni\r\n",
    "state_mon = StateMonitor(neurons, ['v', 'g_e', 'g_i'], record=ni)\r\n",
    "# We make sure to monitor synaptic variables after synapse are updated in order\r\n",
    "# to use simple recurrence relations to reconstruct them. Record all synapses\r\n",
    "# originating from neuron ni\r\n",
    "synapse_mon = StateMonitor(exc_syn, ['u_S', 'x_S'],\r\n",
    "                           record=exc_syn[ni, :], when='after_synapses')\r\n",
    "print('done')\r\n",
    "\r\n",
    "\r\n",
    "\r\n",
    "run(duration, report='text')\r\n",
    "\r\n",
    "\r\n",
    "################################################################################\r\n",
    "# Analysis and plotting\r\n",
    "################################################################################\r\n",
    "#plt.style.use('figures.mplstyle')\r\n",
    "\r\n",
    "### Spiking activity (w/ rate)\r\n",
    "#fig1, ax = plt.subplots(nrows=2, ncols=1, sharex=False,\r\n",
    "#                        gridspec_kw={'height_ratios': [3, 1],\r\n",
    "#                                     'left': 0.18, 'bottom': 0.18, 'top': 0.95,\r\n",
    "#                                     'hspace': 0.1},\r\n",
    "#                       figsize=(3.07, 3.07))\r\n"
   ]
  },
  {
   "cell_type": "code",
   "execution_count": 18,
   "metadata": {},
   "outputs": [
    {
     "ename": "TypeError",
     "evalue": "Cannot link variable _source_g_e to g_e in group synapses_7 -- need to precalculate direct indices but index _postsynaptic_idx can change",
     "output_type": "error",
     "traceback": [
      "\u001b[1;31m---------------------------------------------------------------------------\u001b[0m",
      "\u001b[1;31mTypeError\u001b[0m                                 Traceback (most recent call last)",
      "\u001b[1;32m<ipython-input-18-d530d524c018>\u001b[0m in \u001b[0;36m<module>\u001b[1;34m\u001b[0m\n\u001b[0;32m      2\u001b[0m \u001b[0mni\u001b[0m \u001b[1;33m=\u001b[0m \u001b[1;36m50\u001b[0m\u001b[1;33m\u001b[0m\u001b[1;33m\u001b[0m\u001b[0m\n\u001b[0;32m      3\u001b[0m \u001b[1;31m# Record conductances and membrane potential of neuron ni\u001b[0m\u001b[1;33m\u001b[0m\u001b[1;33m\u001b[0m\u001b[1;33m\u001b[0m\u001b[0m\n\u001b[1;32m----> 4\u001b[1;33m \u001b[0mstate_mon\u001b[0m \u001b[1;33m=\u001b[0m \u001b[0mStateMonitor\u001b[0m\u001b[1;33m(\u001b[0m\u001b[0mfinal_left\u001b[0m\u001b[1;33m,\u001b[0m \u001b[1;33m[\u001b[0m\u001b[1;34m'v'\u001b[0m\u001b[1;33m,\u001b[0m \u001b[1;34m'g_e'\u001b[0m\u001b[1;33m,\u001b[0m \u001b[1;34m'g_i'\u001b[0m\u001b[1;33m]\u001b[0m\u001b[1;33m,\u001b[0m \u001b[0mrecord\u001b[0m\u001b[1;33m=\u001b[0m\u001b[0mni\u001b[0m\u001b[1;33m)\u001b[0m\u001b[1;33m\u001b[0m\u001b[1;33m\u001b[0m\u001b[0m\n\u001b[0m\u001b[0;32m      5\u001b[0m \u001b[1;31m# We make sure to monitor synaptic variables after synapse are updated in order\u001b[0m\u001b[1;33m\u001b[0m\u001b[1;33m\u001b[0m\u001b[1;33m\u001b[0m\u001b[0m\n\u001b[0;32m      6\u001b[0m \u001b[1;31m# to use simple recurrence relations to reconstruct them. Record all synapses\u001b[0m\u001b[1;33m\u001b[0m\u001b[1;33m\u001b[0m\u001b[1;33m\u001b[0m\u001b[0m\n",
      "\u001b[1;32mC:\\ProgramData\\Anaconda3\\lib\\site-packages\\brian2\\monitors\\statemonitor.py\u001b[0m in \u001b[0;36m__init__\u001b[1;34m(self, source, variables, record, dt, clock, when, order, name, codeobj_class)\u001b[0m\n\u001b[0;32m    247\u001b[0m                             once=True)\n\u001b[0;32m    248\u001b[0m             \u001b[0mindex\u001b[0m \u001b[1;33m=\u001b[0m \u001b[0msource\u001b[0m\u001b[1;33m.\u001b[0m\u001b[0mvariables\u001b[0m\u001b[1;33m.\u001b[0m\u001b[0mindices\u001b[0m\u001b[1;33m[\u001b[0m\u001b[0mvarname\u001b[0m\u001b[1;33m]\u001b[0m\u001b[1;33m\u001b[0m\u001b[1;33m\u001b[0m\u001b[0m\n\u001b[1;32m--> 249\u001b[1;33m             self.variables.add_reference('_source_%s' % varname,\n\u001b[0m\u001b[0;32m    250\u001b[0m                                          source, varname, index=index)\n\u001b[0;32m    251\u001b[0m             \u001b[1;32mif\u001b[0m \u001b[1;32mnot\u001b[0m \u001b[0mindex\u001b[0m \u001b[1;32min\u001b[0m \u001b[1;33m(\u001b[0m\u001b[1;34m'_idx'\u001b[0m\u001b[1;33m,\u001b[0m \u001b[1;34m'0'\u001b[0m\u001b[1;33m)\u001b[0m \u001b[1;32mand\u001b[0m \u001b[0mindex\u001b[0m \u001b[1;32mnot\u001b[0m \u001b[1;32min\u001b[0m \u001b[0mvariables\u001b[0m\u001b[1;33m:\u001b[0m\u001b[1;33m\u001b[0m\u001b[1;33m\u001b[0m\u001b[0m\n",
      "\u001b[1;32mC:\\ProgramData\\Anaconda3\\lib\\site-packages\\brian2\\core\\variables.py\u001b[0m in \u001b[0;36madd_reference\u001b[1;34m(self, name, group, varname, index)\u001b[0m\n\u001b[0;32m   1832\u001b[0m                  isinstance(self.owner.variables[index], DynamicArrayVariable)) and\n\u001b[0;32m   1833\u001b[0m                     group.variables.indices[varname] != group.variables.default_index):\n\u001b[1;32m-> 1834\u001b[1;33m                 raise TypeError(('Cannot link variable %s to %s in group %s -- '\n\u001b[0m\u001b[0;32m   1835\u001b[0m                                  \u001b[1;34m'need to precalculate direct indices but '\u001b[0m\u001b[1;33m\u001b[0m\u001b[1;33m\u001b[0m\u001b[0m\n\u001b[0;32m   1836\u001b[0m                                  \u001b[1;34m'index %s can change'\u001b[0m\u001b[1;33m)\u001b[0m \u001b[1;33m%\u001b[0m \u001b[1;33m(\u001b[0m\u001b[0mname\u001b[0m\u001b[1;33m,\u001b[0m\u001b[1;33m\u001b[0m\u001b[1;33m\u001b[0m\u001b[0m\n",
      "\u001b[1;31mTypeError\u001b[0m: Cannot link variable _source_g_e to g_e in group synapses_7 -- need to precalculate direct indices but index _postsynaptic_idx can change"
     ]
    }
   ],
   "source": []
  },
  {
   "cell_type": "code",
   "execution_count": null,
   "metadata": {},
   "outputs": [
    {
     "name": "stdout",
     "output_type": "stream",
     "text": [
      "15 5\n"
     ]
    },
    {
     "ename": "NameError",
     "evalue": "name 'S' is not defined",
     "output_type": "error",
     "traceback": [
      "\u001b[1;31m---------------------------------------------------------------------------\u001b[0m",
      "\u001b[1;31mNameError\u001b[0m                                 Traceback (most recent call last)",
      "\u001b[1;32m<ipython-input-11-56a24ef8d7d3>\u001b[0m in \u001b[0;36m<module>\u001b[1;34m\u001b[0m\n\u001b[0;32m      2\u001b[0m \u001b[0mi\u001b[0m\u001b[1;33m,\u001b[0m\u001b[0mj\u001b[0m\u001b[1;33m,\u001b[0m\u001b[0mN_e\u001b[0m\u001b[1;33m,\u001b[0m\u001b[0mN_i\u001b[0m \u001b[1;33m=\u001b[0m \u001b[0msynapse_generator\u001b[0m\u001b[1;33m(\u001b[0m\u001b[0minput_neurons\u001b[0m\u001b[1;33m)\u001b[0m\u001b[1;33m\u001b[0m\u001b[1;33m\u001b[0m\u001b[0m\n\u001b[0;32m      3\u001b[0m \u001b[0mprint\u001b[0m\u001b[1;33m(\u001b[0m\u001b[0mN_e\u001b[0m\u001b[1;33m,\u001b[0m\u001b[0mN_i\u001b[0m\u001b[1;33m)\u001b[0m\u001b[1;33m\u001b[0m\u001b[1;33m\u001b[0m\u001b[0m\n\u001b[1;32m----> 4\u001b[1;33m \u001b[0mS\u001b[0m\u001b[1;33m.\u001b[0m\u001b[0mconnect\u001b[0m\u001b[1;33m(\u001b[0m\u001b[0mi\u001b[0m\u001b[1;33m,\u001b[0m\u001b[0mj\u001b[0m\u001b[1;33m)\u001b[0m\u001b[1;33m\u001b[0m\u001b[1;33m\u001b[0m\u001b[0m\n\u001b[0m\u001b[0;32m      5\u001b[0m \u001b[0mvisualise_connectivity\u001b[0m\u001b[1;33m(\u001b[0m\u001b[0mS\u001b[0m\u001b[1;33m)\u001b[0m\u001b[1;33m\u001b[0m\u001b[1;33m\u001b[0m\u001b[0m\n",
      "\u001b[1;31mNameError\u001b[0m: name 'S' is not defined"
     ]
    }
   ],
   "source": [
    "input_neurons=5\r\n",
    "i,j,N_e,N_i = synapse_generator(input_neurons)\r\n",
    "print(N_e,N_i)"
   ]
  },
  {
   "cell_type": "code",
   "execution_count": 6,
   "metadata": {},
   "outputs": [
    {
     "name": "stdout",
     "output_type": "stream",
     "text": [
      "[0, 0, 1, 2, 3, 4]\n"
     ]
    }
   ],
   "source": [
    "a = 5\n",
    "a \n",
    "print([0,*range(0,5)])"
   ]
  },
  {
   "cell_type": "code",
   "execution_count": 7,
   "metadata": {},
   "outputs": [
    {
     "name": "stdout",
     "output_type": "stream",
     "text": [
      "<Subgroup 'neurongroup_subgroup' of 'neurongroup' from 0 to 500> exc\n",
      "<Subgroup 'neurongroup_subgroup_1' of 'neurongroup' from 500 to 1000> inh\n",
      "<Subgroup 'neurongroup_subgroup_2' of 'neurongroup' from 1000 to 1499>\n",
      "<Subgroup 'neurongroup_subgroup_3' of 'neurongroup' from 1499 to 1998>\n",
      "<Subgroup 'neurongroup_subgroup_4' of 'neurongroup' from 1998 to 1999>\n",
      "<Subgroup 'neurongroup_subgroup_5' of 'neurongroup' from 1999 to 2000>\n"
     ]
    }
   ],
   "source": [
    "print(input_layer, 'exc')\n",
    "print(inh_neurons, 'inh')\n",
    "print(left_layer)\n",
    "print(right_layer)\n",
    "print(left_neuron)\n",
    "print(right_neuron)"
   ]
  },
  {
   "cell_type": "code",
   "execution_count": null,
   "metadata": {},
   "outputs": [],
   "source": []
  }
 ],
 "metadata": {
  "kernelspec": {
   "display_name": "Python 3",
   "language": "python",
   "name": "python3"
  },
  "language_info": {
   "codemirror_mode": {
    "name": "ipython",
    "version": 3
   },
   "file_extension": ".py",
   "mimetype": "text/x-python",
   "name": "python",
   "nbconvert_exporter": "python",
   "pygments_lexer": "ipython3",
   "version": "3.8.5"
  }
 },
 "nbformat": 4,
 "nbformat_minor": 4
}