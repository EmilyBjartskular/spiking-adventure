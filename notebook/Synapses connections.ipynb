{
 "cells": [
  {
   "cell_type": "markdown",
   "metadata": {},
   "source": [
    "![NN](neuron.gif)"
   ]
  },
  {
   "cell_type": "code",
   "execution_count": 39,
   "metadata": {},
   "outputs": [
    {
     "name": "stdout",
     "output_type": "stream",
     "text": [
      "Collecting git+https://github.com/jsh9/python-plot-utilities\n",
      "  Cloning https://github.com/jsh9/python-plot-utilities to c:\\users\\erika\\appdata\\local\\temp\\pip-req-build-3hb3rt8b\n",
      "Requirement already satisfied (use --upgrade to upgrade): plot-utils==0.6.6 from git+https://github.com/jsh9/python-plot-utilities in c:\\users\\erika\\anaconda3\\envs\\nnml\\lib\\site-packages\n",
      "Requirement already satisfied: numpy>=1.11.0 in c:\\users\\erika\\anaconda3\\envs\\nnml\\lib\\site-packages (from plot-utils==0.6.6) (1.19.2)\n",
      "Requirement already satisfied: scipy>=0.19.0 in c:\\users\\erika\\anaconda3\\envs\\nnml\\lib\\site-packages (from plot-utils==0.6.6) (1.5.2)\n",
      "Requirement already satisfied: pandas>=0.17.1 in c:\\users\\erika\\anaconda3\\envs\\nnml\\lib\\site-packages (from plot-utils==0.6.6) (1.2.0)\n",
      "Requirement already satisfied: cycler>=0.10.0 in c:\\users\\erika\\anaconda3\\envs\\nnml\\lib\\site-packages (from plot-utils==0.6.6) (0.10.0)\n",
      "Requirement already satisfied: matplotlib in c:\\users\\erika\\anaconda3\\envs\\nnml\\lib\\site-packages (from plot-utils==0.6.6) (3.3.2)\n",
      "Requirement already satisfied: pytz>=2017.3 in c:\\users\\erika\\anaconda3\\envs\\nnml\\lib\\site-packages (from pandas>=0.17.1->plot-utils==0.6.6) (2020.5)\n",
      "Requirement already satisfied: python-dateutil>=2.7.3 in c:\\users\\erika\\anaconda3\\envs\\nnml\\lib\\site-packages (from pandas>=0.17.1->plot-utils==0.6.6) (2.8.1)\n",
      "Requirement already satisfied: six in c:\\users\\erika\\anaconda3\\envs\\nnml\\lib\\site-packages (from cycler>=0.10.0->plot-utils==0.6.6) (1.15.0)\n",
      "Requirement already satisfied: pillow>=6.2.0 in c:\\users\\erika\\anaconda3\\envs\\nnml\\lib\\site-packages (from matplotlib->plot-utils==0.6.6) (8.0.1)\n",
      "Requirement already satisfied: kiwisolver>=1.0.1 in c:\\users\\erika\\anaconda3\\envs\\nnml\\lib\\site-packages (from matplotlib->plot-utils==0.6.6) (1.3.0)\n",
      "Requirement already satisfied: pyparsing!=2.0.4,!=2.1.2,!=2.1.6,>=2.0.3 in c:\\users\\erika\\anaconda3\\envs\\nnml\\lib\\site-packages (from matplotlib->plot-utils==0.6.6) (2.4.7)\n",
      "Requirement already satisfied: certifi>=2020.06.20 in c:\\users\\erika\\anaconda3\\envs\\nnml\\lib\\site-packages (from matplotlib->plot-utils==0.6.6) (2020.12.5)\n",
      "Building wheels for collected packages: plot-utils\n",
      "  Building wheel for plot-utils (setup.py): started\n",
      "  Building wheel for plot-utils (setup.py): finished with status 'done'\n",
      "  Created wheel for plot-utils: filename=plot_utils-0.6.6-py3-none-any.whl size=13278151 sha256=831d49631578e725cc1786ddae9d7d8a4b9ace0c9c51e9ac440345b9945d5759\n",
      "  Stored in directory: C:\\Users\\erika\\AppData\\Local\\Temp\\pip-ephem-wheel-cache-834cul8w\\wheels\\d0\\99\\78\\05b2d3be85d4e5d1f5fec6dcb8ac2b5866bbed0a86fd1756b0\n",
      "Successfully built plot-utils\n"
     ]
    },
    {
     "name": "stderr",
     "output_type": "stream",
     "text": [
      "Running command git clone -q https://github.com/jsh9/python-plot-utilities 'C:\\Users\\01joja\\AppData\\Local\\Temp\\pip-req-build-i9vqnbti'\n"
     ]
    }
   ],
   "source": [
    "!pip install git+https://github.com/jsh9/python-plot-utilities\n",
    "from brian2 import *\n",
    "import sympy\n",
    "import plot_utils"
   ]
  },
  {
   "cell_type": "code",
   "execution_count": 40,
   "metadata": {},
   "outputs": [],
   "source": [
    " \n",
    "def neuron_define(input_neurons):\n",
    "    input_layer=[*range(0,input_neurons)]\n",
    "    inhib_layer=[*range(input_neurons,2*input_neurons)]\n",
    "    left_layer=[*range(2*input_neurons,3*input_neurons-1)]\n",
    "    right_layer=[*range(3*input_neurons-1,4*input_neurons-2)]\n",
    "    left_neuron=[4*input_neurons-1]\n",
    "    right_neuron=[4*input_neurons]\n",
    "    no_excitatory_neurons= len(input_layer+left_layer+right_layer+left_neuron+right_neuron)\n",
    "    no_inhibitory_neurons= len(inhib_layer)\n",
    "    return input_layer, inhib_layer, left_layer, right_layer, left_neuron, right_neuron, no_excitatory_neurons, no_inhibitory_neurons\n",
    "\n",
    "def synapse_generator(input_neurons):\n",
    "    i = [] #pre synaptic\n",
    "    j = [] #post synaptic\n",
    "    a = neuron_define(input_neurons)\n",
    "    for index in a[0]:\n",
    "        #connect the layer between input layer and the inhib layer, a[1] is inhib layer.\n",
    "        i.append(a[0][index])\n",
    "        j.append(a[1][index])\n",
    "        if index != a[0][0]:\n",
    "            #connect the layer between input layer and the left layer, a[2] is left layer.\n",
    "            i.append(a[0][index])\n",
    "            j.append(a[2][index-1])\n",
    "            #connect the layer between inhib layer and the right layer.\n",
    "            i.append(a[1][index])\n",
    "            j.append(a[3][index-1])\n",
    "        #connect the layer between input layer and the right layer, a[3] is right layer.\n",
    "        if index != a[0][-1]:\n",
    "            i.append(a[0][index])\n",
    "            j.append(a[3][index])\n",
    "            #connect the layer between inhib layer and the left layer.\n",
    "            i.append(a[1][index])\n",
    "            j.append(a[2][index])\n",
    "            #connect the left layer to the left neuron\n",
    "            i.append(a[2][index])\n",
    "            j.append(a[4][0])\n",
    "            #connect the right layer to the right neuron\n",
    "            i.append(a[2][index])\n",
    "            j.append(a[5][0])\n",
    "        \n",
    "    return i,j,a[6],a[7]\n",
    "\n",
    "def visualise_connectivity(S):\n",
    "    Ns = len(S.source)\n",
    "    Nt = len(S.target)\n",
    "    figure(figsize=(10, 4))\n",
    "    subplot(121)\n",
    "    plot(zeros(Ns), arange(Ns), 'ok', ms=10)\n",
    "    plot(ones(Nt), arange(Nt), 'ok', ms=10)\n",
    "    for i, j in zip(S.i, S.j):\n",
    "        plot([0, 1], [i, j], '-k')\n",
    "    xticks([0, 1], ['Source', 'Target'])\n",
    "    ylabel('Neuron index')\n",
    "    xlim(-0.1, 1.1) \n",
    "    ylim(-1, max(Ns, Nt))\n",
    "    subplot(122)\n",
    "    plot(S.i, S.j, 'ok')\n",
    "    xlim(-1, Ns)\n",
    "    ylim(-1, Nt)\n",
    "    xlabel('Source neuron index')\n",
    "    ylabel('Target neuron index')\n",
    "    "
   ]
  },
  {
   "cell_type": "code",
   "execution_count": 45,
   "metadata": {},
   "outputs": [
    {
     "name": "stderr",
     "output_type": "stream",
     "text": [
      "WARNING    \"statemonitor\" has been included in the network but not the object on which it depends.Setting \"statemonitor\" to inactive. [brian2.core.magic.dependency_warning]\n",
      "WARNING    \"synapses\" has been included in the network but not the object on which it depends.Setting \"synapses\" to inactive. [brian2.core.magic.dependency_warning]\n",
      "WARNING    \"synapses_7\" has been included in the network but not the object on which it depends.Setting \"synapses_7\" to inactive. [brian2.core.magic.dependency_warning]\n",
      "WARNING    \"statemonitor_1\" has been included in the network but not the object on which it depends.Setting \"statemonitor_1\" to inactive. [brian2.core.magic.dependency_warning]\n",
      "WARNING    \"synapses_1\" has been included in the network but not the object on which it depends.Setting \"synapses_1\" to inactive. [brian2.core.magic.dependency_warning]\n",
      "WARNING    \"synapses_4\" has been included in the network but not the object on which it depends.Setting \"synapses_4\" to inactive. [brian2.core.magic.dependency_warning]\n",
      "WARNING    \"synapses_2\" has been included in the network but not the object on which it depends.Setting \"synapses_2\" to inactive. [brian2.core.magic.dependency_warning]\n"
     ]
    },
    {
     "name": "stdout",
     "output_type": "stream",
     "text": [
      "done\n",
      "Starting simulation at t=0. s for a duration of 100. ms\n",
      "100. ms (100%) simulated in < 1s\n"
     ]
    },
    {
     "data": {
      "image/png": "[encoded data removed]",
      "text/plain": [
       "<Figure size 432x288 with 1 Axes>"
      ]
     },
     "metadata": {
      "needs_background": "light"
     },
     "output_type": "display_data"
    }
   ],
   "source": [
    "#https://brian2.readthedocs.io/en/stable/examples/frompapers.Stimberg_et_al_2018.example_1_COBA.html\n",
    "start_scope()\n",
    "\n",
    "seed(11922)  # to get identical figures for repeated runs\n",
    "\n",
    "################################################################################\n",
    "# Model parameters\n",
    "################################################################################\n",
    "### General parameters\n",
    "\n",
    "\n",
    "input_neurons = 100 ### insert no of input neurons here ###\n",
    "i,j,N_e,N_i = synapse_generator(input_neurons) # Calls the function with connections\n",
    "\n",
    "duration = 100*ms      # Total simulation time\n",
    "sim_dt = 0.1*ms        # Integrator/sampling step\n",
    "\n",
    "\n",
    "### Neuron parameters\n",
    "E_l = -60*mV           # Leak reversal potential\n",
    "g_l = 9.99*nS          # Leak conductance\n",
    "E_e = 0*mV             # Excitatory synaptic reversal potential\n",
    "E_i = -80*mV           # Inhibitory synaptic reversal potential\n",
    "C_m = 198*pF           # Membrane capacitance\n",
    "tau_e = 5*ms           # Excitatory synaptic time constant\n",
    "tau_i = 10*ms          # Inhibitory synaptic time constant\n",
    "tau_r = 5*ms           # Refractory period\n",
    "I_ex = 150*pA          # External current\n",
    "V_th = -50*mV          # Firing threshold\n",
    "V_r = E_l              # Reset potential\n",
    "\n",
    "### Synapse parameters\n",
    "w_e = 0.05*nS          # Excitatory synaptic conductance\n",
    "w_i = 1.0*nS           # Inhibitory synaptic conductance\n",
    "U_0 = 0.6              # Synaptic release probability at rest\n",
    "Omega_d = 2.0/second   # Synaptic depression rate\n",
    "Omega_f = 3.33/second  # Synaptic facilitation rate\n",
    "\n",
    "indices = np.linspace(0, 50, num=10)\n",
    "\n",
    "\n",
    "times = np.linspace(0, 90, num=10)*ms\n",
    "\n",
    "\n",
    "################################################################################\n",
    "# Model definition\n",
    "################################################################################\n",
    "# Set the integration time (in this case not strictly necessary, since we are\n",
    "# using the default value)\n",
    "defaultclock.dt = sim_dt\n",
    "\n",
    "### Neurons\n",
    "neuron_eqs = '''\n",
    "dv/dt = (g_l*(E_l-v) + g_e*(E_e-v) + g_i*(E_i-v) +\n",
    "         I_ex)/C_m    : volt (unless refractory)\n",
    "dg_e/dt = -g_e/tau_e  : siemens  # post-synaptic exc. conductance\n",
    "dg_i/dt = -g_i/tau_i  : siemens  # post-synaptic inh. conductance\n",
    "'''\n",
    "input_group = NeuronGroup(input_neurons, model=neuron_eqs,\n",
    "                      threshold='v>V_th', reset='v=V_r',\n",
    "                      refractory='tau_r', method='euler')\n",
    "\n",
    "neurons = NeuronGroup(3*input_neurons-2, model=neuron_eqs,\n",
    "                      threshold='v>V_th', reset='v=V_r',\n",
    "                      refractory='tau_r', method='euler')\n",
    "left = NeuronGroup(1, model=neuron_eqs,\n",
    "                      threshold='v>V_th', reset='v=V_r',\n",
    "                      refractory='tau_r', method='euler')\n",
    "right = NeuronGroup(1, model=neuron_eqs,\n",
    "                      threshold='v>V_th', reset='v=V_r',\n",
    "                      refractory='tau_r', method='euler')\n",
    "# Random initial membrane potential values and conductances\n",
    "neurons.v = 'E_l + rand()*(V_th-E_l)'\n",
    "neurons.g_e = 'w_e'\n",
    "#neurons.g_i = 'w_i'\n",
    "#neurons.I = 2\n",
    "#neurons.tau = [10, 100]*ms\n",
    "input_layer = SpikeGeneratorGroup(input_neurons, indices, times) # assigs 1/4 of the neurons to the input layer\n",
    "#input_layer = input_group[:input_neurons]\n",
    "inh_neurons = neurons[:input_neurons] # assigs 1/4 of the neurons to the inhibitory layer\n",
    "left_layer  = neurons[1*input_neurons:2*input_neurons-1] # assigs 1/4 -1 of the neurons to the left exitatory layer\n",
    "right_layer = neurons[2*input_neurons-1:3*input_neurons-2] # assigs 1/4 -1 of the neurons to the right exitatory layer\n",
    "left_neuron = left[0] # assigs 1 of the neurons to the final left layer\n",
    "right_neuron= right[0] # assigs 1 of the neurons to the final right layer\n",
    "### Synapses\n",
    "synapses_eqs = '''\n",
    "# Usage of releasable neurotransmitter per single action potential:\n",
    "du_S/dt = -Omega_f * u_S     : 1 (event-driven)\n",
    "# Fraction of synaptic neurotransmitter resources available:\n",
    "dx_S/dt = Omega_d *(1 - x_S) : 1 (event-driven)\n",
    "'''\n",
    "synapses_action = '''\n",
    "u_S += U_0 * (1 - u_S)\n",
    "r_S = u_S * x_S\n",
    "x_S -= r_S\n",
    "'''\n",
    "exc_syn = Synapses(input_layer, inh_neurons, model=synapses_eqs,\n",
    "                   on_pre=synapses_action+'g_e_post += w_e*r_S') # Connects the input layer to the inhibitory layer\n",
    "exc_syn_left = Synapses(input_layer, left_layer, model=synapses_eqs,\n",
    "                   on_pre=synapses_action+'g_e_post += w_e*r_S') # Connects the input layer to the left exitatory layer\n",
    "exc_syn_right = Synapses(input_layer, right_layer, model=synapses_eqs,\n",
    "                   on_pre=synapses_action+'g_e_post += w_e*r_S') # Connects the input layer to the right exitatory layer\n",
    "inh_syn_right = Synapses(inh_neurons, right_layer, model=synapses_eqs,\n",
    "                   on_pre=synapses_action+'g_i_post += w_i*r_S') # Connects the inhibitory layer to the right exitatory layer\n",
    "inh_syn_left = Synapses(inh_neurons, left_layer, model=synapses_eqs,\n",
    "                   on_pre=synapses_action+'g_i_post += w_i*r_S') # Connects the inhibitory layer to the left exitatory layer\n",
    "final_left = Synapses(left_layer, left_neuron, model=synapses_eqs,\n",
    "                   on_pre=synapses_action+'g_e_post += w_e*r_S') # Connects the left exitatory layer to the final left neuron\n",
    "final_right = Synapses(right_layer, right_neuron, model=synapses_eqs,\n",
    "                   on_pre=synapses_action+'g_e_post += w_e*r_S') # Connects the right exitatory layer to the final right neuron\n",
    "\n",
    "\n",
    "exc_syn.connect(i=[*range(0,input_neurons)],j=[*range(0,input_neurons)])\n",
    "exc_syn_left.connect(i=[*range(1,input_neurons)],j=[*range(0,input_neurons-1)])\n",
    "exc_syn_right.connect(i=[*range(0,input_neurons-1)],j=[*range(0,input_neurons-1)])\n",
    "inh_syn_right.connect(i=[*range(1,input_neurons)],j=[*range(0,input_neurons-1)])\n",
    "inh_syn_left.connect(i=[*range(0,input_neurons-1)],j=[*range(0,input_neurons-1)])\n",
    "final_left.connect(i=[*range(0,input_neurons-1)],j=0) #may need to change 0 to a 1 on J\n",
    "final_right.connect(i=[*range(0,input_neurons-1)],j=0)\n",
    "\n",
    "# Start from \"resting\" condition: all synapses have fully-replenished\n",
    "# neurotransmitter resources\n",
    "exc_syn.x_S = 1\n",
    "exc_syn_left.x_S = 1\n",
    "exc_syn_right.x_S = 1\n",
    "inh_syn_right.x_S = 1\n",
    "inh_syn_left.x_S = 1\n",
    "final_left.x_S = 1\n",
    "final_right.x_S = 1\n",
    "\n",
    "\n",
    "# ##############################################################################\n",
    "# # Monitors\n",
    "# ##############################################################################\n",
    "# Note that we could use a single monitor for all neurons instead, but in this\n",
    "# way plotting is a bit easier in the end\n",
    "exc_mon = SpikeMonitor(input_layer)\n",
    "inh_mon = SpikeMonitor(inh_neurons)\n",
    "\n",
    "### We record some additional data from a single excitatory neuron\n",
    "ni = 50\n",
    "# Record conductances and membrane potential of neuron ni\n",
    "state_mon = StateMonitor(neurons, ['v', 'g_e', 'g_i'], record=ni)\n",
    "# We make sure to monitor synaptic variables after synapse are updated in order\n",
    "# to use simple recurrence relations to reconstruct them. Record all synapses\n",
    "# originating from neuron ni\n",
    "synapse_mon = StateMonitor(exc_syn, ['u_S', 'x_S'],\n",
    "                           record=exc_syn[ni, :], when='after_synapses')\n",
    "\n",
    "M_left = StateMonitor(left_neuron, 'v', record=0)\n",
    "M_right = StateMonitor(right_neuron, 'v', record=0)\n",
    "\n",
    "\n",
    "print('done')\n",
    "\n",
    "\n",
    "\n",
    "\n",
    "run(duration, report='text')\n",
    "\n",
    "plot(M_left.t/ms, M_left.v[0])\n",
    "xlabel('Time (ms)')\n",
    "ylabel('v');\n",
    "\n",
    "\n",
    "\n",
    "plot(M_right.t/ms, M_right.v[0])\n",
    "xlabel('Time (ms)')\n",
    "ylabel('v');\n"
   ]
  },
  {
   "cell_type": "code",
   "execution_count": 34,
   "metadata": {},
   "outputs": [
    {
     "data": {
      "image/png": "[encoded data removed]",
      "text/plain": [
       "<Figure size 432x288 with 1 Axes>"
      ]
     },
     "metadata": {
      "needs_background": "light"
     },
     "output_type": "display_data"
    }
   ],
   "source": [
    "\n",
    "plot(M_right.t/ms, M_right.v[0])\n",
    "xlabel('Time (ms)')\n",
    "ylabel('v');\n"
   ]
  },
  {
   "cell_type": "code",
   "execution_count": 9,
   "metadata": {},
   "outputs": [
    {
     "name": "stdout",
     "output_type": "stream",
     "text": [
      "None\n"
     ]
    }
   ],
   "source": [
    "print(plot_utils.__doc__)"
   ]
  },
  {
   "cell_type": "code",
   "execution_count": 42,
   "metadata": {},
   "outputs": [
    {
     "name": "stdout",
     "output_type": "stream",
     "text": [
      "[ 0.   2.5  5.   7.5 10. ]\n"
     ]
    }
   ],
   "source": [
    "print(np.linspace(0,10,num=5))"
   ]
  },
  {
   "cell_type": "code",
   "execution_count": 30,
   "metadata": {},
   "outputs": [
    {
     "name": "stdout",
     "output_type": "stream",
     "text": [
      "100\n",
      "50\n",
      "50\n"
     ]
    }
   ],
   "source": [
    "indices = array([50, 51, 50, 50, 51, 52, 53,54,55,56,50, 51, 50, 50, 51, 52, 53,54,55,56,50, 51, 50, 50, 51, 52, 53,54,55,56,50, 51, 50, 50, 51, 52, 53,54,55,56,50, 51, 50, 50, 51, 52, 53,54,55,56,50, 51, 50, 50, 51, 52, 53,54,55,56,50, 51, 50, 50, 51, 52, 53,54,55,56,50, 51, 50, 50, 51, 52, 53,54,55,56,50, 51, 50, 50, 51, 52, 53,54,55,56,50, 51, 50, 50, 51, 52, 53,54,55,56])\n",
    "\n",
    "\n",
    "print(len(eriks_data))\n",
    "times = array([*range(1,201,4)])*ms\n",
    "print(len(times))\n",
    "indices = indices[:len(times)]\n",
    "print(len(indices))"
   ]
  },
  {
   "cell_type": "code",
   "execution_count": null,
   "metadata": {},
   "outputs": [],
   "source": []
  }
 ],
 "metadata": {
  "kernelspec": {
   "display_name": "Python 3",
   "language": "python",
   "name": "python3"
  },
  "language_info": {
   "codemirror_mode": {
    "name": "ipython",
    "version": 3
   },
   "file_extension": ".py",
   "mimetype": "text/x-python",
   "name": "python",
   "nbconvert_exporter": "python",
   "pygments_lexer": "ipython3",
   "version": "3.8.5"
  }
 },
 "nbformat": 4,
 "nbformat_minor": 4
}