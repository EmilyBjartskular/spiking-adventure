{
 "cells": [
  {
   "cell_type": "markdown",
   "metadata": {},
   "source": [
    "![NN](neuron.gif)"
   ]
  },
  {
   "cell_type": "code",
   "execution_count": 3,
   "metadata": {},
   "outputs": [],
   "source": [
    " \n",
    "def neuron_define(input_neurons):\n",
    "    input_layer=[*range(0,input_neurons)]\n",
    "    inhib_layer=[*range(input_neurons,2*input_neurons)]\n",
    "    left_layer=[*range(2*input_neurons,3*input_neurons-1)]\n",
    "    right_layer=[*range(3*input_neurons-1,4*input_neurons-1)]\n",
    "    left_neuron=[4*input_neurons-1]\n",
    "    right_neuron=[4*input_neurons]\n",
    "    return input_layer, inhib_layer, left_layer, right_layer, left_neuron, right_neuron\n",
    "\n",
    "def synapse_generator(input_neurons):\n",
    "    i = [] #pre synaptic\n",
    "    j = [] #post synaptic\n",
    "    a = neuron_define(input_neurons)\n",
    "    for index in a[0]:\n",
    "        i.append(a[0][index])\n",
    "        j.append(a[1][index])\n",
    "        if index != a[0][0]:\n",
    "            i.append(a[0][index])\n",
    "            j.append(a[2][index-1])\n",
    "            #connect the layer between inhib layer and the right layer.\n",
    "            i.append(a[1][index])\n",
    "            j.append(a[3][index-1])\n",
    "        #connect the layer between input layer and the right layer, a[3] is right layer.\n",
    "        if index != a[0][-1]:\n",
    "            i.append(a[0][index])\n",
    "            j.append(a[3][index+1])\n",
    "            #connect the layer between inhib layer and the left layer.\n",
    "            i.append(a[1][index])\n",
    "            j.append(a[2][index])\n",
    "            #connect the left layer to the left neuron\n",
    "            i.append(a[2][index])\n",
    "            j.append(a[4][0])\n",
    "            #connect the right layer to the right neuron\n",
    "            i.append(a[2][index])\n",
    "            j.append(a[5][0])\n",
    "        \n",
    "    return i,j"
   ]
  },
  {
   "cell_type": "code",
   "execution_count": 4,
   "metadata": {},
   "outputs": [
    {
     "name": "stdout",
     "output_type": "stream",
     "text": [
      "29\n",
      "29\n"
     ]
    }
   ],
   "source": [
    "input_neurons=5\n",
    "\n",
    "i,j = synapse_generator(input_neurons)\n",
    "#S.connect(i,j)"
   ]
  },
  {
   "cell_type": "code",
   "execution_count": null,
   "metadata": {},
   "outputs": [],
   "source": []
  }
 ],
 "metadata": {
  "kernelspec": {
   "display_name": "Python 3",
   "language": "python",
   "name": "python3"
  },
  "language_info": {
   "codemirror_mode": {
    "name": "ipython",
    "version": 3
   },
   "file_extension": ".py",
   "mimetype": "text/x-python",
   "name": "python",
   "nbconvert_exporter": "python",
   "pygments_lexer": "ipython3",
   "version": "3.8.3"
  }
 },
 "nbformat": 4,
 "nbformat_minor": 4
}
