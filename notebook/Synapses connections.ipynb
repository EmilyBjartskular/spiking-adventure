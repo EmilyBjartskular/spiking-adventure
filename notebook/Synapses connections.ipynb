{
 "cells": [
  {
   "cell_type": "markdown",
   "metadata": {},
   "source": [
    "![NN](neuron.gif)"
   ]
  },
  {
   "cell_type": "code",
   "execution_count": 1,
   "metadata": {},
   "outputs": [
    {
     "name": "stdout",
     "output_type": "stream",
     "text": [
      "Collecting git+https://github.com/jsh9/python-plot-utilities\n",
      "  Cloning https://github.com/jsh9/python-plot-utilities to /private/var/folders/cq/bpjpwc39295d20gmrlvdwv780000gn/T/pip-req-build-lss1zddj\n",
      "Requirement already satisfied: numpy>=1.11.0 in /Users/erikarvidsson/opt/anaconda3/envs/nnlm/lib/python3.8/site-packages (from plot-utils==0.6.6) (1.19.2)\n",
      "Requirement already satisfied: scipy>=0.19.0 in /Users/erikarvidsson/opt/anaconda3/envs/nnlm/lib/python3.8/site-packages (from plot-utils==0.6.6) (1.5.0)\n",
      "Requirement already satisfied: pandas>=0.17.1 in /Users/erikarvidsson/opt/anaconda3/envs/nnlm/lib/python3.8/site-packages (from plot-utils==0.6.6) (1.1.3)\n",
      "Requirement already satisfied: cycler>=0.10.0 in /Users/erikarvidsson/opt/anaconda3/envs/nnlm/lib/python3.8/site-packages (from plot-utils==0.6.6) (0.10.0)\n",
      "Requirement already satisfied: matplotlib in /Users/erikarvidsson/opt/anaconda3/envs/nnlm/lib/python3.8/site-packages (from plot-utils==0.6.6) (3.3.2)\n",
      "Requirement already satisfied: six in /Users/erikarvidsson/opt/anaconda3/envs/nnlm/lib/python3.8/site-packages (from cycler>=0.10.0->plot-utils==0.6.6) (1.15.0)\n",
      "Requirement already satisfied: python-dateutil>=2.7.3 in /Users/erikarvidsson/opt/anaconda3/envs/nnlm/lib/python3.8/site-packages (from pandas>=0.17.1->plot-utils==0.6.6) (2.8.1)\n",
      "Requirement already satisfied: pytz>=2017.2 in /Users/erikarvidsson/opt/anaconda3/envs/nnlm/lib/python3.8/site-packages (from pandas>=0.17.1->plot-utils==0.6.6) (2020.1)\n",
      "Requirement already satisfied: pyparsing!=2.0.4,!=2.1.2,!=2.1.6,>=2.0.3 in /Users/erikarvidsson/opt/anaconda3/envs/nnlm/lib/python3.8/site-packages (from matplotlib->plot-utils==0.6.6) (2.4.7)\n",
      "Requirement already satisfied: kiwisolver>=1.0.1 in /Users/erikarvidsson/opt/anaconda3/envs/nnlm/lib/python3.8/site-packages (from matplotlib->plot-utils==0.6.6) (1.3.0)\n",
      "Requirement already satisfied: pillow>=6.2.0 in /Users/erikarvidsson/opt/anaconda3/envs/nnlm/lib/python3.8/site-packages (from matplotlib->plot-utils==0.6.6) (8.0.1)\n",
      "Requirement already satisfied: certifi>=2020.06.20 in /Users/erikarvidsson/opt/anaconda3/envs/nnlm/lib/python3.8/site-packages (from matplotlib->plot-utils==0.6.6) (2020.12.5)\n"
     ]
    }
   ],
   "source": [
    "!pip install git+https://github.com/jsh9/python-plot-utilities\n",
    "from brian2 import *\n",
    "import sympy\n",
    "\n",
    "import plot_utils as pu"
   ]
  },
  {
   "cell_type": "code",
   "execution_count": 23,
   "metadata": {},
   "outputs": [],
   "source": [
    " \n",
    "def neuron_define(input_neurons):\n",
    "    input_layer=[*range(0,input_neurons)]\n",
    "    inhib_layer=[*range(input_neurons,2*input_neurons)]\n",
    "    left_layer=[*range(2*input_neurons,3*input_neurons-1)]\n",
    "    right_layer=[*range(3*input_neurons-1,4*input_neurons-2)]\n",
    "    left_neuron=[4*input_neurons-1]\n",
    "    right_neuron=[4*input_neurons]\n",
    "    no_excitatory_neurons= len(input_layer+left_layer+right_layer+left_neuron+right_neuron)\n",
    "    no_inhibitory_neurons= len(inhib_layer)\n",
    "    return input_layer, inhib_layer, left_layer, right_layer, left_neuron, right_neuron, no_excitatory_neurons, no_inhibitory_neurons\n",
    "\n",
    "def synapse_generator(input_neurons):\n",
    "    i = [] #pre synaptic\n",
    "    j = [] #post synaptic\n",
    "    a = neuron_define(input_neurons)\n",
    "    for index in a[0]:\n",
    "        #connect the layer between input layer and the inhib layer, a[1] is inhib layer.\n",
    "        i.append(a[0][index])\n",
    "        j.append(a[1][index])\n",
    "        if index != a[0][0]:\n",
    "            #connect the layer between input layer and the left layer, a[2] is left layer.\n",
    "            i.append(a[0][index])\n",
    "            j.append(a[2][index-1])\n",
    "            #connect the layer between inhib layer and the right layer.\n",
    "            i.append(a[1][index])\n",
    "            j.append(a[3][index-1])\n",
    "        #connect the layer between input layer and the right layer, a[3] is right layer.\n",
    "        if index != a[0][-1]:\n",
    "            i.append(a[0][index])\n",
    "            j.append(a[3][index])\n",
    "            #connect the layer between inhib layer and the left layer.\n",
    "            i.append(a[1][index])\n",
    "            j.append(a[2][index])\n",
    "            #connect the left layer to the left neuron\n",
    "            i.append(a[2][index])\n",
    "            j.append(a[4][0])\n",
    "            #connect the right layer to the right neuron\n",
    "            i.append(a[2][index])\n",
    "            j.append(a[5][0])\n",
    "        \n",
    "    return i,j,a[6],a[7]"
   ]
  },
  {
   "cell_type": "code",
   "execution_count": 27,
   "metadata": {},
   "outputs": [
    {
     "name": "stdout",
     "output_type": "stream",
     "text": [
      "done\n"
     ]
    }
   ],
   "source": [
    "#https://brian2.readthedocs.io/en/stable/examples/frompapers.Stimberg_et_al_2018.example_1_COBA.html\n",
    "\n",
    "\n",
    "seed(11922)  # to get identical figures for repeated runs\n",
    "\n",
    "################################################################################\n",
    "# Model parameters\n",
    "################################################################################\n",
    "### General parameters\n",
    "\n",
    "\n",
    "input_neurons = 500 ### insert no of input neurons here ###\n",
    "i,j,N_e,N_i = synapse_generator(input_neurons) # Calls the function with connections\n",
    "\n",
    "duration = 1.0*second  # Total simulation time\n",
    "sim_dt = 0.1*ms        # Integrator/sampling step\n",
    "\n",
    "\n",
    "### Neuron parameters\n",
    "E_l = -60*mV           # Leak reversal potential\n",
    "g_l = 9.99*nS          # Leak conductance\n",
    "E_e = 0*mV             # Excitatory synaptic reversal potential\n",
    "E_i = -80*mV           # Inhibitory synaptic reversal potential\n",
    "C_m = 198*pF           # Membrane capacitance\n",
    "tau_e = 5*ms           # Excitatory synaptic time constant\n",
    "tau_i = 10*ms          # Inhibitory synaptic time constant\n",
    "tau_r = 5*ms           # Refractory period\n",
    "I_ex = 150*pA          # External current\n",
    "V_th = -50*mV          # Firing threshold\n",
    "V_r = E_l              # Reset potential\n",
    "\n",
    "### Synapse parameters\n",
    "w_e = 0.05*nS          # Excitatory synaptic conductance\n",
    "w_i = 1.0*nS           # Inhibitory synaptic conductance\n",
    "U_0 = 0.6              # Synaptic release probability at rest\n",
    "Omega_d = 2.0/second   # Synaptic depression rate\n",
    "Omega_f = 3.33/second  # Synaptic facilitation rate\n",
    "\n",
    "################################################################################\n",
    "# Model definition\n",
    "################################################################################\n",
    "# Set the integration time (in this case not strictly necessary, since we are\n",
    "# using the default value)\n",
    "defaultclock.dt = sim_dt\n",
    "\n",
    "### Neurons\n",
    "neuron_eqs = '''\n",
    "dv/dt = (g_l*(E_l-v) + g_e*(E_e-v) + g_i*(E_i-v) +\n",
    "         I_ex)/C_m    : volt (unless refractory)\n",
    "dg_e/dt = -g_e/tau_e  : siemens  # post-synaptic exc. conductance\n",
    "dg_i/dt = -g_i/tau_i  : siemens  # post-synaptic inh. conductance\n",
    "'''\n",
    "neurons = NeuronGroup(4*input_neurons, model=neuron_eqs,\n",
    "                      threshold='v>V_th', reset='v=V_r',\n",
    "                      refractory='tau_r', method='euler')\n",
    "# Random initial membrane potential values and conductances\n",
    "neurons.v = 'E_l + rand()*(V_th-E_l)'\n",
    "neurons.g_e = 'rand()*w_e'\n",
    "neurons.g_i = 'rand()*w_i'\n",
    "input_layer = neurons[:input_neurons]\n",
    "inh_neurons = neurons[input_neurons:2*input_neurons]\n",
    "left_layer  = neurons[2*input_neurons:3*input_neurons-1]\n",
    "right_layer = neurons[3*input_neurons-1:4*input_neurons-2]\n",
    "left_neuron = neurons[4*input_neurons-2]\n",
    "right_neuron= neurons[4*input_neurons-1]\n",
    "### Synapses\n",
    "synapses_eqs = '''\n",
    "# Usage of releasable neurotransmitter per single action potential:\n",
    "du_S/dt = -Omega_f * u_S     : 1 (event-driven)\n",
    "# Fraction of synaptic neurotransmitter resources available:\n",
    "dx_S/dt = Omega_d *(1 - x_S) : 1 (event-driven)\n",
    "'''\n",
    "synapses_action = '''\n",
    "u_S += U_0 * (1 - u_S)\n",
    "r_S = u_S * x_S\n",
    "x_S -= r_S\n",
    "'''\n",
    "exc_syn = Synapses(input_layer, inh_neurons, model=synapses_eqs,\n",
    "                   on_pre=synapses_action+'g_e_post += w_e*r_S')\n",
    "exc_syn_left = Synapses(input_layer, left_layer, model=synapses_eqs,\n",
    "                   on_pre=synapses_action+'g_e_post += w_e*r_S')\n",
    "exc_syn_right = Synapses(input_layer, right_layer, model=synapses_eqs,\n",
    "                   on_pre=synapses_action+'g_e_post += w_e*r_S')\n",
    "inh_syn_right = Synapses(inh_neurons, right_layer, model=synapses_eqs,\n",
    "                   on_pre=synapses_action+'g_i_post += w_i*r_S')\n",
    "inh_syn_left = Synapses(inh_neurons, left_layer, model=synapses_eqs,\n",
    "                   on_pre=synapses_action+'g_i_post += w_i*r_S')\n",
    "final_left = Synapses(left_layer, left_neuron, model=synapses_eqs,\n",
    "                   on_pre=synapses_action+'g_e_post += w_e*r_S')\n",
    "final_right = Synapses(right_layer, right_neuron, model=synapses_eqs,\n",
    "                   on_pre=synapses_action+'g_e_post += w_e*r_S')\n",
    "\n",
    "\n",
    "exc_syn.connect(i=[*range(0,input_neurons)],j=[*range(0,input_neurons)])\n",
    "exc_syn_left.connect(i=[*range(1,input_neurons)],j=[*range(0,input_neurons-1)])\n",
    "exc_syn_right.connect(i=[*range(0,input_neurons-1)],j=[*range(0,input_neurons-1)])\n",
    "inh_syn_right.connect(i=[*range(1,input_neurons)],j=[*range(0,input_neurons-1)])\n",
    "inh_syn_left.connect(i=[*range(0,input_neurons-1)],j=[*range(0,input_neurons-1)])\n",
    "final_left.connect(i=[*range(0,input_neurons-1)],j=0) #may need to change 0 to a 1 on J\n",
    "final_right.connect(i=[*range(0,input_neurons-1)],j=0)\n",
    "\n",
    "# Start from \"resting\" condition: all synapses have fully-replenished\n",
    "# neurotransmitter resources\n",
    "exc_syn.x_S = 1\n",
    "exc_syn_left.x_S = 1\n",
    "exc_syn_right.x_S = 1\n",
    "inh_syn_right.x_S = 1\n",
    "inh_syn_left.x_S = 1\n",
    "final_left.x_S = 1\n",
    "final_right.x_S = 1\n",
    "\n",
    "\n",
    "# ##############################################################################\n",
    "# # Monitors\n",
    "# ##############################################################################\n",
    "# Note that we could use a single monitor for all neurons instead, but in this\n",
    "# way plotting is a bit easier in the end\n",
    "exc_mon = SpikeMonitor(input_layer)\n",
    "inh_mon = SpikeMonitor(inh_neurons)\n",
    "\n",
    "### We record some additional data from a single excitatory neuron\n",
    "ni = 50\n",
    "# Record conductances and membrane potential of neuron ni\n",
    "state_mon = StateMonitor(input_layer, ['v', 'g_e', 'g_i'], record=ni)\n",
    "# We make sure to monitor synaptic variables after synapse are updated in order\n",
    "# to use simple recurrence relations to reconstruct them. Record all synapses\n",
    "# originating from neuron ni\n",
    "synapse_mon = StateMonitor(exc_syn, ['u_S', 'x_S'],\n",
    "                           record=exc_syn[ni, :], when='after_synapses')\n",
    "print('done')"
   ]
  },
  {
   "cell_type": "code",
   "execution_count": 4,
   "metadata": {},
   "outputs": [
    {
     "name": "stdout",
     "output_type": "stream",
     "text": [
      "15 5\n"
     ]
    }
   ],
   "source": [
    "input_neurons=5\n",
    "i,j,N_e,N_i = synapse_generator(input_neurons)\n",
    "print(N_e,N_i)\n",
    "#S.connect(i,j)"
   ]
  },
  {
   "cell_type": "code",
   "execution_count": 17,
   "metadata": {},
   "outputs": [
    {
     "name": "stdout",
     "output_type": "stream",
     "text": [
      "[0, 0, 1, 2, 3, 4]\n"
     ]
    }
   ],
   "source": [
    "a = 5\n",
    "a \n",
    "print([0,*range(0,5)])"
   ]
  },
  {
   "cell_type": "code",
   "execution_count": 16,
   "metadata": {},
   "outputs": [
    {
     "name": "stdout",
     "output_type": "stream",
     "text": [
      "<Subgroup 'neurongroup_2_subgroup' of 'neurongroup_2' from 0 to 500> exc\n",
      "<Subgroup 'neurongroup_2_subgroup_1' of 'neurongroup_2' from 500 to 1000> inh\n",
      "<Subgroup 'neurongroup_2_subgroup_2' of 'neurongroup_2' from 1000 to 1499>\n",
      "<Subgroup 'neurongroup_2_subgroup_3' of 'neurongroup_2' from 1499 to 1998>\n",
      "<Subgroup 'neurongroup_2_subgroup_4' of 'neurongroup_2' from 1998 to 1999>\n",
      "<Subgroup 'neurongroup_2_subgroup_5' of 'neurongroup_2' from 1999 to 2000>\n"
     ]
    }
   ],
   "source": [
    "print(input_layer, 'exc')\n",
    "print(inh_neurons, 'inh')\n",
    "print(left_layer)\n",
    "print(right_layer)\n",
    "print(left_neuron)\n",
    "print(right_neuron)"
   ]
  },
  {
   "cell_type": "code",
   "execution_count": null,
   "metadata": {},
   "outputs": [],
   "source": []
  }
 ],
 "metadata": {
  "kernelspec": {
   "display_name": "Python 3",
   "language": "python",
   "name": "python3"
  },
  "language_info": {
   "codemirror_mode": {
    "name": "ipython",
    "version": 3
   },
   "file_extension": ".py",
   "mimetype": "text/x-python",
   "name": "python",
   "nbconvert_exporter": "python",
   "pygments_lexer": "ipython3",
   "version": "3.8.5"
  }
 },
 "nbformat": 4,
 "nbformat_minor": 4
}
