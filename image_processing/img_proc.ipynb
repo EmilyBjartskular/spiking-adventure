{
 "cells": [
  {
   "source": [
    "# Functions and imports"
   ],
   "cell_type": "markdown",
   "metadata": {}
  },
  {
   "cell_type": "code",
   "execution_count": 34,
   "metadata": {},
   "outputs": [
    {
     "output_type": "stream",
     "name": "stdout",
     "text": [
      "Imports done\nOK\n"
     ]
    }
   ],
   "source": [
    "# Imports\n",
    "from PIL import Image\n",
    "import os, os.path\n",
    "import numpy as np\n",
    "import skimage\n",
    "\n",
    "import matplotlib.pyplot as plt\n",
    "\n",
    "#scikit-image ???\n",
    "from skimage.measure import compare_ssim\n",
    "from skimage.color import rgb2gray\n",
    "from skimage.io import imread\n",
    "\n",
    "print(\"Imports done\")\n",
    "\n",
    "#################################################\n",
    "\n",
    "'''\n",
    "diff_to_pos(gray1,gray2,th): movement\n",
    "gray1, gray2: images compared (SSIM algo)\n",
    "th: is the theshold of maximal likelihood (result of SSIM algo) between 0 and 1\n",
    "\n",
    "return: probable movement position (mean) and variance of this estimation\n",
    "'''\n",
    "\n",
    "def diff_to_pos(gray1,gray2,th,fct=\"mean\"):\n",
    "\n",
    "    # compute ssim (struc sim)\n",
    "    (score, sim) = compare_ssim(gray1, gray2, full=True)\n",
    "    sim[sim>th] = 1 #discard little changes, if sim = 1 not diff between grp of pixels, if sim = 0 totally diff\n",
    "\n",
    "    # reduce to 1D (column)\n",
    "    col_mean = np.array(1 - sim).sum(0) # 1 - values to inverse and compute according to max of diff\n",
    "\n",
    "    if col_mean.sum() == 0:\n",
    "        return {\"m\": None,\"v\": None}\n",
    "\n",
    "    else:\n",
    "        if fct == \"mean\":\n",
    "            col_mean /= max(col_mean)\n",
    "            values = np.array([col_mean[i]*i for i in range(len(col_mean))])\n",
    "            mean = values.sum() / col_mean.sum()\n",
    "\n",
    "            values = np.array([abs(i-mean)*col_mean[i] for i in range(len(col_mean))])\n",
    "            var = values.sum() / col_mean.sum()\n",
    "\n",
    "        return {\"m\": round(mean,0),\"v\": var}\n",
    "\n",
    "#################################################\n",
    "\n",
    "'''\n",
    "pos_to_move(pos1,pos2,th,width): movement\n",
    "th: minimal movement (% of width) as positions and width are in pixel\n",
    "return: -1 goes to the left, 1 to the right, 0 not enough changes (based on 2 consecutive movement positions: pos1 and pos2)\n",
    "'''\n",
    "\n",
    "def pos_to_move(pos1,pos2,th,width):\n",
    "    ret = 0\n",
    "    if (abs(pos1-pos2)/width > th):\n",
    "        if (pos1 < pos2):\n",
    "            ret = 1\n",
    "        else:\n",
    "            ret = -1\n",
    "    return ret\n",
    "\n",
    "#################################################\n",
    "\n",
    "'''\n",
    "vid_to_movement(frames,move_th,sim_th): movements\n",
    "frames: is a list of grayscaled frame (at least 3 images)\n",
    "move_th: is a coefficient for the threshold dection of a minimal movement (if no movement, keep first position in memory)\n",
    "sim_th: is a threshold for a maximal likelihood between pictures\n",
    "\n",
    "return: {\"moves\": list_of_movements, \"positions\": {\"m\": mean, \"v\" variance}}\n",
    "\n",
    "WARNING: at least 3 frames should be necessary to compute 2 frame diff and get one \"movement\"\n",
    "    Thus for N pictures, it return N-2 \"movement\"\n",
    "'''\n",
    "\n",
    "def video_processing(frames,move_th,sim_th):\n",
    "\n",
    "    if len(frames) > 3:\n",
    "        frame_arr = np.array(frames)\n",
    "        img_width = len(frames[0][0])\n",
    "        \n",
    "        pos_list = []\n",
    "        for i in range(len(frames)-1):\n",
    "            pos_list.append(diff_to_pos(frame_arr[i],frame_arr[i+1],sim_th))\n",
    "        \n",
    "        mv_list = []\n",
    "        prev_pos = pos_list[0]['m']\n",
    "\n",
    "        #get first pos\n",
    "        static_i = 1\n",
    "        while prev_pos == None and static_i < len(pos_list) - 1:\n",
    "            prev_pos = pos_list[static_i]['m']\n",
    "            mv_list.append(0)\n",
    "            static_i += 1\n",
    "\n",
    "        #compute \"movement\"\n",
    "        for j in range(static_i, len(pos_list)):\n",
    "            move = 0\n",
    "\n",
    "            if (pos_list[j]['m'] != None):\n",
    "                move = pos_to_move(prev_pos,pos_list[j]['m'],move_th,img_width)\n",
    "                \n",
    "                if (move != 0):\n",
    "                    prev_pos = pos_list[j]['m'] #keep in memory new pos if enough \"movement\" between lastest images\n",
    "            \n",
    "            mv_list.append(move)\n",
    "        \n",
    "        return {\"moves\": mv_list, \"positions\": pos_list}\n",
    "\n",
    "    else:\n",
    "        return None\n",
    "        \n",
    "#################################################\n",
    "\n",
    "print(\"OK\")"
   ]
  },
  {
   "source": [
    "# Recorded frames/video\n",
    "\n",
    "### Extract a list of frame from video file or several pictures"
   ],
   "cell_type": "markdown",
   "metadata": {}
  },
  {
   "cell_type": "code",
   "execution_count": 33,
   "metadata": {},
   "outputs": [
    {
     "output_type": "display_data",
     "data": {
      "text/plain": "<Figure size 432x288 with 1 Axes>",
      "image/svg+xml": "<?xml version=\"1.0\" encoding=\"utf-8\" standalone=\"no\"?>\r\n<!DOCTYPE svg PUBLIC \"-//W3C//DTD SVG 1.1//EN\"\r\n  \"http://www.w3.org/Graphics/SVG/1.1/DTD/svg11.dtd\">\r\n<!-- Created with matplotlib (https://matplotlib.org/) -->\r\n<svg height=\"252.090844pt\" version=\"1.1\" viewBox=\"0 0 330.4075 252.090844\" width=\"330.4075pt\" xmlns=\"http://www.w3.org/2000/svg\" xmlns:xlink=\"http://www.w3.org/1999/xlink\">\r\n <metadata>\r\n  <rdf:RDF xmlns:cc=\"http://creativecommons.org/ns#\" xmlns:dc=\"http://purl.org/dc/elements/1.1/\" xmlns:rdf=\"http://www.w3.org/1999/02/22-rdf-syntax-ns#\">\r\n   <cc:Work>\r\n    <dc:type rdf:resource=\"http://purl.org/dc/dcmitype/StillImage\"/>\r\n    <dc:date>2021-01-06T20:32:15.104969</dc:date>\r\n    <dc:format>image/svg+xml</dc:format>\r\n    <dc:creator>\r\n     <cc:Agent>\r\n      <dc:title>Matplotlib v3.3.2, https://matplotlib.org/</dc:title>\r\n     </cc:Agent>\r\n    </dc:creator>\r\n   </cc:Work>\r\n  </rdf:RDF>\r\n </metadata>\r\n <defs>\r\n  <style type=\"text/css\">*{stroke-linecap:butt;stroke-linejoin:round;}</style>\r\n </defs>\r\n <g id=\"figure_1\">\r\n  <g id=\"patch_1\">\r\n   <path d=\"M 0 252.090844 \r\nL 330.4075 252.090844 \r\nL 330.4075 0 \r\nL 0 0 \r\nz\r\n\" style=\"fill:none;\"/>\r\n  </g>\r\n  <g id=\"axes_1\">\r\n   <g id=\"patch_2\">\r\n    <path d=\"M 33.2875 228.212719 \r\nL 323.2075 228.212719 \r\nL 323.2075 10.772719 \r\nL 33.2875 10.772719 \r\nz\r\n\" style=\"fill:#ffffff;\"/>\r\n   </g>\r\n   <g clip-path=\"url(#p4024140cd2)\">\r\n    <image height=\"218\" id=\"imaged933c42af6\" transform=\"scale(1 -1)translate(0 -218)\" width=\"290\" x=\"33.2875\" xlink:href=\"data:image/png;base64,\r\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\" y=\"-10.212719\"/>\r\n   </g>\r\n   <g id=\"matplotlib.axis_1\">\r\n    <g id=\"xtick_1\">\r\n     <g id=\"line2d_1\">\r\n      <defs>\r\n       <path d=\"M 0 0 \r\nL 0 3.5 \r\n\" id=\"m2412ff81c5\" style=\"stroke:#000000;stroke-width:0.8;\"/>\r\n      </defs>\r\n      <g>\r\n       <use style=\"stroke:#000000;stroke-width:0.8;\" x=\"33.514\" xlink:href=\"#m2412ff81c5\" y=\"228.212719\"/>\r\n      </g>\r\n     </g>\r\n     <g id=\"text_1\">\r\n      <!-- 0 -->\r\n      <g transform=\"translate(30.33275 242.811156)scale(0.1 -0.1)\">\r\n       <defs>\r\n        <path d=\"M 31.78125 66.40625 \r\nQ 24.171875 66.40625 20.328125 58.90625 \r\nQ 16.5 51.421875 16.5 36.375 \r\nQ 16.5 21.390625 20.328125 13.890625 \r\nQ 24.171875 6.390625 31.78125 6.390625 \r\nQ 39.453125 6.390625 43.28125 13.890625 \r\nQ 47.125 21.390625 47.125 36.375 \r\nQ 47.125 51.421875 43.28125 58.90625 \r\nQ 39.453125 66.40625 31.78125 66.40625 \r\nz\r\nM 31.78125 74.21875 \r\nQ 44.046875 74.21875 50.515625 64.515625 \r\nQ 56.984375 54.828125 56.984375 36.375 \r\nQ 56.984375 17.96875 50.515625 8.265625 \r\nQ 44.046875 -1.421875 31.78125 -1.421875 \r\nQ 19.53125 -1.421875 13.0625 8.265625 \r\nQ 6.59375 17.96875 6.59375 36.375 \r\nQ 6.59375 54.828125 13.0625 64.515625 \r\nQ 19.53125 74.21875 31.78125 74.21875 \r\nz\r\n\" id=\"DejaVuSans-48\"/>\r\n       </defs>\r\n       <use xlink:href=\"#DejaVuSans-48\"/>\r\n      </g>\r\n     </g>\r\n    </g>\r\n    <g id=\"xtick_2\">\r\n     <g id=\"line2d_2\">\r\n      <g>\r\n       <use style=\"stroke:#000000;stroke-width:0.8;\" x=\"78.814\" xlink:href=\"#m2412ff81c5\" y=\"228.212719\"/>\r\n      </g>\r\n     </g>\r\n     <g id=\"text_2\">\r\n      <!-- 100 -->\r\n      <g transform=\"translate(69.27025 242.811156)scale(0.1 -0.1)\">\r\n       <defs>\r\n        <path d=\"M 12.40625 8.296875 \r\nL 28.515625 8.296875 \r\nL 28.515625 63.921875 \r\nL 10.984375 60.40625 \r\nL 10.984375 69.390625 \r\nL 28.421875 72.90625 \r\nL 38.28125 72.90625 \r\nL 38.28125 8.296875 \r\nL 54.390625 8.296875 \r\nL 54.390625 0 \r\nL 12.40625 0 \r\nz\r\n\" id=\"DejaVuSans-49\"/>\r\n       </defs>\r\n       <use xlink:href=\"#DejaVuSans-49\"/>\r\n       <use x=\"63.623047\" xlink:href=\"#DejaVuSans-48\"/>\r\n       <use x=\"127.246094\" xlink:href=\"#DejaVuSans-48\"/>\r\n      </g>\r\n     </g>\r\n    </g>\r\n    <g id=\"xtick_3\">\r\n     <g id=\"line2d_3\">\r\n      <g>\r\n       <use style=\"stroke:#000000;stroke-width:0.8;\" x=\"124.114\" xlink:href=\"#m2412ff81c5\" y=\"228.212719\"/>\r\n      </g>\r\n     </g>\r\n     <g id=\"text_3\">\r\n      <!-- 200 -->\r\n      <g transform=\"translate(114.57025 242.811156)scale(0.1 -0.1)\">\r\n       <defs>\r\n        <path d=\"M 19.1875 8.296875 \r\nL 53.609375 8.296875 \r\nL 53.609375 0 \r\nL 7.328125 0 \r\nL 7.328125 8.296875 \r\nQ 12.9375 14.109375 22.625 23.890625 \r\nQ 32.328125 33.6875 34.8125 36.53125 \r\nQ 39.546875 41.84375 41.421875 45.53125 \r\nQ 43.3125 49.21875 43.3125 52.78125 \r\nQ 43.3125 58.59375 39.234375 62.25 \r\nQ 35.15625 65.921875 28.609375 65.921875 \r\nQ 23.96875 65.921875 18.8125 64.3125 \r\nQ 13.671875 62.703125 7.8125 59.421875 \r\nL 7.8125 69.390625 \r\nQ 13.765625 71.78125 18.9375 73 \r\nQ 24.125 74.21875 28.421875 74.21875 \r\nQ 39.75 74.21875 46.484375 68.546875 \r\nQ 53.21875 62.890625 53.21875 53.421875 \r\nQ 53.21875 48.921875 51.53125 44.890625 \r\nQ 49.859375 40.875 45.40625 35.40625 \r\nQ 44.1875 33.984375 37.640625 27.21875 \r\nQ 31.109375 20.453125 19.1875 8.296875 \r\nz\r\n\" id=\"DejaVuSans-50\"/>\r\n       </defs>\r\n       <use xlink:href=\"#DejaVuSans-50\"/>\r\n       <use x=\"63.623047\" xlink:href=\"#DejaVuSans-48\"/>\r\n       <use x=\"127.246094\" xlink:href=\"#DejaVuSans-48\"/>\r\n      </g>\r\n     </g>\r\n    </g>\r\n    <g id=\"xtick_4\">\r\n     <g id=\"line2d_4\">\r\n      <g>\r\n       <use style=\"stroke:#000000;stroke-width:0.8;\" x=\"169.414\" xlink:href=\"#m2412ff81c5\" y=\"228.212719\"/>\r\n      </g>\r\n     </g>\r\n     <g id=\"text_4\">\r\n      <!-- 300 -->\r\n      <g transform=\"translate(159.87025 242.811156)scale(0.1 -0.1)\">\r\n       <defs>\r\n        <path d=\"M 40.578125 39.3125 \r\nQ 47.65625 37.796875 51.625 33 \r\nQ 55.609375 28.21875 55.609375 21.1875 \r\nQ 55.609375 10.40625 48.1875 4.484375 \r\nQ 40.765625 -1.421875 27.09375 -1.421875 \r\nQ 22.515625 -1.421875 17.65625 -0.515625 \r\nQ 12.796875 0.390625 7.625 2.203125 \r\nL 7.625 11.71875 \r\nQ 11.71875 9.328125 16.59375 8.109375 \r\nQ 21.484375 6.890625 26.8125 6.890625 \r\nQ 36.078125 6.890625 40.9375 10.546875 \r\nQ 45.796875 14.203125 45.796875 21.1875 \r\nQ 45.796875 27.640625 41.28125 31.265625 \r\nQ 36.765625 34.90625 28.71875 34.90625 \r\nL 20.21875 34.90625 \r\nL 20.21875 43.015625 \r\nL 29.109375 43.015625 \r\nQ 36.375 43.015625 40.234375 45.921875 \r\nQ 44.09375 48.828125 44.09375 54.296875 \r\nQ 44.09375 59.90625 40.109375 62.90625 \r\nQ 36.140625 65.921875 28.71875 65.921875 \r\nQ 24.65625 65.921875 20.015625 65.03125 \r\nQ 15.375 64.15625 9.8125 62.3125 \r\nL 9.8125 71.09375 \r\nQ 15.4375 72.65625 20.34375 73.4375 \r\nQ 25.25 74.21875 29.59375 74.21875 \r\nQ 40.828125 74.21875 47.359375 69.109375 \r\nQ 53.90625 64.015625 53.90625 55.328125 \r\nQ 53.90625 49.265625 50.4375 45.09375 \r\nQ 46.96875 40.921875 40.578125 39.3125 \r\nz\r\n\" id=\"DejaVuSans-51\"/>\r\n       </defs>\r\n       <use xlink:href=\"#DejaVuSans-51\"/>\r\n       <use x=\"63.623047\" xlink:href=\"#DejaVuSans-48\"/>\r\n       <use x=\"127.246094\" xlink:href=\"#DejaVuSans-48\"/>\r\n      </g>\r\n     </g>\r\n    </g>\r\n    <g id=\"xtick_5\">\r\n     <g id=\"line2d_5\">\r\n      <g>\r\n       <use style=\"stroke:#000000;stroke-width:0.8;\" x=\"214.714\" xlink:href=\"#m2412ff81c5\" y=\"228.212719\"/>\r\n      </g>\r\n     </g>\r\n     <g id=\"text_5\">\r\n      <!-- 400 -->\r\n      <g transform=\"translate(205.17025 242.811156)scale(0.1 -0.1)\">\r\n       <defs>\r\n        <path d=\"M 37.796875 64.3125 \r\nL 12.890625 25.390625 \r\nL 37.796875 25.390625 \r\nz\r\nM 35.203125 72.90625 \r\nL 47.609375 72.90625 \r\nL 47.609375 25.390625 \r\nL 58.015625 25.390625 \r\nL 58.015625 17.1875 \r\nL 47.609375 17.1875 \r\nL 47.609375 0 \r\nL 37.796875 0 \r\nL 37.796875 17.1875 \r\nL 4.890625 17.1875 \r\nL 4.890625 26.703125 \r\nz\r\n\" id=\"DejaVuSans-52\"/>\r\n       </defs>\r\n       <use xlink:href=\"#DejaVuSans-52\"/>\r\n       <use x=\"63.623047\" xlink:href=\"#DejaVuSans-48\"/>\r\n       <use x=\"127.246094\" xlink:href=\"#DejaVuSans-48\"/>\r\n      </g>\r\n     </g>\r\n    </g>\r\n    <g id=\"xtick_6\">\r\n     <g id=\"line2d_6\">\r\n      <g>\r\n       <use style=\"stroke:#000000;stroke-width:0.8;\" x=\"260.014\" xlink:href=\"#m2412ff81c5\" y=\"228.212719\"/>\r\n      </g>\r\n     </g>\r\n     <g id=\"text_6\">\r\n      <!-- 500 -->\r\n      <g transform=\"translate(250.47025 242.811156)scale(0.1 -0.1)\">\r\n       <defs>\r\n        <path d=\"M 10.796875 72.90625 \r\nL 49.515625 72.90625 \r\nL 49.515625 64.59375 \r\nL 19.828125 64.59375 \r\nL 19.828125 46.734375 \r\nQ 21.96875 47.46875 24.109375 47.828125 \r\nQ 26.265625 48.1875 28.421875 48.1875 \r\nQ 40.625 48.1875 47.75 41.5 \r\nQ 54.890625 34.8125 54.890625 23.390625 \r\nQ 54.890625 11.625 47.5625 5.09375 \r\nQ 40.234375 -1.421875 26.90625 -1.421875 \r\nQ 22.3125 -1.421875 17.546875 -0.640625 \r\nQ 12.796875 0.140625 7.71875 1.703125 \r\nL 7.71875 11.625 \r\nQ 12.109375 9.234375 16.796875 8.0625 \r\nQ 21.484375 6.890625 26.703125 6.890625 \r\nQ 35.15625 6.890625 40.078125 11.328125 \r\nQ 45.015625 15.765625 45.015625 23.390625 \r\nQ 45.015625 31 40.078125 35.4375 \r\nQ 35.15625 39.890625 26.703125 39.890625 \r\nQ 22.75 39.890625 18.8125 39.015625 \r\nQ 14.890625 38.140625 10.796875 36.28125 \r\nz\r\n\" id=\"DejaVuSans-53\"/>\r\n       </defs>\r\n       <use xlink:href=\"#DejaVuSans-53\"/>\r\n       <use x=\"63.623047\" xlink:href=\"#DejaVuSans-48\"/>\r\n       <use x=\"127.246094\" xlink:href=\"#DejaVuSans-48\"/>\r\n      </g>\r\n     </g>\r\n    </g>\r\n    <g id=\"xtick_7\">\r\n     <g id=\"line2d_7\">\r\n      <g>\r\n       <use style=\"stroke:#000000;stroke-width:0.8;\" x=\"305.314\" xlink:href=\"#m2412ff81c5\" y=\"228.212719\"/>\r\n      </g>\r\n     </g>\r\n     <g id=\"text_7\">\r\n      <!-- 600 -->\r\n      <g transform=\"translate(295.77025 242.811156)scale(0.1 -0.1)\">\r\n       <defs>\r\n        <path d=\"M 33.015625 40.375 \r\nQ 26.375 40.375 22.484375 35.828125 \r\nQ 18.609375 31.296875 18.609375 23.390625 \r\nQ 18.609375 15.53125 22.484375 10.953125 \r\nQ 26.375 6.390625 33.015625 6.390625 \r\nQ 39.65625 6.390625 43.53125 10.953125 \r\nQ 47.40625 15.53125 47.40625 23.390625 \r\nQ 47.40625 31.296875 43.53125 35.828125 \r\nQ 39.65625 40.375 33.015625 40.375 \r\nz\r\nM 52.59375 71.296875 \r\nL 52.59375 62.3125 \r\nQ 48.875 64.0625 45.09375 64.984375 \r\nQ 41.3125 65.921875 37.59375 65.921875 \r\nQ 27.828125 65.921875 22.671875 59.328125 \r\nQ 17.53125 52.734375 16.796875 39.40625 \r\nQ 19.671875 43.65625 24.015625 45.921875 \r\nQ 28.375 48.1875 33.59375 48.1875 \r\nQ 44.578125 48.1875 50.953125 41.515625 \r\nQ 57.328125 34.859375 57.328125 23.390625 \r\nQ 57.328125 12.15625 50.6875 5.359375 \r\nQ 44.046875 -1.421875 33.015625 -1.421875 \r\nQ 20.359375 -1.421875 13.671875 8.265625 \r\nQ 6.984375 17.96875 6.984375 36.375 \r\nQ 6.984375 53.65625 15.1875 63.9375 \r\nQ 23.390625 74.21875 37.203125 74.21875 \r\nQ 40.921875 74.21875 44.703125 73.484375 \r\nQ 48.484375 72.75 52.59375 71.296875 \r\nz\r\n\" id=\"DejaVuSans-54\"/>\r\n       </defs>\r\n       <use xlink:href=\"#DejaVuSans-54\"/>\r\n       <use x=\"63.623047\" xlink:href=\"#DejaVuSans-48\"/>\r\n       <use x=\"127.246094\" xlink:href=\"#DejaVuSans-48\"/>\r\n      </g>\r\n     </g>\r\n    </g>\r\n   </g>\r\n   <g id=\"matplotlib.axis_2\">\r\n    <g id=\"ytick_1\">\r\n     <g id=\"line2d_8\">\r\n      <defs>\r\n       <path d=\"M 0 0 \r\nL -3.5 0 \r\n\" id=\"m4f6f684e4e\" style=\"stroke:#000000;stroke-width:0.8;\"/>\r\n      </defs>\r\n      <g>\r\n       <use style=\"stroke:#000000;stroke-width:0.8;\" x=\"33.2875\" xlink:href=\"#m4f6f684e4e\" y=\"10.999219\"/>\r\n      </g>\r\n     </g>\r\n     <g id=\"text_8\">\r\n      <!-- 0 -->\r\n      <g transform=\"translate(19.925 14.798437)scale(0.1 -0.1)\">\r\n       <use xlink:href=\"#DejaVuSans-48\"/>\r\n      </g>\r\n     </g>\r\n    </g>\r\n    <g id=\"ytick_2\">\r\n     <g id=\"line2d_9\">\r\n      <g>\r\n       <use style=\"stroke:#000000;stroke-width:0.8;\" x=\"33.2875\" xlink:href=\"#m4f6f684e4e\" y=\"56.299219\"/>\r\n      </g>\r\n     </g>\r\n     <g id=\"text_9\">\r\n      <!-- 100 -->\r\n      <g transform=\"translate(7.2 60.098437)scale(0.1 -0.1)\">\r\n       <use xlink:href=\"#DejaVuSans-49\"/>\r\n       <use x=\"63.623047\" xlink:href=\"#DejaVuSans-48\"/>\r\n       <use x=\"127.246094\" xlink:href=\"#DejaVuSans-48\"/>\r\n      </g>\r\n     </g>\r\n    </g>\r\n    <g id=\"ytick_3\">\r\n     <g id=\"line2d_10\">\r\n      <g>\r\n       <use style=\"stroke:#000000;stroke-width:0.8;\" x=\"33.2875\" xlink:href=\"#m4f6f684e4e\" y=\"101.599219\"/>\r\n      </g>\r\n     </g>\r\n     <g id=\"text_10\">\r\n      <!-- 200 -->\r\n      <g transform=\"translate(7.2 105.398437)scale(0.1 -0.1)\">\r\n       <use xlink:href=\"#DejaVuSans-50\"/>\r\n       <use x=\"63.623047\" xlink:href=\"#DejaVuSans-48\"/>\r\n       <use x=\"127.246094\" xlink:href=\"#DejaVuSans-48\"/>\r\n      </g>\r\n     </g>\r\n    </g>\r\n    <g id=\"ytick_4\">\r\n     <g id=\"line2d_11\">\r\n      <g>\r\n       <use style=\"stroke:#000000;stroke-width:0.8;\" x=\"33.2875\" xlink:href=\"#m4f6f684e4e\" y=\"146.899219\"/>\r\n      </g>\r\n     </g>\r\n     <g id=\"text_11\">\r\n      <!-- 300 -->\r\n      <g transform=\"translate(7.2 150.698437)scale(0.1 -0.1)\">\r\n       <use xlink:href=\"#DejaVuSans-51\"/>\r\n       <use x=\"63.623047\" xlink:href=\"#DejaVuSans-48\"/>\r\n       <use x=\"127.246094\" xlink:href=\"#DejaVuSans-48\"/>\r\n      </g>\r\n     </g>\r\n    </g>\r\n    <g id=\"ytick_5\">\r\n     <g id=\"line2d_12\">\r\n      <g>\r\n       <use style=\"stroke:#000000;stroke-width:0.8;\" x=\"33.2875\" xlink:href=\"#m4f6f684e4e\" y=\"192.199219\"/>\r\n      </g>\r\n     </g>\r\n     <g id=\"text_12\">\r\n      <!-- 400 -->\r\n      <g transform=\"translate(7.2 195.998437)scale(0.1 -0.1)\">\r\n       <use xlink:href=\"#DejaVuSans-52\"/>\r\n       <use x=\"63.623047\" xlink:href=\"#DejaVuSans-48\"/>\r\n       <use x=\"127.246094\" xlink:href=\"#DejaVuSans-48\"/>\r\n      </g>\r\n     </g>\r\n    </g>\r\n   </g>\r\n   <g id=\"patch_3\">\r\n    <path d=\"M 33.2875 228.212719 \r\nL 33.2875 10.772719 \r\n\" style=\"fill:none;stroke:#000000;stroke-linecap:square;stroke-linejoin:miter;stroke-width:0.8;\"/>\r\n   </g>\r\n   <g id=\"patch_4\">\r\n    <path d=\"M 323.2075 228.212719 \r\nL 323.2075 10.772719 \r\n\" style=\"fill:none;stroke:#000000;stroke-linecap:square;stroke-linejoin:miter;stroke-width:0.8;\"/>\r\n   </g>\r\n   <g id=\"patch_5\">\r\n    <path d=\"M 33.2875 228.212719 \r\nL 323.2075 228.212719 \r\n\" style=\"fill:none;stroke:#000000;stroke-linecap:square;stroke-linejoin:miter;stroke-width:0.8;\"/>\r\n   </g>\r\n   <g id=\"patch_6\">\r\n    <path d=\"M 33.2875 10.772719 \r\nL 323.2075 10.772719 \r\n\" style=\"fill:none;stroke:#000000;stroke-linecap:square;stroke-linejoin:miter;stroke-width:0.8;\"/>\r\n   </g>\r\n  </g>\r\n </g>\r\n <defs>\r\n  <clipPath id=\"p4024140cd2\">\r\n   <rect height=\"217.44\" width=\"289.92\" x=\"33.2875\" y=\"10.772719\"/>\r\n  </clipPath>\r\n </defs>\r\n</svg>\r\n",
      "image/png": "[encoded data removed]"
     },
     "metadata": {
      "needs_background": "light"
     }
    },
    {
     "output_type": "stream",
     "name": "stdout",
     "text": [
      "275 frames\n 640.0 x 480.0 \nFPS: 24.0\nSettings saved\n"
     ]
    }
   ],
   "source": [
    "# Settings\n",
    "\n",
    "video_format = True     #video should be mp4 format\n",
    "# video_format = False    #pictures must be grayscaled\n",
    "\n",
    "frames = []\n",
    "\n",
    "if video_format: #case we use video file\n",
    "\n",
    "    import cv2\n",
    "\n",
    "    path = \"C:/Users/Benjamin/Documents/LTU/Neural Net. and Learn. Machines/101 - Retina Project/records/\"\n",
    "    video_name = \"test.mp4\"\n",
    "    full_path = path + video_name\n",
    "\n",
    "\n",
    "    vidcap = cv2.VideoCapture(path + video_name) # open video\n",
    "\n",
    "    # convert to list of frames\n",
    "    success,image = vidcap.read()\n",
    "    nbr_frame = 0\n",
    "    while success:\n",
    "        frames.append(cv2.cvtColor(image, cv2.COLOR_BGR2GRAY))\n",
    "        success,image = vidcap.read()\n",
    "        nbr_frame += 1\n",
    "\n",
    "    if nbr_frame == 0:\n",
    "        print(\"Cannot read video\")\n",
    "    else:\n",
    "        framerate = vidcap.get(cv2.CAP_PROP_FPS)\n",
    "        f_width = vidcap.get(cv2.CAP_PROP_FRAME_WIDTH)\n",
    "        f_high = vidcap.get(cv2.CAP_PROP_FRAME_HEIGHT)\n",
    "\n",
    "        plt.imshow(frames[0], cmap='gray', vmin=0, vmax=255)\n",
    "        plt.show()\n",
    "\n",
    "        print(nbr_frame,\"frames\\n\",f_width,\"x\",f_high,\"\\nFPS:\",framerate)\n",
    "\n",
    "else: #case we use multiple picture files\n",
    "    path = \"C:/Users/Benjamin/Documents/LTU/Neural Net. and Learn. Machines/101 - Retina Project/peipa/\" #already PGM format for first video\n",
    "    img_name = \"hand-\"\n",
    "    img_format = \".pgm\"\n",
    "    full_path = path + img_name\n",
    "\n",
    "    framerate = 24 #manual set(FPS)\n",
    "\n",
    "    nbr_frame = len([name for name in os.listdir(path)]) #in case it's not a video file\n",
    "\n",
    "    # Simulate video\n",
    "    for i in range(nbr_frame-1):\n",
    "        # WARNING should be greyscaled pictures\n",
    "        #to grayscale : (may be diff between gray cv2 format and gray scikit format)\n",
    "            #img_gray = cv2.cvtColor(img, cv2.COLOR_BGR2GRAY)       #opencv\n",
    "            #img_gray = rgb2gray(img)                               #scikit\n",
    "\n",
    "        frames.append(imread(path + img_name + str(i+1) + img_format))\n",
    "\n",
    "    f_width = len(frames[0][0])\n",
    "    f_high = len(frames[0])\n",
    "\n",
    "    plt.imshow(frames[0], cmap='gray', vmin=0, vmax=255)\n",
    "    plt.show()\n",
    "\n",
    "    print(nbr_frame,\"frames\\n\",f_width,\"x\",f_high,\"\\nFPS:\",framerate)\n",
    "\n",
    "print(\"Settings saved\")\n"
   ]
  },
  {
   "source": [
    "### Processing part"
   ],
   "cell_type": "markdown",
   "metadata": {}
  },
  {
   "source": [
    "# processing on pictures included in the list \"frames\"\n",
    "\n",
    "move_th = 0.001     # % of total width of the image (below this no mvt is detected)\n",
    "sim_th = 0.4        #above this threshold, no changes are detected\n",
    "\n",
    "results = video_processing(frames,move_th,sim_th)\n",
    "list_pos = [r[\"m\"] for r in results[\"positions\"]]\n",
    "\n",
    "time = []\n",
    "dt = 1/framerate\n",
    "for f in range(len(list_pos)):\n",
    "    time.append(round(f*dt,3))\n",
    "\n",
    "print(list_pos,\"\\n\",time)"
   ],
   "cell_type": "code",
   "metadata": {},
   "execution_count": 35,
   "outputs": [
    {
     "output_type": "stream",
     "name": "stdout",
     "text": [
      "[None, None, None, None, None, None, None, None, None, None, None, None, None, None, None, None, None, None, None, None, None, None, None, None, None, None, None, None, None, None, None, None, None, None, None, None, None, None, None, None, None, None, None, None, None, None, None, None, None, None, None, None, None, None, None, None, None, None, None, None, None, None, None, None, None, None, None, None, None, None, 9.0, 13.0, 18.0, 24.0, 35.0, 51.0, 67.0, 83.0, 102.0, 121.0, 145.0, 166.0, 187.0, 208.0, 231.0, 255.0, 276.0, 297.0, 319.0, 340.0, 361.0, 384.0, 405.0, 425.0, 446.0, 468.0, 491.0, 510.0, 524.0, 541.0, 553.0, 559.0, 567.0, 576.0, 583.0, 592.0, 587.0, 575.0, 570.0, 550.0, 529.0, 542.0, 558.0, 574.0, 585.0, 598.0, 612.0, 625.0, 634.0, 622.0, 631.0, None, None, None, None, None, None, None, None, None, None, None, None, None, None, None, None, None, None, None, None, None, None, None, 635.0, 626.0, 607.0, 590.0, 569.0, 547.0, 525.0, 533.0, 580.0, 594.0, 591.0, 598.0, 592.0, 584.0, 573.0, 559.0, 532.0, 505.0, 480.0, 461.0, 438.0, 419.0, 398.0, 384.0, 366.0, 352.0, 336.0, 324.0, 310.0, 291.0, 274.0, 263.0, 247.0, 225.0, 204.0, 181.0, 163.0, 145.0, 124.0, 105.0, 90.0, 76.0, 65.0, 58.0, 44.0, 33.0, 22.0, 16.0, 13.0, 5.0, None, 12.0, 10.0, 14.0, 10.0, None, None, None, None, None, None, None, None, None, None, None, None, None, None, None, None, None, None, None, None, None, None, None, None, None, None, None, None, None, None, None, None, None, None, None, None, None, None, None, None, None, 323.0, 11.0, 15.0, 3.0, None, None, None, None, None, None, None, None, None, None, None, None, None, None, 10.0, 11.0, 12.0, None, None, None, None, None, 309.0, None, None, None, None, None, 324.0, None] \n [0.0, 0.042, 0.083, 0.125, 0.167, 0.208, 0.25, 0.292, 0.333, 0.375, 0.417, 0.458, 0.5, 0.542, 0.583, 0.625, 0.667, 0.708, 0.75, 0.792, 0.833, 0.875, 0.917, 0.958, 1.0, 1.042, 1.083, 1.125, 1.167, 1.208, 1.25, 1.292, 1.333, 1.375, 1.417, 1.458, 1.5, 1.542, 1.583, 1.625, 1.667, 1.708, 1.75, 1.792, 1.833, 1.875, 1.917, 1.958, 2.0, 2.042, 2.083, 2.125, 2.167, 2.208, 2.25, 2.292, 2.333, 2.375, 2.417, 2.458, 2.5, 2.542, 2.583, 2.625, 2.667, 2.708, 2.75, 2.792, 2.833, 2.875, 2.917, 2.958, 3.0, 3.042, 3.083, 3.125, 3.167, 3.208, 3.25, 3.292, 3.333, 3.375, 3.417, 3.458, 3.5, 3.542, 3.583, 3.625, 3.667, 3.708, 3.75, 3.792, 3.833, 3.875, 3.917, 3.958, 4.0, 4.042, 4.083, 4.125, 4.167, 4.208, 4.25, 4.292, 4.333, 4.375, 4.417, 4.458, 4.5, 4.542, 4.583, 4.625, 4.667, 4.708, 4.75, 4.792, 4.833, 4.875, 4.917, 4.958, 5.0, 5.042, 5.083, 5.125, 5.167, 5.208, 5.25, 5.292, 5.333, 5.375, 5.417, 5.458, 5.5, 5.542, 5.583, 5.625, 5.667, 5.708, 5.75, 5.792, 5.833, 5.875, 5.917, 5.958, 6.0, 6.042, 6.083, 6.125, 6.167, 6.208, 6.25, 6.292, 6.333, 6.375, 6.417, 6.458, 6.5, 6.542, 6.583, 6.625, 6.667, 6.708, 6.75, 6.792, 6.833, 6.875, 6.917, 6.958, 7.0, 7.042, 7.083, 7.125, 7.167, 7.208, 7.25, 7.292, 7.333, 7.375, 7.417, 7.458, 7.5, 7.542, 7.583, 7.625, 7.667, 7.708, 7.75, 7.792, 7.833, 7.875, 7.917, 7.958, 8.0, 8.042, 8.083, 8.125, 8.167, 8.208, 8.25, 8.292, 8.333, 8.375, 8.417, 8.458, 8.5, 8.542, 8.583, 8.625, 8.667, 8.708, 8.75, 8.792, 8.833, 8.875, 8.917, 8.958, 9.0, 9.042, 9.083, 9.125, 9.167, 9.208, 9.25, 9.292, 9.333, 9.375, 9.417, 9.458, 9.5, 9.542, 9.583, 9.625, 9.667, 9.708, 9.75, 9.792, 9.833, 9.875, 9.917, 9.958, 10.0, 10.042, 10.083, 10.125, 10.167, 10.208, 10.25, 10.292, 10.333, 10.375, 10.417, 10.458, 10.5, 10.542, 10.583, 10.625, 10.667, 10.708, 10.75, 10.792, 10.833, 10.875, 10.917, 10.958, 11.0, 11.042, 11.083, 11.125, 11.167, 11.208, 11.25, 11.292, 11.333, 11.375]\n"
     ]
    }
   ]
  },
  {
   "source": [
    "# Live\n",
    "\n",
    "Execute cell and press \"q\" to stop video streaming."
   ],
   "cell_type": "markdown",
   "metadata": {}
  },
  {
   "cell_type": "code",
   "execution_count": 26,
   "metadata": {},
   "outputs": [],
   "source": [
    "# Live cam\n",
    "\n",
    "import cv2\n",
    "\n",
    "cap = cv2.VideoCapture(0)\n",
    "\n",
    "while(True):\n",
    "    ret, frame = cap.read()\n",
    "\n",
    "    ######## Code executed on each frame\n",
    "\n",
    "    gray = cv2.cvtColor(frame, cv2.COLOR_BGR2GRAY)\n",
    "    \n",
    "    cv2.imshow('frame',gray)\n",
    "    ########\n",
    "\n",
    "    if cv2.waitKey(1) & 0xFF == ord('q'):\n",
    "        break\n",
    "\n",
    "# When everything done, release the capture\n",
    "cap.release()\n",
    "cv2.destroyAllWindows()"
   ]
  },
  {
   "cell_type": "code",
   "execution_count": null,
   "metadata": {},
   "outputs": [],
   "source": [
    "# TODO\n",
    "'''\n",
    "resume work done\n",
    "\n",
    "check ancienne prises de notes\n",
    "\n",
    "test avec live\n",
    "'''"
   ]
  },
  {
   "source": [
    "# Record video from Webcam\n",
    "\n",
    "Execute cell and press \"q\" to stop video streaming and recording."
   ],
   "cell_type": "markdown",
   "metadata": {}
  },
  {
   "cell_type": "code",
   "execution_count": 28,
   "metadata": {},
   "outputs": [],
   "source": [
    "import cv2\n",
    "\n",
    "video_path = \"C:/Users/Benjamin/Documents/LTU/Neural Net. and Learn. Machines/101 - Retina Project/records/\" #where the video is saved\n",
    "video_name = \"test.mp4\"\n",
    "grayscale = True\n",
    "fps = 24.0\n",
    "\n",
    "capture = cv2.VideoCapture(0) # find the webcam\n",
    "w = capture.get(cv2.CAP_PROP_FRAME_WIDTH)\n",
    "h = capture.get(cv2.CAP_PROP_FRAME_HEIGHT)\n",
    "fourcc = cv2.VideoWriter_fourcc(*'mp4v') #record as mp4 format\n",
    "\n",
    "if grayscale:\n",
    "    video_writer = cv2.VideoWriter(video_path + video_name,fourcc, fps, (int(w),int(h)), 0)\n",
    "else:\n",
    "    video_writer = cv2.VideoWriter(video_path + video_name,fourcc, fps, (int(w),int(h)))\n",
    "\n",
    "# record video\n",
    "while (True):\n",
    "    ret, frame = capture.read()\n",
    "    if ret:\n",
    "        if grayscale: frame = cv2.cvtColor(frame, cv2.COLOR_BGR2GRAY) # convert to grayscale\n",
    "        video_writer.write(frame)\n",
    "        cv2.imshow('Video Stream', frame)\n",
    "\n",
    "    if cv2.waitKey(1) & 0xFF == ord('q'):\n",
    "        break\n",
    "\n",
    "capture.release()\n",
    "video_writer.release()\n",
    "cv2.destroyAllWindows()"
   ]
  }
 ],
 "metadata": {
  "kernelspec": {
   "name": "python3",
   "display_name": "Python 3.6.12 64-bit ('nnlm': conda)",
   "metadata": {
    "interpreter": {
     "hash": "07100375f324e88b5c198d8d72cf6d9cbb57223fc98a05e1e0a892fb9507a1d0"
    }
   }
  },
  "language_info": {
   "codemirror_mode": {
    "name": "ipython",
    "version": 3
   },
   "file_extension": ".py",
   "mimetype": "text/x-python",
   "name": "python",
   "nbconvert_exporter": "python",
   "pygments_lexer": "ipython3",
   "version": "3.6.12-final"
  }
 },
 "nbformat": 4,
 "nbformat_minor": 2
}